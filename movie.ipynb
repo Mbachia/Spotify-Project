{
 "cells": [
  {
   "cell_type": "markdown",
   "metadata": {},
   "source": [
    "# MOVIE RECOMMENDATION SYSTEM"
   ]
  },
  {
   "cell_type": "markdown",
   "metadata": {},
   "source": [
    "## Overview"
   ]
  },
  {
   "cell_type": "markdown",
   "metadata": {},
   "source": [
    "Developing a movie recommendation system to improve the user experience in the entertainment industry. By leveraging historical data , our project aims to enhance customer satisfaction by providing personalized movie suggestions, fostering engagement, and driving user retention"
   ]
  },
  {
   "cell_type": "markdown",
   "metadata": {},
   "source": [
    "##  Business Understanding</small>"
   ]
  },
  {
   "cell_type": "markdown",
   "metadata": {},
   "source": [
    "### Background\n",
    "In this project, our objective is to develop a movie recommendation system utilizing the MovieLens dataset sourced from the GroupLens research lab at the University of Minnesota. This dataset contains user ratings for movies and is widely recognized in academic research and machine learning experiments.\n",
    "\n",
    "### Business Problem\n",
    "The primary goal is to enhance the user experience by providing personalized movie recommendations. The system will suggest the top 5 movies to each user based on their previous ratings. This tailored recommendation system aims to boost user engagement, satisfaction, and overall retention within a movie-streaming platform.\n",
    "\n",
    "### User Interaction\n",
    "Users will interact with the system through the movie-streaming platform, providing feedback through explicit ratings or indicating preferences through likes, dislikes, or their viewing history. The system's design should seamlessly integrate into the platform's user interface, ensuring a smooth and enjoyable user experience.\n",
    "\n",
    "### Collaborative Filtering\n",
    "The recommendation system will heavily rely on collaborative filtering as its primary mechanism. This technique involves making predictions about a user's preferences by aggregating insights from numerous users. Additionally, we may explore a hybrid approach, incorporating content-based filtering to tackle the cold start problem – a scenario where new or unrated movies necessitate recommendations.\n",
    "\n",
    "### Evaluation Metrics\n",
    "To gauge the effectiveness of our recommendation system, we will employ pertinent metrics. Traditional regression metrics like Root Mean Squared Error (RMSE) and Mean Absolute Error (MAE) will be utilized to quantify the accuracy of predictions. These metrics offer valuable insights into the system's proficiency in forecasting user preferences, guiding us in refining its performance."
   ]
  },
  {
   "cell_type": "markdown",
   "metadata": {},
   "source": [
    "## <small>  Problem Statement</small>"
   ]
  },
  {
   "cell_type": "markdown",
   "metadata": {},
   "source": [
    "With so many movie alternatives available nowadays, people find it difficult to choose films that suit their tastes due to information overload. Manual searches take a lot of time, which causes decision fatigue and lowers user engagement on a platform. A customized movie recommendation system that makes use of user-specific information and collaborative filtering methods will address this. By creating an effective recommendation engine that smoothly connects with user profiles, this project seeks to improve user satisfaction and retention by enabling a more efficient and enjoyable exploration of the extensive movie catalogs."
   ]
  },
  {
   "cell_type": "markdown",
   "metadata": {},
   "source": [
    "**OBJECTIVES**\n",
    "\n",
    "Main objective:\n",
    "\n",
    "* To provide personalized movie recommendations tailored to individual user preferences. \n",
    "\n",
    "Specific objectives:\n",
    "\n",
    "* To find the most popular movies by genre \n",
    "* To build a recommendation system that scales efficiently with a growing user base and an expanding movie catalog.\n",
    "* To provide near-real-time movie recommendations based on user interactions"
   ]
  },
  {
   "cell_type": "markdown",
   "metadata": {},
   "source": [
    "##  Reading the data"
   ]
  },
  {
   "cell_type": "code",
   "execution_count": 2,
   "metadata": {},
   "outputs": [
    {
     "name": "stderr",
     "output_type": "stream",
     "text": [
      "[nltk_data] Downloading package stopwords to\n",
      "[nltk_data]     C:\\Users\\ADMIN\\AppData\\Roaming\\nltk_data...\n",
      "[nltk_data]   Package stopwords is already up-to-date!\n",
      "[nltk_data] Downloading package punkt to\n",
      "[nltk_data]     C:\\Users\\ADMIN\\AppData\\Roaming\\nltk_data...\n",
      "[nltk_data]   Unzipping tokenizers\\punkt.zip.\n"
     ]
    },
    {
     "data": {
      "text/plain": [
       "True"
      ]
     },
     "execution_count": 2,
     "metadata": {},
     "output_type": "execute_result"
    }
   ],
   "source": [
    "# Importing the necessary libraries \n",
    "import pandas as pd # For data manipulation and analysis\n",
    "import numpy as np # For numerical operations and array manipulation\n",
    "import matplotlib.pyplot as plt #Data Visualisation\n",
    "%matplotlib inline\n",
    "import warnings\n",
    "import seaborn as sns # for enhanced visualisation\n",
    "warnings.filterwarnings(\"ignore\")\n",
    "import re\n",
    "from sklearn.metrics.pairwise import cosine_similarity\n",
    "import pandas as pd\n",
    "from sklearn.feature_extraction.text import TfidfVectorizer\n",
    "from sklearn.metrics.pairwise import cosine_similarity\n",
    "import nltk\n",
    "from nltk.corpus import stopwords\n",
    "from nltk.tokenize import word_tokenize\n",
    "\n",
    "# Download NLTK stopwords if not already downloaded\n",
    "nltk.download('stopwords')\n",
    "nltk.download('punkt')"
   ]
  },
  {
   "cell_type": "code",
   "execution_count": 3,
   "metadata": {},
   "outputs": [
    {
     "name": "stdout",
     "output_type": "stream",
     "text": [
      "Dataframe shape (2328315, 4)\n",
      "Dataframe shape (86537, 3)\n",
      "Dataframe shape (33832162, 4)\n"
     ]
    }
   ],
   "source": [
    "# Loading the datasets\n",
    "tags_data = pd.read_csv(\"tags.csv\")\n",
    "movies_data = pd.read_csv(\"movies.csv\")\n",
    "ratings_data = pd.read_csv(\"ratings.csv\")\n",
    "# Preview the shape of the dataset\n",
    "print('Dataframe shape {}'.format(tags_data.shape))\n",
    "print('Dataframe shape {}'.format(movies_data.shape))\n",
    "print('Dataframe shape {}'.format(ratings_data.shape))"
   ]
  },
  {
   "cell_type": "code",
   "execution_count": 4,
   "metadata": {},
   "outputs": [
    {
     "ename": "MemoryError",
     "evalue": "Unable to allocate 221. GiB for an array with shape (29658559308,) and data type int64",
     "output_type": "error",
     "traceback": [
      "\u001b[1;31m---------------------------------------------------------------------------\u001b[0m",
      "\u001b[1;31mMemoryError\u001b[0m                               Traceback (most recent call last)",
      "Cell \u001b[1;32mIn[4], line 5\u001b[0m\n\u001b[0;32m      2\u001b[0m merged_df \u001b[38;5;241m=\u001b[39m pd\u001b[38;5;241m.\u001b[39mmerge(movies_data, tags_data, on\u001b[38;5;241m=\u001b[39m\u001b[38;5;124m'\u001b[39m\u001b[38;5;124mmovieId\u001b[39m\u001b[38;5;124m'\u001b[39m, how\u001b[38;5;241m=\u001b[39m\u001b[38;5;124m'\u001b[39m\u001b[38;5;124minner\u001b[39m\u001b[38;5;124m'\u001b[39m)\n\u001b[0;32m      4\u001b[0m \u001b[38;5;66;03m# Merge the result with ratings_data on 'movieId'\u001b[39;00m\n\u001b[1;32m----> 5\u001b[0m merged_df \u001b[38;5;241m=\u001b[39m \u001b[43mpd\u001b[49m\u001b[38;5;241;43m.\u001b[39;49m\u001b[43mmerge\u001b[49m\u001b[43m(\u001b[49m\u001b[43mmerged_df\u001b[49m\u001b[43m,\u001b[49m\u001b[43m \u001b[49m\u001b[43mratings_data\u001b[49m\u001b[43m,\u001b[49m\u001b[43m \u001b[49m\u001b[43mon\u001b[49m\u001b[38;5;241;43m=\u001b[39;49m\u001b[38;5;124;43m'\u001b[39;49m\u001b[38;5;124;43mmovieId\u001b[39;49m\u001b[38;5;124;43m'\u001b[39;49m\u001b[43m,\u001b[49m\u001b[43m \u001b[49m\u001b[43mhow\u001b[49m\u001b[38;5;241;43m=\u001b[39;49m\u001b[38;5;124;43m'\u001b[39;49m\u001b[38;5;124;43minner\u001b[39;49m\u001b[38;5;124;43m'\u001b[39;49m\u001b[43m)\u001b[49m\n\u001b[0;32m      7\u001b[0m \u001b[38;5;66;03m# Display the resulting DataFrame\u001b[39;00m\n\u001b[0;32m      8\u001b[0m \u001b[38;5;28mprint\u001b[39m(merged_df)\n",
      "File \u001b[1;32mc:\\Users\\ADMIN\\anaconda3\\envs\\learn-env\\Lib\\site-packages\\pandas\\core\\reshape\\merge.py:183\u001b[0m, in \u001b[0;36mmerge\u001b[1;34m(left, right, how, on, left_on, right_on, left_index, right_index, sort, suffixes, copy, indicator, validate)\u001b[0m\n\u001b[0;32m    168\u001b[0m \u001b[38;5;28;01melse\u001b[39;00m:\n\u001b[0;32m    169\u001b[0m     op \u001b[38;5;241m=\u001b[39m _MergeOperation(\n\u001b[0;32m    170\u001b[0m         left_df,\n\u001b[0;32m    171\u001b[0m         right_df,\n\u001b[1;32m   (...)\u001b[0m\n\u001b[0;32m    181\u001b[0m         validate\u001b[38;5;241m=\u001b[39mvalidate,\n\u001b[0;32m    182\u001b[0m     )\n\u001b[1;32m--> 183\u001b[0m     \u001b[38;5;28;01mreturn\u001b[39;00m \u001b[43mop\u001b[49m\u001b[38;5;241;43m.\u001b[39;49m\u001b[43mget_result\u001b[49m\u001b[43m(\u001b[49m\u001b[43mcopy\u001b[49m\u001b[38;5;241;43m=\u001b[39;49m\u001b[43mcopy\u001b[49m\u001b[43m)\u001b[49m\n",
      "File \u001b[1;32mc:\\Users\\ADMIN\\anaconda3\\envs\\learn-env\\Lib\\site-packages\\pandas\\core\\reshape\\merge.py:883\u001b[0m, in \u001b[0;36m_MergeOperation.get_result\u001b[1;34m(self, copy)\u001b[0m\n\u001b[0;32m    880\u001b[0m \u001b[38;5;28;01mif\u001b[39;00m \u001b[38;5;28mself\u001b[39m\u001b[38;5;241m.\u001b[39mindicator:\n\u001b[0;32m    881\u001b[0m     \u001b[38;5;28mself\u001b[39m\u001b[38;5;241m.\u001b[39mleft, \u001b[38;5;28mself\u001b[39m\u001b[38;5;241m.\u001b[39mright \u001b[38;5;241m=\u001b[39m \u001b[38;5;28mself\u001b[39m\u001b[38;5;241m.\u001b[39m_indicator_pre_merge(\u001b[38;5;28mself\u001b[39m\u001b[38;5;241m.\u001b[39mleft, \u001b[38;5;28mself\u001b[39m\u001b[38;5;241m.\u001b[39mright)\n\u001b[1;32m--> 883\u001b[0m join_index, left_indexer, right_indexer \u001b[38;5;241m=\u001b[39m \u001b[38;5;28;43mself\u001b[39;49m\u001b[38;5;241;43m.\u001b[39;49m\u001b[43m_get_join_info\u001b[49m\u001b[43m(\u001b[49m\u001b[43m)\u001b[49m\n\u001b[0;32m    885\u001b[0m result \u001b[38;5;241m=\u001b[39m \u001b[38;5;28mself\u001b[39m\u001b[38;5;241m.\u001b[39m_reindex_and_concat(\n\u001b[0;32m    886\u001b[0m     join_index, left_indexer, right_indexer, copy\u001b[38;5;241m=\u001b[39mcopy\n\u001b[0;32m    887\u001b[0m )\n\u001b[0;32m    888\u001b[0m result \u001b[38;5;241m=\u001b[39m result\u001b[38;5;241m.\u001b[39m__finalize__(\u001b[38;5;28mself\u001b[39m, method\u001b[38;5;241m=\u001b[39m\u001b[38;5;28mself\u001b[39m\u001b[38;5;241m.\u001b[39m_merge_type)\n",
      "File \u001b[1;32mc:\\Users\\ADMIN\\anaconda3\\envs\\learn-env\\Lib\\site-packages\\pandas\\core\\reshape\\merge.py:1133\u001b[0m, in \u001b[0;36m_MergeOperation._get_join_info\u001b[1;34m(self)\u001b[0m\n\u001b[0;32m   1129\u001b[0m     join_index, right_indexer, left_indexer \u001b[38;5;241m=\u001b[39m _left_join_on_index(\n\u001b[0;32m   1130\u001b[0m         right_ax, left_ax, \u001b[38;5;28mself\u001b[39m\u001b[38;5;241m.\u001b[39mright_join_keys, sort\u001b[38;5;241m=\u001b[39m\u001b[38;5;28mself\u001b[39m\u001b[38;5;241m.\u001b[39msort\n\u001b[0;32m   1131\u001b[0m     )\n\u001b[0;32m   1132\u001b[0m \u001b[38;5;28;01melse\u001b[39;00m:\n\u001b[1;32m-> 1133\u001b[0m     (left_indexer, right_indexer) \u001b[38;5;241m=\u001b[39m \u001b[38;5;28;43mself\u001b[39;49m\u001b[38;5;241;43m.\u001b[39;49m\u001b[43m_get_join_indexers\u001b[49m\u001b[43m(\u001b[49m\u001b[43m)\u001b[49m\n\u001b[0;32m   1135\u001b[0m     \u001b[38;5;28;01mif\u001b[39;00m \u001b[38;5;28mself\u001b[39m\u001b[38;5;241m.\u001b[39mright_index:\n\u001b[0;32m   1136\u001b[0m         \u001b[38;5;28;01mif\u001b[39;00m \u001b[38;5;28mlen\u001b[39m(\u001b[38;5;28mself\u001b[39m\u001b[38;5;241m.\u001b[39mleft) \u001b[38;5;241m>\u001b[39m \u001b[38;5;241m0\u001b[39m:\n",
      "File \u001b[1;32mc:\\Users\\ADMIN\\anaconda3\\envs\\learn-env\\Lib\\site-packages\\pandas\\core\\reshape\\merge.py:1105\u001b[0m, in \u001b[0;36m_MergeOperation._get_join_indexers\u001b[1;34m(self)\u001b[0m\n\u001b[0;32m   1103\u001b[0m \u001b[38;5;28;01mdef\u001b[39;00m \u001b[38;5;21m_get_join_indexers\u001b[39m(\u001b[38;5;28mself\u001b[39m) \u001b[38;5;241m-\u001b[39m\u001b[38;5;241m>\u001b[39m \u001b[38;5;28mtuple\u001b[39m[npt\u001b[38;5;241m.\u001b[39mNDArray[np\u001b[38;5;241m.\u001b[39mintp], npt\u001b[38;5;241m.\u001b[39mNDArray[np\u001b[38;5;241m.\u001b[39mintp]]:\n\u001b[0;32m   1104\u001b[0m \u001b[38;5;250m    \u001b[39m\u001b[38;5;124;03m\"\"\"return the join indexers\"\"\"\u001b[39;00m\n\u001b[1;32m-> 1105\u001b[0m     \u001b[38;5;28;01mreturn\u001b[39;00m \u001b[43mget_join_indexers\u001b[49m\u001b[43m(\u001b[49m\n\u001b[0;32m   1106\u001b[0m \u001b[43m        \u001b[49m\u001b[38;5;28;43mself\u001b[39;49m\u001b[38;5;241;43m.\u001b[39;49m\u001b[43mleft_join_keys\u001b[49m\u001b[43m,\u001b[49m\u001b[43m \u001b[49m\u001b[38;5;28;43mself\u001b[39;49m\u001b[38;5;241;43m.\u001b[39;49m\u001b[43mright_join_keys\u001b[49m\u001b[43m,\u001b[49m\u001b[43m \u001b[49m\u001b[43msort\u001b[49m\u001b[38;5;241;43m=\u001b[39;49m\u001b[38;5;28;43mself\u001b[39;49m\u001b[38;5;241;43m.\u001b[39;49m\u001b[43msort\u001b[49m\u001b[43m,\u001b[49m\u001b[43m \u001b[49m\u001b[43mhow\u001b[49m\u001b[38;5;241;43m=\u001b[39;49m\u001b[38;5;28;43mself\u001b[39;49m\u001b[38;5;241;43m.\u001b[39;49m\u001b[43mhow\u001b[49m\n\u001b[0;32m   1107\u001b[0m \u001b[43m    \u001b[49m\u001b[43m)\u001b[49m\n",
      "File \u001b[1;32mc:\\Users\\ADMIN\\anaconda3\\envs\\learn-env\\Lib\\site-packages\\pandas\\core\\reshape\\merge.py:1728\u001b[0m, in \u001b[0;36mget_join_indexers\u001b[1;34m(left_keys, right_keys, sort, how)\u001b[0m\n\u001b[0;32m   1718\u001b[0m join_func \u001b[38;5;241m=\u001b[39m {\n\u001b[0;32m   1719\u001b[0m     \u001b[38;5;124m\"\u001b[39m\u001b[38;5;124minner\u001b[39m\u001b[38;5;124m\"\u001b[39m: libjoin\u001b[38;5;241m.\u001b[39minner_join,\n\u001b[0;32m   1720\u001b[0m     \u001b[38;5;124m\"\u001b[39m\u001b[38;5;124mleft\u001b[39m\u001b[38;5;124m\"\u001b[39m: libjoin\u001b[38;5;241m.\u001b[39mleft_outer_join,\n\u001b[1;32m   (...)\u001b[0m\n\u001b[0;32m   1724\u001b[0m     \u001b[38;5;124m\"\u001b[39m\u001b[38;5;124mouter\u001b[39m\u001b[38;5;124m\"\u001b[39m: libjoin\u001b[38;5;241m.\u001b[39mfull_outer_join,\n\u001b[0;32m   1725\u001b[0m }[how]\n\u001b[0;32m   1727\u001b[0m \u001b[38;5;66;03m# error: Cannot call function of unknown type\u001b[39;00m\n\u001b[1;32m-> 1728\u001b[0m \u001b[38;5;28;01mreturn\u001b[39;00m \u001b[43mjoin_func\u001b[49m\u001b[43m(\u001b[49m\u001b[43mlkey\u001b[49m\u001b[43m,\u001b[49m\u001b[43m \u001b[49m\u001b[43mrkey\u001b[49m\u001b[43m,\u001b[49m\u001b[43m \u001b[49m\u001b[43mcount\u001b[49m\u001b[43m,\u001b[49m\u001b[43m \u001b[49m\u001b[38;5;241;43m*\u001b[39;49m\u001b[38;5;241;43m*\u001b[39;49m\u001b[43mkwargs\u001b[49m\u001b[43m)\u001b[49m\n",
      "File \u001b[1;32mjoin.pyx:48\u001b[0m, in \u001b[0;36mpandas._libs.join.inner_join\u001b[1;34m()\u001b[0m\n",
      "\u001b[1;31mMemoryError\u001b[0m: Unable to allocate 221. GiB for an array with shape (29658559308,) and data type int64"
     ]
    }
   ],
   "source": [
    "# Merge movies_data and tags_data on 'movieId'\n",
    "merged_df = pd.merge(movies_data, tags_data, on='movieId', how='inner')\n",
    "\n",
    "# Merge the result with ratings_data on 'movieId'\n",
    "merged_df = pd.merge(merged_df, ratings_data, on='movieId', how='inner')\n",
    "\n",
    "# Display the resulting DataFrame\n",
    "print(merged_df)"
   ]
  },
  {
   "cell_type": "code",
   "execution_count": null,
   "metadata": {},
   "outputs": [
    {
     "data": {
      "text/plain": [
       "(233213, 9)"
      ]
     },
     "execution_count": 139,
     "metadata": {},
     "output_type": "execute_result"
    }
   ],
   "source": [
    "merged_df.shape"
   ]
  },
  {
   "cell_type": "code",
   "execution_count": null,
   "metadata": {},
   "outputs": [],
   "source": [
    "#  Creating a class for exploring and analyzing Pandas DataFrames.\n",
    "class DataExplorer:\n",
    "    def __init__(self, data):\n",
    "        \"\"\"\n",
    "        Initialize the DataExplorer class with a dataset.\n",
    "        :param data: Pandas DataFrame\n",
    "        \"\"\"\n",
    "        self.data = data\n",
    "        \n",
    "    def check_head(self, rows=5):\n",
    "        \"\"\"\n",
    "        Display the first few rows of the dataset.\n",
    "        :return: Pandas DataFrame showing the head of the dataset\n",
    "        \"\"\"\n",
    "        return self.data.head(rows)\n",
    "    \n",
    "    def check_info(self):\n",
    "        \"\"\"\n",
    "        Display information about the dataset (data types, memory usage, etc.).\n",
    "        \"\"\"\n",
    "        return self.data.info()\n",
    "    \n",
    "    def check_describe(self):\n",
    "        \"\"\"\n",
    "        Generate descriptive statistics of the dataset (count, mean, etc.).\n",
    "        :return: Pandas DataFrame with descriptive statistics\n",
    "        \"\"\"\n",
    "        return self.data.describe()\n",
    "    "
   ]
  },
  {
   "cell_type": "code",
   "execution_count": null,
   "metadata": {},
   "outputs": [
    {
     "name": "stdout",
     "output_type": "stream",
     "text": [
      "Head of the dataset:\n",
      "   userId_x  movieId  rating  timestamp_x             title  \\\n",
      "0         1        1     4.0    964982703  Toy Story (1995)   \n",
      "1         1        1     4.0    964982703  Toy Story (1995)   \n",
      "2         1        1     4.0    964982703  Toy Story (1995)   \n",
      "3         5        1     4.0    847434962  Toy Story (1995)   \n",
      "4         5        1     4.0    847434962  Toy Story (1995)   \n",
      "\n",
      "                                        genres  userId_y    tag  timestamp_y  \n",
      "0  Adventure|Animation|Children|Comedy|Fantasy       336  pixar   1139045764  \n",
      "1  Adventure|Animation|Children|Comedy|Fantasy       474  pixar   1137206825  \n",
      "2  Adventure|Animation|Children|Comedy|Fantasy       567    fun   1525286013  \n",
      "3  Adventure|Animation|Children|Comedy|Fantasy       336  pixar   1139045764  \n",
      "4  Adventure|Animation|Children|Comedy|Fantasy       474  pixar   1137206825  \n",
      "\n",
      "Dataset info:\n",
      "<class 'pandas.core.frame.DataFrame'>\n",
      "Int64Index: 233213 entries, 0 to 233212\n",
      "Data columns (total 9 columns):\n",
      " #   Column       Non-Null Count   Dtype  \n",
      "---  ------       --------------   -----  \n",
      " 0   userId_x     233213 non-null  int64  \n",
      " 1   movieId      233213 non-null  int64  \n",
      " 2   rating       233213 non-null  float64\n",
      " 3   timestamp_x  233213 non-null  int64  \n",
      " 4   title        233213 non-null  object \n",
      " 5   genres       233213 non-null  object \n",
      " 6   userId_y     233213 non-null  int64  \n",
      " 7   tag          233213 non-null  object \n",
      " 8   timestamp_y  233213 non-null  int64  \n",
      "dtypes: float64(1), int64(5), object(3)\n",
      "memory usage: 17.8+ MB\n",
      "\n",
      "Dataset statistics:\n",
      "            userId_x        movieId         rating   timestamp_x  \\\n",
      "count  233213.000000  233213.000000  233213.000000  2.332130e+05   \n",
      "mean      309.688191   12319.999443       3.966535  1.213524e+09   \n",
      "std       178.206387   28243.919401       0.968637  2.250448e+08   \n",
      "min         1.000000       1.000000       0.500000  8.281246e+08   \n",
      "25%       156.000000     296.000000       3.500000  1.017365e+09   \n",
      "50%       309.000000    1198.000000       4.000000  1.217325e+09   \n",
      "75%       460.000000    4638.000000       5.000000  1.443201e+09   \n",
      "max       610.000000  193565.000000       5.000000  1.537799e+09   \n",
      "\n",
      "            userId_y   timestamp_y  \n",
      "count  233213.000000  2.332130e+05  \n",
      "mean      470.683564  1.384774e+09  \n",
      "std       153.329632  1.534621e+08  \n",
      "min         2.000000  1.137179e+09  \n",
      "25%       424.000000  1.242494e+09  \n",
      "50%       477.000000  1.457901e+09  \n",
      "75%       599.000000  1.498457e+09  \n",
      "max       610.000000  1.537099e+09  \n"
     ]
    }
   ],
   "source": [
    "# Instatiating the class\n",
    "explorer = DataExplorer(merged_df)\n",
    "\n",
    "# Check the head of the dataset\n",
    "print(\"Head of the dataset:\")\n",
    "print(explorer.check_head())\n",
    "\n",
    "# Check dataset info\n",
    "print(\"\\nDataset info:\")\n",
    "explorer.check_info()\n",
    "\n",
    "# Check dataset description\n",
    "print(\"\\nDataset statistics:\")\n",
    "print(explorer.check_describe())"
   ]
  },
  {
   "cell_type": "markdown",
   "metadata": {},
   "source": [
    "# Data Cleaning"
   ]
  },
  {
   "cell_type": "markdown",
   "metadata": {},
   "source": [
    "This section prepares the data for EDA and modeling. The dataset will be checked for:\n",
    "\n",
    "- duplicated rows\n",
    "- missing values\n",
    "- extracting release year from title"
   ]
  },
  {
   "cell_type": "code",
   "execution_count": null,
   "metadata": {},
   "outputs": [
    {
     "data": {
      "text/plain": [
       "userId_x       0\n",
       "movieId        0\n",
       "rating         0\n",
       "timestamp_x    0\n",
       "title          0\n",
       "genres         0\n",
       "userId_y       0\n",
       "tag            0\n",
       "timestamp_y    0\n",
       "dtype: int64"
      ]
     },
     "execution_count": 142,
     "metadata": {},
     "output_type": "execute_result"
    }
   ],
   "source": [
    "# Checking for missing values in the dataset\n",
    "merged_df.isnull().sum().T"
   ]
  },
  {
   "cell_type": "markdown",
   "metadata": {},
   "source": [
    "The data has a no missing values."
   ]
  },
  {
   "cell_type": "code",
   "execution_count": null,
   "metadata": {},
   "outputs": [
    {
     "data": {
      "text/html": [
       "<div>\n",
       "<style scoped>\n",
       "    .dataframe tbody tr th:only-of-type {\n",
       "        vertical-align: middle;\n",
       "    }\n",
       "\n",
       "    .dataframe tbody tr th {\n",
       "        vertical-align: top;\n",
       "    }\n",
       "\n",
       "    .dataframe thead th {\n",
       "        text-align: right;\n",
       "    }\n",
       "</style>\n",
       "<table border=\"1\" class=\"dataframe\">\n",
       "  <thead>\n",
       "    <tr style=\"text-align: right;\">\n",
       "      <th></th>\n",
       "      <th>userId_x</th>\n",
       "      <th>movieId</th>\n",
       "      <th>rating</th>\n",
       "      <th>timestamp_x</th>\n",
       "      <th>title</th>\n",
       "      <th>genres</th>\n",
       "      <th>userId_y</th>\n",
       "      <th>tag</th>\n",
       "      <th>timestamp_y</th>\n",
       "    </tr>\n",
       "  </thead>\n",
       "  <tbody>\n",
       "    <tr>\n",
       "      <th>0</th>\n",
       "      <td>1</td>\n",
       "      <td>1</td>\n",
       "      <td>4.0</td>\n",
       "      <td>964982703</td>\n",
       "      <td>Toy Story (1995)</td>\n",
       "      <td>Adventure|Animation|Children|Comedy|Fantasy</td>\n",
       "      <td>336</td>\n",
       "      <td>pixar</td>\n",
       "      <td>1139045764</td>\n",
       "    </tr>\n",
       "    <tr>\n",
       "      <th>1</th>\n",
       "      <td>1</td>\n",
       "      <td>1</td>\n",
       "      <td>4.0</td>\n",
       "      <td>964982703</td>\n",
       "      <td>Toy Story (1995)</td>\n",
       "      <td>Adventure|Animation|Children|Comedy|Fantasy</td>\n",
       "      <td>474</td>\n",
       "      <td>pixar</td>\n",
       "      <td>1137206825</td>\n",
       "    </tr>\n",
       "    <tr>\n",
       "      <th>2</th>\n",
       "      <td>1</td>\n",
       "      <td>1</td>\n",
       "      <td>4.0</td>\n",
       "      <td>964982703</td>\n",
       "      <td>Toy Story (1995)</td>\n",
       "      <td>Adventure|Animation|Children|Comedy|Fantasy</td>\n",
       "      <td>567</td>\n",
       "      <td>fun</td>\n",
       "      <td>1525286013</td>\n",
       "    </tr>\n",
       "    <tr>\n",
       "      <th>3</th>\n",
       "      <td>5</td>\n",
       "      <td>1</td>\n",
       "      <td>4.0</td>\n",
       "      <td>847434962</td>\n",
       "      <td>Toy Story (1995)</td>\n",
       "      <td>Adventure|Animation|Children|Comedy|Fantasy</td>\n",
       "      <td>336</td>\n",
       "      <td>pixar</td>\n",
       "      <td>1139045764</td>\n",
       "    </tr>\n",
       "    <tr>\n",
       "      <th>4</th>\n",
       "      <td>5</td>\n",
       "      <td>1</td>\n",
       "      <td>4.0</td>\n",
       "      <td>847434962</td>\n",
       "      <td>Toy Story (1995)</td>\n",
       "      <td>Adventure|Animation|Children|Comedy|Fantasy</td>\n",
       "      <td>474</td>\n",
       "      <td>pixar</td>\n",
       "      <td>1137206825</td>\n",
       "    </tr>\n",
       "  </tbody>\n",
       "</table>\n",
       "</div>"
      ],
      "text/plain": [
       "   userId_x  movieId  rating  timestamp_x             title  \\\n",
       "0         1        1     4.0    964982703  Toy Story (1995)   \n",
       "1         1        1     4.0    964982703  Toy Story (1995)   \n",
       "2         1        1     4.0    964982703  Toy Story (1995)   \n",
       "3         5        1     4.0    847434962  Toy Story (1995)   \n",
       "4         5        1     4.0    847434962  Toy Story (1995)   \n",
       "\n",
       "                                        genres  userId_y    tag  timestamp_y  \n",
       "0  Adventure|Animation|Children|Comedy|Fantasy       336  pixar   1139045764  \n",
       "1  Adventure|Animation|Children|Comedy|Fantasy       474  pixar   1137206825  \n",
       "2  Adventure|Animation|Children|Comedy|Fantasy       567    fun   1525286013  \n",
       "3  Adventure|Animation|Children|Comedy|Fantasy       336  pixar   1139045764  \n",
       "4  Adventure|Animation|Children|Comedy|Fantasy       474  pixar   1137206825  "
      ]
     },
     "execution_count": 144,
     "metadata": {},
     "output_type": "execute_result"
    }
   ],
   "source": [
    "merged_df.head()"
   ]
  },
  {
   "cell_type": "code",
   "execution_count": null,
   "metadata": {},
   "outputs": [
    {
     "ename": "NameError",
     "evalue": "name 'merged_df' is not defined",
     "output_type": "error",
     "traceback": [
      "\u001b[1;31m---------------------------------------------------------------------------\u001b[0m",
      "\u001b[1;31mNameError\u001b[0m                                 Traceback (most recent call last)",
      "Cell \u001b[1;32mIn[1], line 7\u001b[0m\n\u001b[0;32m      4\u001b[0m     \u001b[38;5;28;01mreturn\u001b[39;00m match\u001b[38;5;241m.\u001b[39mgroup(\u001b[38;5;241m1\u001b[39m) \u001b[38;5;28;01mif\u001b[39;00m match \u001b[38;5;28;01melse\u001b[39;00m \u001b[38;5;28;01mNone\u001b[39;00m\n\u001b[0;32m      6\u001b[0m \u001b[38;5;66;03m# Apply the function to create a new 'year' column\u001b[39;00m\n\u001b[1;32m----> 7\u001b[0m merged_df[\u001b[38;5;124m'\u001b[39m\u001b[38;5;124myear\u001b[39m\u001b[38;5;124m'\u001b[39m] \u001b[38;5;241m=\u001b[39m \u001b[43mmerged_df\u001b[49m[\u001b[38;5;124m'\u001b[39m\u001b[38;5;124mtitle\u001b[39m\u001b[38;5;124m'\u001b[39m]\u001b[38;5;241m.\u001b[39mapply(extract_year)\n\u001b[0;32m      9\u001b[0m \u001b[38;5;66;03m# Remove the year from the 'title' column\u001b[39;00m\n\u001b[0;32m     10\u001b[0m merged_df[\u001b[38;5;124m'\u001b[39m\u001b[38;5;124mtitle\u001b[39m\u001b[38;5;124m'\u001b[39m] \u001b[38;5;241m=\u001b[39m merged_df[\u001b[38;5;124m'\u001b[39m\u001b[38;5;124mtitle\u001b[39m\u001b[38;5;124m'\u001b[39m]\u001b[38;5;241m.\u001b[39mstr\u001b[38;5;241m.\u001b[39mreplace(\u001b[38;5;124mr\u001b[39m\u001b[38;5;124m'\u001b[39m\u001b[38;5;124m\\\u001b[39m\u001b[38;5;124ms*\u001b[39m\u001b[38;5;124m\\\u001b[39m\u001b[38;5;124m(\u001b[39m\u001b[38;5;124m\\\u001b[39m\u001b[38;5;124md\u001b[39m\u001b[38;5;132;01m{4}\u001b[39;00m\u001b[38;5;124m\\\u001b[39m\u001b[38;5;124m)\u001b[39m\u001b[38;5;124m'\u001b[39m, \u001b[38;5;124m'\u001b[39m\u001b[38;5;124m'\u001b[39m, regex\u001b[38;5;241m=\u001b[39m\u001b[38;5;28;01mTrue\u001b[39;00m)\n",
      "\u001b[1;31mNameError\u001b[0m: name 'merged_df' is not defined"
     ]
    }
   ],
   "source": [
    "# Function to extract the year from the title\n",
    "def extract_year(title):\n",
    "    match = re.search(r'\\((\\d{4})\\)', title)\n",
    "    return match.group(1) if match else None\n",
    "\n",
    "# Apply the function to create a new 'year' column\n",
    "merged_df['year'] = merged_df['title'].apply(extract_year)\n",
    "\n",
    "# Remove the year from the 'title' column\n",
    "merged_df['title'] = merged_df['title'].str.replace(r'\\s*\\(\\d{4}\\)', '', regex=True)\n",
    "\n",
    "# Display the updated DataFrame\n",
    "print(merged_df.head())"
   ]
  },
  {
   "cell_type": "code",
   "execution_count": null,
   "metadata": {},
   "outputs": [
    {
     "name": "stdout",
     "output_type": "stream",
     "text": [
      "   userId_x  movieId  rating  timestamp_x      title     genres  userId_y  \\\n",
      "0         1        1     4.0    964982703  Toy Story  Adventure       336   \n",
      "0         1        1     4.0    964982703  Toy Story  Animation       336   \n",
      "0         1        1     4.0    964982703  Toy Story   Children       336   \n",
      "0         1        1     4.0    964982703  Toy Story     Comedy       336   \n",
      "0         1        1     4.0    964982703  Toy Story    Fantasy       336   \n",
      "\n",
      "     tag  timestamp_y    year  \n",
      "0  pixar   1139045764  1995.0  \n",
      "0  pixar   1139045764  1995.0  \n",
      "0  pixar   1139045764  1995.0  \n",
      "0  pixar   1139045764  1995.0  \n",
      "0  pixar   1139045764  1995.0  \n"
     ]
    }
   ],
   "source": [
    "# # Split the genres column into a list of genres\n",
    "# merged_df['genres'] = merged_df['genres'].str.split('|')\n",
    "df = merged_df.explode('genres')\n",
    "\n",
    "# Display the updated DataFrame\n",
    "print(df.head())"
   ]
  },
  {
   "cell_type": "code",
   "execution_count": null,
   "metadata": {},
   "outputs": [
    {
     "name": "stdout",
     "output_type": "stream",
     "text": [
      "Rows with null values in the 'genres' column:\n",
      "Empty DataFrame\n",
      "Columns: [userId_x, movieId, rating, timestamp_x, title, genres, userId_y, tag, timestamp_y, year]\n",
      "Index: []\n"
     ]
    }
   ],
   "source": [
    "# Check for null values within the lists in the 'genres' column\n",
    "null_values_in_genres = merged_df['genres'].apply(lambda x: any(pd.isnull(i) for i in x))\n",
    "\n",
    "# Display the rows where null values are present in the 'genres' column\n",
    "rows_with_null_values = merged_df[null_values_in_genres]\n",
    "print(\"Rows with null values in the 'genres' column:\")\n",
    "print(rows_with_null_values)"
   ]
  },
  {
   "cell_type": "markdown",
   "metadata": {},
   "source": [
    "The genre column has no missing values"
   ]
  },
  {
   "cell_type": "code",
   "execution_count": null,
   "metadata": {},
   "outputs": [
    {
     "data": {
      "text/html": [
       "<div>\n",
       "<style scoped>\n",
       "    .dataframe tbody tr th:only-of-type {\n",
       "        vertical-align: middle;\n",
       "    }\n",
       "\n",
       "    .dataframe tbody tr th {\n",
       "        vertical-align: top;\n",
       "    }\n",
       "\n",
       "    .dataframe thead th {\n",
       "        text-align: right;\n",
       "    }\n",
       "</style>\n",
       "<table border=\"1\" class=\"dataframe\">\n",
       "  <thead>\n",
       "    <tr style=\"text-align: right;\">\n",
       "      <th></th>\n",
       "      <th>userId_x</th>\n",
       "      <th>movieId</th>\n",
       "      <th>rating</th>\n",
       "      <th>timestamp_x</th>\n",
       "      <th>title</th>\n",
       "      <th>genres</th>\n",
       "      <th>userId_y</th>\n",
       "      <th>tag</th>\n",
       "      <th>timestamp_y</th>\n",
       "      <th>year</th>\n",
       "    </tr>\n",
       "  </thead>\n",
       "  <tbody>\n",
       "    <tr>\n",
       "      <th>0</th>\n",
       "      <td>1</td>\n",
       "      <td>1</td>\n",
       "      <td>4.0</td>\n",
       "      <td>964982703</td>\n",
       "      <td>Toy Story</td>\n",
       "      <td>[Adventure, Animation, Children, Comedy, Fantasy]</td>\n",
       "      <td>336</td>\n",
       "      <td>pixar</td>\n",
       "      <td>1139045764</td>\n",
       "      <td>1995.0</td>\n",
       "    </tr>\n",
       "    <tr>\n",
       "      <th>1</th>\n",
       "      <td>1</td>\n",
       "      <td>1</td>\n",
       "      <td>4.0</td>\n",
       "      <td>964982703</td>\n",
       "      <td>Toy Story</td>\n",
       "      <td>[Adventure, Animation, Children, Comedy, Fantasy]</td>\n",
       "      <td>474</td>\n",
       "      <td>pixar</td>\n",
       "      <td>1137206825</td>\n",
       "      <td>1995.0</td>\n",
       "    </tr>\n",
       "    <tr>\n",
       "      <th>2</th>\n",
       "      <td>1</td>\n",
       "      <td>1</td>\n",
       "      <td>4.0</td>\n",
       "      <td>964982703</td>\n",
       "      <td>Toy Story</td>\n",
       "      <td>[Adventure, Animation, Children, Comedy, Fantasy]</td>\n",
       "      <td>567</td>\n",
       "      <td>fun</td>\n",
       "      <td>1525286013</td>\n",
       "      <td>1995.0</td>\n",
       "    </tr>\n",
       "    <tr>\n",
       "      <th>3</th>\n",
       "      <td>5</td>\n",
       "      <td>1</td>\n",
       "      <td>4.0</td>\n",
       "      <td>847434962</td>\n",
       "      <td>Toy Story</td>\n",
       "      <td>[Adventure, Animation, Children, Comedy, Fantasy]</td>\n",
       "      <td>336</td>\n",
       "      <td>pixar</td>\n",
       "      <td>1139045764</td>\n",
       "      <td>1995.0</td>\n",
       "    </tr>\n",
       "    <tr>\n",
       "      <th>4</th>\n",
       "      <td>5</td>\n",
       "      <td>1</td>\n",
       "      <td>4.0</td>\n",
       "      <td>847434962</td>\n",
       "      <td>Toy Story</td>\n",
       "      <td>[Adventure, Animation, Children, Comedy, Fantasy]</td>\n",
       "      <td>474</td>\n",
       "      <td>pixar</td>\n",
       "      <td>1137206825</td>\n",
       "      <td>1995.0</td>\n",
       "    </tr>\n",
       "  </tbody>\n",
       "</table>\n",
       "</div>"
      ],
      "text/plain": [
       "   userId_x  movieId  rating  timestamp_x      title  \\\n",
       "0         1        1     4.0    964982703  Toy Story   \n",
       "1         1        1     4.0    964982703  Toy Story   \n",
       "2         1        1     4.0    964982703  Toy Story   \n",
       "3         5        1     4.0    847434962  Toy Story   \n",
       "4         5        1     4.0    847434962  Toy Story   \n",
       "\n",
       "                                              genres  userId_y    tag  \\\n",
       "0  [Adventure, Animation, Children, Comedy, Fantasy]       336  pixar   \n",
       "1  [Adventure, Animation, Children, Comedy, Fantasy]       474  pixar   \n",
       "2  [Adventure, Animation, Children, Comedy, Fantasy]       567    fun   \n",
       "3  [Adventure, Animation, Children, Comedy, Fantasy]       336  pixar   \n",
       "4  [Adventure, Animation, Children, Comedy, Fantasy]       474  pixar   \n",
       "\n",
       "   timestamp_y    year  \n",
       "0   1139045764  1995.0  \n",
       "1   1137206825  1995.0  \n",
       "2   1525286013  1995.0  \n",
       "3   1139045764  1995.0  \n",
       "4   1137206825  1995.0  "
      ]
     },
     "execution_count": 148,
     "metadata": {},
     "output_type": "execute_result"
    }
   ],
   "source": [
    "# Converting year to date-time format\n",
    "merged_df['year'] = pd.to_datetime(merged_df['year'])\n",
    "# Keeping the year only\n",
    "merged_df['year'] = merged_df['year'].dt.year\n",
    "# previewing the changes\n",
    "merged_df.head()"
   ]
  },
  {
   "cell_type": "code",
   "execution_count": null,
   "metadata": {},
   "outputs": [],
   "source": [
    "# Drop the 'timestamp' column\n",
    "merged_df = merged_df.drop('timestamp', axis=1)"
   ]
  },
  {
   "cell_type": "code",
   "execution_count": null,
   "metadata": {},
   "outputs": [],
   "source": [
    "merged_df.isnull().sum()"
   ]
  },
  {
   "cell_type": "markdown",
   "metadata": {},
   "source": [
    "### Checking Outliers"
   ]
  },
  {
   "cell_type": "code",
   "execution_count": null,
   "metadata": {},
   "outputs": [
    {
     "data": {
      "image/png": "[encoded data removed]",
      "text/plain": [
       "<Figure size 432x288 with 1 Axes>"
      ]
     },
     "metadata": {
      "needs_background": "light"
     },
     "output_type": "display_data"
    },
    {
     "data": {
      "image/png": "[encoded data removed]",
      "text/plain": [
       "<Figure size 576x432 with 1 Axes>"
      ]
     },
     "metadata": {
      "needs_background": "light"
     },
     "output_type": "display_data"
    },
    {
     "data": {
      "image/png": "[encoded data removed]",
      "text/plain": [
       "<Figure size 432x288 with 1 Axes>"
      ]
     },
     "metadata": {
      "needs_background": "light"
     },
     "output_type": "display_data"
    },
    {
     "data": {
      "image/png": "[encoded data removed]",
      "text/plain": [
       "<Figure size 576x432 with 1 Axes>"
      ]
     },
     "metadata": {
      "needs_background": "light"
     },
     "output_type": "display_data"
    },
    {
     "data": {
      "image/png": "[encoded data removed]",
      "text/plain": [
       "<Figure size 432x288 with 1 Axes>"
      ]
     },
     "metadata": {
      "needs_background": "light"
     },
     "output_type": "display_data"
    },
    {
     "data": {
      "image/png": "[encoded data removed]",
      "text/plain": [
       "<Figure size 576x432 with 1 Axes>"
      ]
     },
     "metadata": {
      "needs_background": "light"
     },
     "output_type": "display_data"
    },
    {
     "data": {
      "image/png": "[encoded data removed]",
      "text/plain": [
       "<Figure size 432x288 with 1 Axes>"
      ]
     },
     "metadata": {
      "needs_background": "light"
     },
     "output_type": "display_data"
    },
    {
     "data": {
      "image/png": "[encoded data removed]",
      "text/plain": [
       "<Figure size 576x432 with 1 Axes>"
      ]
     },
     "metadata": {
      "needs_background": "light"
     },
     "output_type": "display_data"
    },
    {
     "data": {
      "image/png": "[encoded data removed]",
      "text/plain": [
       "<Figure size 432x288 with 1 Axes>"
      ]
     },
     "metadata": {
      "needs_background": "light"
     },
     "output_type": "display_data"
    },
    {
     "data": {
      "image/png": "[encoded data removed]",
      "text/plain": [
       "<Figure size 576x432 with 1 Axes>"
      ]
     },
     "metadata": {
      "needs_background": "light"
     },
     "output_type": "display_data"
    },
    {
     "data": {
      "image/png": "[encoded data removed]",
      "text/plain": [
       "<Figure size 432x288 with 1 Axes>"
      ]
     },
     "metadata": {
      "needs_background": "light"
     },
     "output_type": "display_data"
    },
    {
     "data": {
      "image/png": "[encoded data removed]",
      "text/plain": [
       "<Figure size 576x432 with 1 Axes>"
      ]
     },
     "metadata": {
      "needs_background": "light"
     },
     "output_type": "display_data"
    },
    {
     "data": {
      "image/png": "[encoded data removed]",
      "text/plain": [
       "<Figure size 432x288 with 1 Axes>"
      ]
     },
     "metadata": {
      "needs_background": "light"
     },
     "output_type": "display_data"
    },
    {
     "data": {
      "image/png": "[encoded data removed]",
      "text/plain": [
       "<Figure size 576x432 with 1 Axes>"
      ]
     },
     "metadata": {
      "needs_background": "light"
     },
     "output_type": "display_data"
    }
   ],
   "source": [
    "numeric_columns = merged_df.select_dtypes(include=\"number\").columns\n",
    "for col in numeric_columns:\n",
    "    sns.boxplot(x=merged_df[col])\n",
    "    plt.figure(figsize=(8,6))\n",
    "    plt.xlabel('Column')\n",
    "    plt.title(f'boxplot of {col}')\n",
    "    plt.show()"
   ]
  },
  {
   "cell_type": "markdown",
   "metadata": {},
   "source": [
    "# Explarotary Data Analysis"
   ]
  },
  {
   "cell_type": "markdown",
   "metadata": {},
   "source": [
    "### Univariate Analysis"
   ]
  },
  {
   "cell_type": "code",
   "execution_count": null,
   "metadata": {},
   "outputs": [
    {
     "name": "stdout",
     "output_type": "stream",
     "text": [
      "            userId_x        movieId         rating   timestamp_x  \\\n",
      "count  233213.000000  233213.000000  233213.000000  2.332130e+05   \n",
      "mean      309.688191   12319.999443       3.966535  1.213524e+09   \n",
      "std       178.206387   28243.919401       0.968637  2.250448e+08   \n",
      "min         1.000000       1.000000       0.500000  8.281246e+08   \n",
      "25%       156.000000     296.000000       3.500000  1.017365e+09   \n",
      "50%       309.000000    1198.000000       4.000000  1.217325e+09   \n",
      "75%       460.000000    4638.000000       5.000000  1.443201e+09   \n",
      "max       610.000000  193565.000000       5.000000  1.537799e+09   \n",
      "\n",
      "            userId_y   timestamp_y           year  \n",
      "count  233213.000000  2.332130e+05  233210.000000  \n",
      "mean      470.683564  1.384774e+09    1994.434891  \n",
      "std       153.329632  1.534621e+08      11.714562  \n",
      "min         2.000000  1.137179e+09    1921.000000  \n",
      "25%       424.000000  1.242494e+09    1994.000000  \n",
      "50%       477.000000  1.457901e+09    1994.000000  \n",
      "75%       599.000000  1.498457e+09    2000.000000  \n",
      "max       610.000000  1.537099e+09    2018.000000  \n"
     ]
    }
   ],
   "source": [
    "# checking summary stats for the dataset\n",
    "summary_stats = merged_df.describe()\n",
    "print(summary_stats)"
   ]
  },
  {
   "cell_type": "code",
   "execution_count": null,
   "metadata": {},
   "outputs": [
    {
     "data": {
      "text/plain": [
       "sci-fi               2527\n",
       "thought-provoking    2487\n",
       "twist ending         2434\n",
       "atmospheric          2227\n",
       "dark comedy          2056\n",
       "                     ... \n",
       "austere                 1\n",
       "Sustainability          1\n",
       "britpop                 1\n",
       "Van Gogh                1\n",
       "rap                     1\n",
       "Name: tag, Length: 1584, dtype: int64"
      ]
     },
     "execution_count": 152,
     "metadata": {},
     "output_type": "execute_result"
    }
   ],
   "source": [
    "# checking values in tag column\n",
    "tag_counts = merged_df['tag'].value_counts()\n",
    "tag_counts"
   ]
  },
  {
   "cell_type": "code",
   "execution_count": null,
   "metadata": {},
   "outputs": [
    {
     "data": {
      "image/png": "[encoded data removed]",
      "text/plain": [
       "<Figure size 720x432 with 1 Axes>"
      ]
     },
     "metadata": {
      "needs_background": "light"
     },
     "output_type": "display_data"
    }
   ],
   "source": [
    "# Plot a bar chart for the top tags\n",
    "top_tags = tag_counts.head(10)\n",
    "\n",
    "plt.figure(figsize=(10, 6))\n",
    "top_tags.plot(kind='barh', color='blue')\n",
    "plt.title('Top 10 Tags')\n",
    "plt.xlabel('Number of Occurrences')\n",
    "plt.ylabel('Tags')\n",
    "plt.show()"
   ]
  },
  {
   "cell_type": "code",
   "execution_count": null,
   "metadata": {},
   "outputs": [
    {
     "data": {
      "image/png": "[encoded data removed]",
      "text/plain": [
       "<Figure size 1152x720 with 1 Axes>"
      ]
     },
     "metadata": {
      "needs_background": "light"
     },
     "output_type": "display_data"
    }
   ],
   "source": [
    "# Plot a bar chart for genre distribution\n",
    "# Flatten the 'genres' lists\n",
    "all_genres = [genre for genres_list in merged_df['genres'] for genre in genres_list]\n",
    "\n",
    "genre_counts = pd.Series(all_genres).value_counts()\n",
    "\n",
    "# plotting the distribution\n",
    "plt.figure(figsize=(16, 10))\n",
    "genre_counts.plot(kind='bar', color='blue')\n",
    "plt.title('Genre Distribution')\n",
    "plt.xlabel('Genres')\n",
    "plt.ylabel('Number of Movies')\n",
    "plt.xticks(rotation=45, ha='right')\n",
    "plt.show()"
   ]
  },
  {
   "cell_type": "code",
   "execution_count": null,
   "metadata": {},
   "outputs": [
    {
     "data": {
      "image/png": "[encoded data removed]",
      "text/plain": [
       "<Figure size 1152x720 with 1 Axes>"
      ]
     },
     "metadata": {
      "needs_background": "light"
     },
     "output_type": "display_data"
    }
   ],
   "source": [
    "# Plot a line chart for movie count over the years\n",
    "movie_count_per_year = merged_df['year'].value_counts().sort_index()\n",
    "\n",
    "plt.figure(figsize=(16, 10))\n",
    "movie_count_per_year.plot(kind='line', marker='o', color='blue')\n",
    "plt.title('Movie Count Over Years')\n",
    "plt.xlabel('Year')\n",
    "plt.ylabel('Number of Movies')\n",
    "plt.show()"
   ]
  },
  {
   "cell_type": "code",
   "execution_count": null,
   "metadata": {},
   "outputs": [],
   "source": [
    "v_rate = dict(merged_df['rating'].value_counts())"
   ]
  },
  {
   "cell_type": "code",
   "execution_count": null,
   "metadata": {},
   "outputs": [
    {
     "data": {
      "image/png": "[encoded data removed]",
      "text/plain": [
       "<Figure size 432x288 with 1 Axes>"
      ]
     },
     "metadata": {
      "needs_background": "light"
     },
     "output_type": "display_data"
    },
    {
     "data": {
      "text/plain": [
       "<Figure size 720x1152 with 0 Axes>"
      ]
     },
     "metadata": {},
     "output_type": "display_data"
    }
   ],
   "source": [
    "plt.title('Rating')\n",
    "sns.barplot(data=merged_df, x= list(v_rate.keys()),y=list(v_rate.values()))\n",
    "plt.figure(figsize=(10,16))\n",
    "plt.show()"
   ]
  },
  {
   "cell_type": "markdown",
   "metadata": {},
   "source": [
    "# Bivariate Analysis"
   ]
  },
  {
   "cell_type": "code",
   "execution_count": null,
   "metadata": {},
   "outputs": [
    {
     "data": {
      "image/png": "[encoded data removed]",
      "text/plain": [
       "<Figure size 1152x720 with 2 Axes>"
      ]
     },
     "metadata": {
      "needs_background": "light"
     },
     "output_type": "display_data"
    }
   ],
   "source": [
    "# merged_df.columns\n",
    "# Plotting a correlation matrix to check for correlation between the variables\n",
    "plt.figure(figsize=(16, 10))\n",
    "sns.heatmap(merged_df.corr(), annot=True, cmap='viridis', fmt='.2f')\n",
    "plt.title(\"Correlation Matrix\")\n",
    "plt.show()"
   ]
  },
  {
   "cell_type": "code",
   "execution_count": null,
   "metadata": {},
   "outputs": [
    {
     "name": "stdout",
     "output_type": "stream",
     "text": [
      "1     Toy Story\n",
      "2     Toy Story\n",
      "3     Toy Story\n",
      "4     Toy Story\n",
      "5     Toy Story\n",
      "6     Toy Story\n",
      "7     Toy Story\n",
      "8     Toy Story\n",
      "9     Toy Story\n",
      "10    Toy Story\n",
      "Name: title, dtype: object\n"
     ]
    }
   ],
   "source": [
    "# Create a set of English stopwords\n",
    "stop_words = set(stopwords.words('english'))\n",
    "\n",
    "# Function that takes in movie title as input and outputs most similar movies\n",
    "def get_recommendations(title, data_frame):\n",
    "    # Get the index of the movie that matches the title\n",
    "    idx = data_frame.index[data_frame['title'] == title][0]\n",
    "\n",
    "    # Create a TF-IDF vectorizer\n",
    "    tfidf_vectorizer = TfidfVectorizer(stop_words=stop_words)\n",
    "\n",
    "    # Fit and transform the movie titles into TF-IDF vectors\n",
    "    tfidf_matrix = tfidf_vectorizer.fit_transform(data_frame['title'])\n",
    "\n",
    "    # Get the pairwsie similarity scores of all movies with that movie\n",
    "    sim_scores = list(enumerate(cosine_similarity(tfidf_matrix, tfidf_matrix[idx])))\n",
    "\n",
    "    # Sort the movies based on the similarity scores\n",
    "    sim_scores = sorted(sim_scores, key=lambda x: x[1], reverse=True)\n",
    "\n",
    "    # Get the scores of the 10 most similar movies\n",
    "    sim_scores = sim_scores[1:11]\n",
    "\n",
    "    # Get the movie indices\n",
    "    movie_indices = [i[0] for i in sim_scores]\n",
    "\n",
    "    # Return the top 10 most similar movies\n",
    "    return data_frame['title'].iloc[movie_indices]\n",
    "\n",
    "recommended_movies = get_recommendations('More', merged_df)\n",
    "print(recommended_movies)\n"
   ]
  },
  {
   "cell_type": "code",
   "execution_count": null,
   "metadata": {},
   "outputs": [
    {
     "data": {
      "text/html": [
       "<div>\n",
       "<style scoped>\n",
       "    .dataframe tbody tr th:only-of-type {\n",
       "        vertical-align: middle;\n",
       "    }\n",
       "\n",
       "    .dataframe tbody tr th {\n",
       "        vertical-align: top;\n",
       "    }\n",
       "\n",
       "    .dataframe thead th {\n",
       "        text-align: right;\n",
       "    }\n",
       "</style>\n",
       "<table border=\"1\" class=\"dataframe\">\n",
       "  <thead>\n",
       "    <tr style=\"text-align: right;\">\n",
       "      <th></th>\n",
       "      <th>userId_x</th>\n",
       "      <th>movieId</th>\n",
       "      <th>rating</th>\n",
       "      <th>timestamp_x</th>\n",
       "      <th>title</th>\n",
       "      <th>genres</th>\n",
       "      <th>userId_y</th>\n",
       "      <th>tag</th>\n",
       "      <th>timestamp_y</th>\n",
       "      <th>year</th>\n",
       "    </tr>\n",
       "  </thead>\n",
       "  <tbody>\n",
       "    <tr>\n",
       "      <th>0</th>\n",
       "      <td>1</td>\n",
       "      <td>1</td>\n",
       "      <td>4.0</td>\n",
       "      <td>964982703</td>\n",
       "      <td>Toy Story</td>\n",
       "      <td>[Adventure, Animation, Children, Comedy, Fantasy]</td>\n",
       "      <td>336</td>\n",
       "      <td>pixar</td>\n",
       "      <td>1139045764</td>\n",
       "      <td>1995.0</td>\n",
       "    </tr>\n",
       "    <tr>\n",
       "      <th>1</th>\n",
       "      <td>1</td>\n",
       "      <td>1</td>\n",
       "      <td>4.0</td>\n",
       "      <td>964982703</td>\n",
       "      <td>Toy Story</td>\n",
       "      <td>[Adventure, Animation, Children, Comedy, Fantasy]</td>\n",
       "      <td>474</td>\n",
       "      <td>pixar</td>\n",
       "      <td>1137206825</td>\n",
       "      <td>1995.0</td>\n",
       "    </tr>\n",
       "    <tr>\n",
       "      <th>2</th>\n",
       "      <td>1</td>\n",
       "      <td>1</td>\n",
       "      <td>4.0</td>\n",
       "      <td>964982703</td>\n",
       "      <td>Toy Story</td>\n",
       "      <td>[Adventure, Animation, Children, Comedy, Fantasy]</td>\n",
       "      <td>567</td>\n",
       "      <td>fun</td>\n",
       "      <td>1525286013</td>\n",
       "      <td>1995.0</td>\n",
       "    </tr>\n",
       "    <tr>\n",
       "      <th>3</th>\n",
       "      <td>5</td>\n",
       "      <td>1</td>\n",
       "      <td>4.0</td>\n",
       "      <td>847434962</td>\n",
       "      <td>Toy Story</td>\n",
       "      <td>[Adventure, Animation, Children, Comedy, Fantasy]</td>\n",
       "      <td>336</td>\n",
       "      <td>pixar</td>\n",
       "      <td>1139045764</td>\n",
       "      <td>1995.0</td>\n",
       "    </tr>\n",
       "    <tr>\n",
       "      <th>4</th>\n",
       "      <td>5</td>\n",
       "      <td>1</td>\n",
       "      <td>4.0</td>\n",
       "      <td>847434962</td>\n",
       "      <td>Toy Story</td>\n",
       "      <td>[Adventure, Animation, Children, Comedy, Fantasy]</td>\n",
       "      <td>474</td>\n",
       "      <td>pixar</td>\n",
       "      <td>1137206825</td>\n",
       "      <td>1995.0</td>\n",
       "    </tr>\n",
       "    <tr>\n",
       "      <th>5</th>\n",
       "      <td>5</td>\n",
       "      <td>1</td>\n",
       "      <td>4.0</td>\n",
       "      <td>847434962</td>\n",
       "      <td>Toy Story</td>\n",
       "      <td>[Adventure, Animation, Children, Comedy, Fantasy]</td>\n",
       "      <td>567</td>\n",
       "      <td>fun</td>\n",
       "      <td>1525286013</td>\n",
       "      <td>1995.0</td>\n",
       "    </tr>\n",
       "    <tr>\n",
       "      <th>6</th>\n",
       "      <td>7</td>\n",
       "      <td>1</td>\n",
       "      <td>4.5</td>\n",
       "      <td>1106635946</td>\n",
       "      <td>Toy Story</td>\n",
       "      <td>[Adventure, Animation, Children, Comedy, Fantasy]</td>\n",
       "      <td>336</td>\n",
       "      <td>pixar</td>\n",
       "      <td>1139045764</td>\n",
       "      <td>1995.0</td>\n",
       "    </tr>\n",
       "    <tr>\n",
       "      <th>7</th>\n",
       "      <td>7</td>\n",
       "      <td>1</td>\n",
       "      <td>4.5</td>\n",
       "      <td>1106635946</td>\n",
       "      <td>Toy Story</td>\n",
       "      <td>[Adventure, Animation, Children, Comedy, Fantasy]</td>\n",
       "      <td>474</td>\n",
       "      <td>pixar</td>\n",
       "      <td>1137206825</td>\n",
       "      <td>1995.0</td>\n",
       "    </tr>\n",
       "    <tr>\n",
       "      <th>8</th>\n",
       "      <td>7</td>\n",
       "      <td>1</td>\n",
       "      <td>4.5</td>\n",
       "      <td>1106635946</td>\n",
       "      <td>Toy Story</td>\n",
       "      <td>[Adventure, Animation, Children, Comedy, Fantasy]</td>\n",
       "      <td>567</td>\n",
       "      <td>fun</td>\n",
       "      <td>1525286013</td>\n",
       "      <td>1995.0</td>\n",
       "    </tr>\n",
       "    <tr>\n",
       "      <th>9</th>\n",
       "      <td>15</td>\n",
       "      <td>1</td>\n",
       "      <td>2.5</td>\n",
       "      <td>1510577970</td>\n",
       "      <td>Toy Story</td>\n",
       "      <td>[Adventure, Animation, Children, Comedy, Fantasy]</td>\n",
       "      <td>336</td>\n",
       "      <td>pixar</td>\n",
       "      <td>1139045764</td>\n",
       "      <td>1995.0</td>\n",
       "    </tr>\n",
       "    <tr>\n",
       "      <th>10</th>\n",
       "      <td>15</td>\n",
       "      <td>1</td>\n",
       "      <td>2.5</td>\n",
       "      <td>1510577970</td>\n",
       "      <td>Toy Story</td>\n",
       "      <td>[Adventure, Animation, Children, Comedy, Fantasy]</td>\n",
       "      <td>474</td>\n",
       "      <td>pixar</td>\n",
       "      <td>1137206825</td>\n",
       "      <td>1995.0</td>\n",
       "    </tr>\n",
       "    <tr>\n",
       "      <th>11</th>\n",
       "      <td>15</td>\n",
       "      <td>1</td>\n",
       "      <td>2.5</td>\n",
       "      <td>1510577970</td>\n",
       "      <td>Toy Story</td>\n",
       "      <td>[Adventure, Animation, Children, Comedy, Fantasy]</td>\n",
       "      <td>567</td>\n",
       "      <td>fun</td>\n",
       "      <td>1525286013</td>\n",
       "      <td>1995.0</td>\n",
       "    </tr>\n",
       "    <tr>\n",
       "      <th>12</th>\n",
       "      <td>17</td>\n",
       "      <td>1</td>\n",
       "      <td>4.5</td>\n",
       "      <td>1305696483</td>\n",
       "      <td>Toy Story</td>\n",
       "      <td>[Adventure, Animation, Children, Comedy, Fantasy]</td>\n",
       "      <td>336</td>\n",
       "      <td>pixar</td>\n",
       "      <td>1139045764</td>\n",
       "      <td>1995.0</td>\n",
       "    </tr>\n",
       "    <tr>\n",
       "      <th>13</th>\n",
       "      <td>17</td>\n",
       "      <td>1</td>\n",
       "      <td>4.5</td>\n",
       "      <td>1305696483</td>\n",
       "      <td>Toy Story</td>\n",
       "      <td>[Adventure, Animation, Children, Comedy, Fantasy]</td>\n",
       "      <td>474</td>\n",
       "      <td>pixar</td>\n",
       "      <td>1137206825</td>\n",
       "      <td>1995.0</td>\n",
       "    </tr>\n",
       "    <tr>\n",
       "      <th>14</th>\n",
       "      <td>17</td>\n",
       "      <td>1</td>\n",
       "      <td>4.5</td>\n",
       "      <td>1305696483</td>\n",
       "      <td>Toy Story</td>\n",
       "      <td>[Adventure, Animation, Children, Comedy, Fantasy]</td>\n",
       "      <td>567</td>\n",
       "      <td>fun</td>\n",
       "      <td>1525286013</td>\n",
       "      <td>1995.0</td>\n",
       "    </tr>\n",
       "    <tr>\n",
       "      <th>15</th>\n",
       "      <td>18</td>\n",
       "      <td>1</td>\n",
       "      <td>3.5</td>\n",
       "      <td>1455209816</td>\n",
       "      <td>Toy Story</td>\n",
       "      <td>[Adventure, Animation, Children, Comedy, Fantasy]</td>\n",
       "      <td>336</td>\n",
       "      <td>pixar</td>\n",
       "      <td>1139045764</td>\n",
       "      <td>1995.0</td>\n",
       "    </tr>\n",
       "    <tr>\n",
       "      <th>16</th>\n",
       "      <td>18</td>\n",
       "      <td>1</td>\n",
       "      <td>3.5</td>\n",
       "      <td>1455209816</td>\n",
       "      <td>Toy Story</td>\n",
       "      <td>[Adventure, Animation, Children, Comedy, Fantasy]</td>\n",
       "      <td>474</td>\n",
       "      <td>pixar</td>\n",
       "      <td>1137206825</td>\n",
       "      <td>1995.0</td>\n",
       "    </tr>\n",
       "    <tr>\n",
       "      <th>17</th>\n",
       "      <td>18</td>\n",
       "      <td>1</td>\n",
       "      <td>3.5</td>\n",
       "      <td>1455209816</td>\n",
       "      <td>Toy Story</td>\n",
       "      <td>[Adventure, Animation, Children, Comedy, Fantasy]</td>\n",
       "      <td>567</td>\n",
       "      <td>fun</td>\n",
       "      <td>1525286013</td>\n",
       "      <td>1995.0</td>\n",
       "    </tr>\n",
       "    <tr>\n",
       "      <th>18</th>\n",
       "      <td>19</td>\n",
       "      <td>1</td>\n",
       "      <td>4.0</td>\n",
       "      <td>965705637</td>\n",
       "      <td>Toy Story</td>\n",
       "      <td>[Adventure, Animation, Children, Comedy, Fantasy]</td>\n",
       "      <td>336</td>\n",
       "      <td>pixar</td>\n",
       "      <td>1139045764</td>\n",
       "      <td>1995.0</td>\n",
       "    </tr>\n",
       "    <tr>\n",
       "      <th>19</th>\n",
       "      <td>19</td>\n",
       "      <td>1</td>\n",
       "      <td>4.0</td>\n",
       "      <td>965705637</td>\n",
       "      <td>Toy Story</td>\n",
       "      <td>[Adventure, Animation, Children, Comedy, Fantasy]</td>\n",
       "      <td>474</td>\n",
       "      <td>pixar</td>\n",
       "      <td>1137206825</td>\n",
       "      <td>1995.0</td>\n",
       "    </tr>\n",
       "    <tr>\n",
       "      <th>20</th>\n",
       "      <td>19</td>\n",
       "      <td>1</td>\n",
       "      <td>4.0</td>\n",
       "      <td>965705637</td>\n",
       "      <td>Toy Story</td>\n",
       "      <td>[Adventure, Animation, Children, Comedy, Fantasy]</td>\n",
       "      <td>567</td>\n",
       "      <td>fun</td>\n",
       "      <td>1525286013</td>\n",
       "      <td>1995.0</td>\n",
       "    </tr>\n",
       "    <tr>\n",
       "      <th>21</th>\n",
       "      <td>21</td>\n",
       "      <td>1</td>\n",
       "      <td>3.5</td>\n",
       "      <td>1407618878</td>\n",
       "      <td>Toy Story</td>\n",
       "      <td>[Adventure, Animation, Children, Comedy, Fantasy]</td>\n",
       "      <td>336</td>\n",
       "      <td>pixar</td>\n",
       "      <td>1139045764</td>\n",
       "      <td>1995.0</td>\n",
       "    </tr>\n",
       "    <tr>\n",
       "      <th>22</th>\n",
       "      <td>21</td>\n",
       "      <td>1</td>\n",
       "      <td>3.5</td>\n",
       "      <td>1407618878</td>\n",
       "      <td>Toy Story</td>\n",
       "      <td>[Adventure, Animation, Children, Comedy, Fantasy]</td>\n",
       "      <td>474</td>\n",
       "      <td>pixar</td>\n",
       "      <td>1137206825</td>\n",
       "      <td>1995.0</td>\n",
       "    </tr>\n",
       "    <tr>\n",
       "      <th>23</th>\n",
       "      <td>21</td>\n",
       "      <td>1</td>\n",
       "      <td>3.5</td>\n",
       "      <td>1407618878</td>\n",
       "      <td>Toy Story</td>\n",
       "      <td>[Adventure, Animation, Children, Comedy, Fantasy]</td>\n",
       "      <td>567</td>\n",
       "      <td>fun</td>\n",
       "      <td>1525286013</td>\n",
       "      <td>1995.0</td>\n",
       "    </tr>\n",
       "    <tr>\n",
       "      <th>24</th>\n",
       "      <td>27</td>\n",
       "      <td>1</td>\n",
       "      <td>3.0</td>\n",
       "      <td>962685262</td>\n",
       "      <td>Toy Story</td>\n",
       "      <td>[Adventure, Animation, Children, Comedy, Fantasy]</td>\n",
       "      <td>336</td>\n",
       "      <td>pixar</td>\n",
       "      <td>1139045764</td>\n",
       "      <td>1995.0</td>\n",
       "    </tr>\n",
       "    <tr>\n",
       "      <th>25</th>\n",
       "      <td>27</td>\n",
       "      <td>1</td>\n",
       "      <td>3.0</td>\n",
       "      <td>962685262</td>\n",
       "      <td>Toy Story</td>\n",
       "      <td>[Adventure, Animation, Children, Comedy, Fantasy]</td>\n",
       "      <td>474</td>\n",
       "      <td>pixar</td>\n",
       "      <td>1137206825</td>\n",
       "      <td>1995.0</td>\n",
       "    </tr>\n",
       "    <tr>\n",
       "      <th>26</th>\n",
       "      <td>27</td>\n",
       "      <td>1</td>\n",
       "      <td>3.0</td>\n",
       "      <td>962685262</td>\n",
       "      <td>Toy Story</td>\n",
       "      <td>[Adventure, Animation, Children, Comedy, Fantasy]</td>\n",
       "      <td>567</td>\n",
       "      <td>fun</td>\n",
       "      <td>1525286013</td>\n",
       "      <td>1995.0</td>\n",
       "    </tr>\n",
       "    <tr>\n",
       "      <th>27</th>\n",
       "      <td>31</td>\n",
       "      <td>1</td>\n",
       "      <td>5.0</td>\n",
       "      <td>850466616</td>\n",
       "      <td>Toy Story</td>\n",
       "      <td>[Adventure, Animation, Children, Comedy, Fantasy]</td>\n",
       "      <td>336</td>\n",
       "      <td>pixar</td>\n",
       "      <td>1139045764</td>\n",
       "      <td>1995.0</td>\n",
       "    </tr>\n",
       "    <tr>\n",
       "      <th>28</th>\n",
       "      <td>31</td>\n",
       "      <td>1</td>\n",
       "      <td>5.0</td>\n",
       "      <td>850466616</td>\n",
       "      <td>Toy Story</td>\n",
       "      <td>[Adventure, Animation, Children, Comedy, Fantasy]</td>\n",
       "      <td>474</td>\n",
       "      <td>pixar</td>\n",
       "      <td>1137206825</td>\n",
       "      <td>1995.0</td>\n",
       "    </tr>\n",
       "    <tr>\n",
       "      <th>29</th>\n",
       "      <td>31</td>\n",
       "      <td>1</td>\n",
       "      <td>5.0</td>\n",
       "      <td>850466616</td>\n",
       "      <td>Toy Story</td>\n",
       "      <td>[Adventure, Animation, Children, Comedy, Fantasy]</td>\n",
       "      <td>567</td>\n",
       "      <td>fun</td>\n",
       "      <td>1525286013</td>\n",
       "      <td>1995.0</td>\n",
       "    </tr>\n",
       "    <tr>\n",
       "      <th>30</th>\n",
       "      <td>32</td>\n",
       "      <td>1</td>\n",
       "      <td>3.0</td>\n",
       "      <td>856736119</td>\n",
       "      <td>Toy Story</td>\n",
       "      <td>[Adventure, Animation, Children, Comedy, Fantasy]</td>\n",
       "      <td>336</td>\n",
       "      <td>pixar</td>\n",
       "      <td>1139045764</td>\n",
       "      <td>1995.0</td>\n",
       "    </tr>\n",
       "    <tr>\n",
       "      <th>31</th>\n",
       "      <td>32</td>\n",
       "      <td>1</td>\n",
       "      <td>3.0</td>\n",
       "      <td>856736119</td>\n",
       "      <td>Toy Story</td>\n",
       "      <td>[Adventure, Animation, Children, Comedy, Fantasy]</td>\n",
       "      <td>474</td>\n",
       "      <td>pixar</td>\n",
       "      <td>1137206825</td>\n",
       "      <td>1995.0</td>\n",
       "    </tr>\n",
       "    <tr>\n",
       "      <th>32</th>\n",
       "      <td>32</td>\n",
       "      <td>1</td>\n",
       "      <td>3.0</td>\n",
       "      <td>856736119</td>\n",
       "      <td>Toy Story</td>\n",
       "      <td>[Adventure, Animation, Children, Comedy, Fantasy]</td>\n",
       "      <td>567</td>\n",
       "      <td>fun</td>\n",
       "      <td>1525286013</td>\n",
       "      <td>1995.0</td>\n",
       "    </tr>\n",
       "    <tr>\n",
       "      <th>33</th>\n",
       "      <td>33</td>\n",
       "      <td>1</td>\n",
       "      <td>3.0</td>\n",
       "      <td>939647444</td>\n",
       "      <td>Toy Story</td>\n",
       "      <td>[Adventure, Animation, Children, Comedy, Fantasy]</td>\n",
       "      <td>336</td>\n",
       "      <td>pixar</td>\n",
       "      <td>1139045764</td>\n",
       "      <td>1995.0</td>\n",
       "    </tr>\n",
       "    <tr>\n",
       "      <th>34</th>\n",
       "      <td>33</td>\n",
       "      <td>1</td>\n",
       "      <td>3.0</td>\n",
       "      <td>939647444</td>\n",
       "      <td>Toy Story</td>\n",
       "      <td>[Adventure, Animation, Children, Comedy, Fantasy]</td>\n",
       "      <td>474</td>\n",
       "      <td>pixar</td>\n",
       "      <td>1137206825</td>\n",
       "      <td>1995.0</td>\n",
       "    </tr>\n",
       "    <tr>\n",
       "      <th>35</th>\n",
       "      <td>33</td>\n",
       "      <td>1</td>\n",
       "      <td>3.0</td>\n",
       "      <td>939647444</td>\n",
       "      <td>Toy Story</td>\n",
       "      <td>[Adventure, Animation, Children, Comedy, Fantasy]</td>\n",
       "      <td>567</td>\n",
       "      <td>fun</td>\n",
       "      <td>1525286013</td>\n",
       "      <td>1995.0</td>\n",
       "    </tr>\n",
       "    <tr>\n",
       "      <th>36</th>\n",
       "      <td>40</td>\n",
       "      <td>1</td>\n",
       "      <td>5.0</td>\n",
       "      <td>832058959</td>\n",
       "      <td>Toy Story</td>\n",
       "      <td>[Adventure, Animation, Children, Comedy, Fantasy]</td>\n",
       "      <td>336</td>\n",
       "      <td>pixar</td>\n",
       "      <td>1139045764</td>\n",
       "      <td>1995.0</td>\n",
       "    </tr>\n",
       "    <tr>\n",
       "      <th>37</th>\n",
       "      <td>40</td>\n",
       "      <td>1</td>\n",
       "      <td>5.0</td>\n",
       "      <td>832058959</td>\n",
       "      <td>Toy Story</td>\n",
       "      <td>[Adventure, Animation, Children, Comedy, Fantasy]</td>\n",
       "      <td>474</td>\n",
       "      <td>pixar</td>\n",
       "      <td>1137206825</td>\n",
       "      <td>1995.0</td>\n",
       "    </tr>\n",
       "    <tr>\n",
       "      <th>38</th>\n",
       "      <td>40</td>\n",
       "      <td>1</td>\n",
       "      <td>5.0</td>\n",
       "      <td>832058959</td>\n",
       "      <td>Toy Story</td>\n",
       "      <td>[Adventure, Animation, Children, Comedy, Fantasy]</td>\n",
       "      <td>567</td>\n",
       "      <td>fun</td>\n",
       "      <td>1525286013</td>\n",
       "      <td>1995.0</td>\n",
       "    </tr>\n",
       "    <tr>\n",
       "      <th>39</th>\n",
       "      <td>43</td>\n",
       "      <td>1</td>\n",
       "      <td>5.0</td>\n",
       "      <td>848993983</td>\n",
       "      <td>Toy Story</td>\n",
       "      <td>[Adventure, Animation, Children, Comedy, Fantasy]</td>\n",
       "      <td>336</td>\n",
       "      <td>pixar</td>\n",
       "      <td>1139045764</td>\n",
       "      <td>1995.0</td>\n",
       "    </tr>\n",
       "    <tr>\n",
       "      <th>40</th>\n",
       "      <td>43</td>\n",
       "      <td>1</td>\n",
       "      <td>5.0</td>\n",
       "      <td>848993983</td>\n",
       "      <td>Toy Story</td>\n",
       "      <td>[Adventure, Animation, Children, Comedy, Fantasy]</td>\n",
       "      <td>474</td>\n",
       "      <td>pixar</td>\n",
       "      <td>1137206825</td>\n",
       "      <td>1995.0</td>\n",
       "    </tr>\n",
       "    <tr>\n",
       "      <th>41</th>\n",
       "      <td>43</td>\n",
       "      <td>1</td>\n",
       "      <td>5.0</td>\n",
       "      <td>848993983</td>\n",
       "      <td>Toy Story</td>\n",
       "      <td>[Adventure, Animation, Children, Comedy, Fantasy]</td>\n",
       "      <td>567</td>\n",
       "      <td>fun</td>\n",
       "      <td>1525286013</td>\n",
       "      <td>1995.0</td>\n",
       "    </tr>\n",
       "    <tr>\n",
       "      <th>42</th>\n",
       "      <td>44</td>\n",
       "      <td>1</td>\n",
       "      <td>3.0</td>\n",
       "      <td>869251860</td>\n",
       "      <td>Toy Story</td>\n",
       "      <td>[Adventure, Animation, Children, Comedy, Fantasy]</td>\n",
       "      <td>336</td>\n",
       "      <td>pixar</td>\n",
       "      <td>1139045764</td>\n",
       "      <td>1995.0</td>\n",
       "    </tr>\n",
       "    <tr>\n",
       "      <th>43</th>\n",
       "      <td>44</td>\n",
       "      <td>1</td>\n",
       "      <td>3.0</td>\n",
       "      <td>869251860</td>\n",
       "      <td>Toy Story</td>\n",
       "      <td>[Adventure, Animation, Children, Comedy, Fantasy]</td>\n",
       "      <td>474</td>\n",
       "      <td>pixar</td>\n",
       "      <td>1137206825</td>\n",
       "      <td>1995.0</td>\n",
       "    </tr>\n",
       "    <tr>\n",
       "      <th>44</th>\n",
       "      <td>44</td>\n",
       "      <td>1</td>\n",
       "      <td>3.0</td>\n",
       "      <td>869251860</td>\n",
       "      <td>Toy Story</td>\n",
       "      <td>[Adventure, Animation, Children, Comedy, Fantasy]</td>\n",
       "      <td>567</td>\n",
       "      <td>fun</td>\n",
       "      <td>1525286013</td>\n",
       "      <td>1995.0</td>\n",
       "    </tr>\n",
       "    <tr>\n",
       "      <th>45</th>\n",
       "      <td>45</td>\n",
       "      <td>1</td>\n",
       "      <td>4.0</td>\n",
       "      <td>951170182</td>\n",
       "      <td>Toy Story</td>\n",
       "      <td>[Adventure, Animation, Children, Comedy, Fantasy]</td>\n",
       "      <td>336</td>\n",
       "      <td>pixar</td>\n",
       "      <td>1139045764</td>\n",
       "      <td>1995.0</td>\n",
       "    </tr>\n",
       "    <tr>\n",
       "      <th>46</th>\n",
       "      <td>45</td>\n",
       "      <td>1</td>\n",
       "      <td>4.0</td>\n",
       "      <td>951170182</td>\n",
       "      <td>Toy Story</td>\n",
       "      <td>[Adventure, Animation, Children, Comedy, Fantasy]</td>\n",
       "      <td>474</td>\n",
       "      <td>pixar</td>\n",
       "      <td>1137206825</td>\n",
       "      <td>1995.0</td>\n",
       "    </tr>\n",
       "    <tr>\n",
       "      <th>47</th>\n",
       "      <td>45</td>\n",
       "      <td>1</td>\n",
       "      <td>4.0</td>\n",
       "      <td>951170182</td>\n",
       "      <td>Toy Story</td>\n",
       "      <td>[Adventure, Animation, Children, Comedy, Fantasy]</td>\n",
       "      <td>567</td>\n",
       "      <td>fun</td>\n",
       "      <td>1525286013</td>\n",
       "      <td>1995.0</td>\n",
       "    </tr>\n",
       "    <tr>\n",
       "      <th>48</th>\n",
       "      <td>46</td>\n",
       "      <td>1</td>\n",
       "      <td>5.0</td>\n",
       "      <td>834787906</td>\n",
       "      <td>Toy Story</td>\n",
       "      <td>[Adventure, Animation, Children, Comedy, Fantasy]</td>\n",
       "      <td>336</td>\n",
       "      <td>pixar</td>\n",
       "      <td>1139045764</td>\n",
       "      <td>1995.0</td>\n",
       "    </tr>\n",
       "    <tr>\n",
       "      <th>49</th>\n",
       "      <td>46</td>\n",
       "      <td>1</td>\n",
       "      <td>5.0</td>\n",
       "      <td>834787906</td>\n",
       "      <td>Toy Story</td>\n",
       "      <td>[Adventure, Animation, Children, Comedy, Fantasy]</td>\n",
       "      <td>474</td>\n",
       "      <td>pixar</td>\n",
       "      <td>1137206825</td>\n",
       "      <td>1995.0</td>\n",
       "    </tr>\n",
       "  </tbody>\n",
       "</table>\n",
       "</div>"
      ],
      "text/plain": [
       "    userId_x  movieId  rating  timestamp_x      title  \\\n",
       "0          1        1     4.0    964982703  Toy Story   \n",
       "1          1        1     4.0    964982703  Toy Story   \n",
       "2          1        1     4.0    964982703  Toy Story   \n",
       "3          5        1     4.0    847434962  Toy Story   \n",
       "4          5        1     4.0    847434962  Toy Story   \n",
       "5          5        1     4.0    847434962  Toy Story   \n",
       "6          7        1     4.5   1106635946  Toy Story   \n",
       "7          7        1     4.5   1106635946  Toy Story   \n",
       "8          7        1     4.5   1106635946  Toy Story   \n",
       "9         15        1     2.5   1510577970  Toy Story   \n",
       "10        15        1     2.5   1510577970  Toy Story   \n",
       "11        15        1     2.5   1510577970  Toy Story   \n",
       "12        17        1     4.5   1305696483  Toy Story   \n",
       "13        17        1     4.5   1305696483  Toy Story   \n",
       "14        17        1     4.5   1305696483  Toy Story   \n",
       "15        18        1     3.5   1455209816  Toy Story   \n",
       "16        18        1     3.5   1455209816  Toy Story   \n",
       "17        18        1     3.5   1455209816  Toy Story   \n",
       "18        19        1     4.0    965705637  Toy Story   \n",
       "19        19        1     4.0    965705637  Toy Story   \n",
       "20        19        1     4.0    965705637  Toy Story   \n",
       "21        21        1     3.5   1407618878  Toy Story   \n",
       "22        21        1     3.5   1407618878  Toy Story   \n",
       "23        21        1     3.5   1407618878  Toy Story   \n",
       "24        27        1     3.0    962685262  Toy Story   \n",
       "25        27        1     3.0    962685262  Toy Story   \n",
       "26        27        1     3.0    962685262  Toy Story   \n",
       "27        31        1     5.0    850466616  Toy Story   \n",
       "28        31        1     5.0    850466616  Toy Story   \n",
       "29        31        1     5.0    850466616  Toy Story   \n",
       "30        32        1     3.0    856736119  Toy Story   \n",
       "31        32        1     3.0    856736119  Toy Story   \n",
       "32        32        1     3.0    856736119  Toy Story   \n",
       "33        33        1     3.0    939647444  Toy Story   \n",
       "34        33        1     3.0    939647444  Toy Story   \n",
       "35        33        1     3.0    939647444  Toy Story   \n",
       "36        40        1     5.0    832058959  Toy Story   \n",
       "37        40        1     5.0    832058959  Toy Story   \n",
       "38        40        1     5.0    832058959  Toy Story   \n",
       "39        43        1     5.0    848993983  Toy Story   \n",
       "40        43        1     5.0    848993983  Toy Story   \n",
       "41        43        1     5.0    848993983  Toy Story   \n",
       "42        44        1     3.0    869251860  Toy Story   \n",
       "43        44        1     3.0    869251860  Toy Story   \n",
       "44        44        1     3.0    869251860  Toy Story   \n",
       "45        45        1     4.0    951170182  Toy Story   \n",
       "46        45        1     4.0    951170182  Toy Story   \n",
       "47        45        1     4.0    951170182  Toy Story   \n",
       "48        46        1     5.0    834787906  Toy Story   \n",
       "49        46        1     5.0    834787906  Toy Story   \n",
       "\n",
       "                                               genres  userId_y    tag  \\\n",
       "0   [Adventure, Animation, Children, Comedy, Fantasy]       336  pixar   \n",
       "1   [Adventure, Animation, Children, Comedy, Fantasy]       474  pixar   \n",
       "2   [Adventure, Animation, Children, Comedy, Fantasy]       567    fun   \n",
       "3   [Adventure, Animation, Children, Comedy, Fantasy]       336  pixar   \n",
       "4   [Adventure, Animation, Children, Comedy, Fantasy]       474  pixar   \n",
       "5   [Adventure, Animation, Children, Comedy, Fantasy]       567    fun   \n",
       "6   [Adventure, Animation, Children, Comedy, Fantasy]       336  pixar   \n",
       "7   [Adventure, Animation, Children, Comedy, Fantasy]       474  pixar   \n",
       "8   [Adventure, Animation, Children, Comedy, Fantasy]       567    fun   \n",
       "9   [Adventure, Animation, Children, Comedy, Fantasy]       336  pixar   \n",
       "10  [Adventure, Animation, Children, Comedy, Fantasy]       474  pixar   \n",
       "11  [Adventure, Animation, Children, Comedy, Fantasy]       567    fun   \n",
       "12  [Adventure, Animation, Children, Comedy, Fantasy]       336  pixar   \n",
       "13  [Adventure, Animation, Children, Comedy, Fantasy]       474  pixar   \n",
       "14  [Adventure, Animation, Children, Comedy, Fantasy]       567    fun   \n",
       "15  [Adventure, Animation, Children, Comedy, Fantasy]       336  pixar   \n",
       "16  [Adventure, Animation, Children, Comedy, Fantasy]       474  pixar   \n",
       "17  [Adventure, Animation, Children, Comedy, Fantasy]       567    fun   \n",
       "18  [Adventure, Animation, Children, Comedy, Fantasy]       336  pixar   \n",
       "19  [Adventure, Animation, Children, Comedy, Fantasy]       474  pixar   \n",
       "20  [Adventure, Animation, Children, Comedy, Fantasy]       567    fun   \n",
       "21  [Adventure, Animation, Children, Comedy, Fantasy]       336  pixar   \n",
       "22  [Adventure, Animation, Children, Comedy, Fantasy]       474  pixar   \n",
       "23  [Adventure, Animation, Children, Comedy, Fantasy]       567    fun   \n",
       "24  [Adventure, Animation, Children, Comedy, Fantasy]       336  pixar   \n",
       "25  [Adventure, Animation, Children, Comedy, Fantasy]       474  pixar   \n",
       "26  [Adventure, Animation, Children, Comedy, Fantasy]       567    fun   \n",
       "27  [Adventure, Animation, Children, Comedy, Fantasy]       336  pixar   \n",
       "28  [Adventure, Animation, Children, Comedy, Fantasy]       474  pixar   \n",
       "29  [Adventure, Animation, Children, Comedy, Fantasy]       567    fun   \n",
       "30  [Adventure, Animation, Children, Comedy, Fantasy]       336  pixar   \n",
       "31  [Adventure, Animation, Children, Comedy, Fantasy]       474  pixar   \n",
       "32  [Adventure, Animation, Children, Comedy, Fantasy]       567    fun   \n",
       "33  [Adventure, Animation, Children, Comedy, Fantasy]       336  pixar   \n",
       "34  [Adventure, Animation, Children, Comedy, Fantasy]       474  pixar   \n",
       "35  [Adventure, Animation, Children, Comedy, Fantasy]       567    fun   \n",
       "36  [Adventure, Animation, Children, Comedy, Fantasy]       336  pixar   \n",
       "37  [Adventure, Animation, Children, Comedy, Fantasy]       474  pixar   \n",
       "38  [Adventure, Animation, Children, Comedy, Fantasy]       567    fun   \n",
       "39  [Adventure, Animation, Children, Comedy, Fantasy]       336  pixar   \n",
       "40  [Adventure, Animation, Children, Comedy, Fantasy]       474  pixar   \n",
       "41  [Adventure, Animation, Children, Comedy, Fantasy]       567    fun   \n",
       "42  [Adventure, Animation, Children, Comedy, Fantasy]       336  pixar   \n",
       "43  [Adventure, Animation, Children, Comedy, Fantasy]       474  pixar   \n",
       "44  [Adventure, Animation, Children, Comedy, Fantasy]       567    fun   \n",
       "45  [Adventure, Animation, Children, Comedy, Fantasy]       336  pixar   \n",
       "46  [Adventure, Animation, Children, Comedy, Fantasy]       474  pixar   \n",
       "47  [Adventure, Animation, Children, Comedy, Fantasy]       567    fun   \n",
       "48  [Adventure, Animation, Children, Comedy, Fantasy]       336  pixar   \n",
       "49  [Adventure, Animation, Children, Comedy, Fantasy]       474  pixar   \n",
       "\n",
       "    timestamp_y    year  \n",
       "0    1139045764  1995.0  \n",
       "1    1137206825  1995.0  \n",
       "2    1525286013  1995.0  \n",
       "3    1139045764  1995.0  \n",
       "4    1137206825  1995.0  \n",
       "5    1525286013  1995.0  \n",
       "6    1139045764  1995.0  \n",
       "7    1137206825  1995.0  \n",
       "8    1525286013  1995.0  \n",
       "9    1139045764  1995.0  \n",
       "10   1137206825  1995.0  \n",
       "11   1525286013  1995.0  \n",
       "12   1139045764  1995.0  \n",
       "13   1137206825  1995.0  \n",
       "14   1525286013  1995.0  \n",
       "15   1139045764  1995.0  \n",
       "16   1137206825  1995.0  \n",
       "17   1525286013  1995.0  \n",
       "18   1139045764  1995.0  \n",
       "19   1137206825  1995.0  \n",
       "20   1525286013  1995.0  \n",
       "21   1139045764  1995.0  \n",
       "22   1137206825  1995.0  \n",
       "23   1525286013  1995.0  \n",
       "24   1139045764  1995.0  \n",
       "25   1137206825  1995.0  \n",
       "26   1525286013  1995.0  \n",
       "27   1139045764  1995.0  \n",
       "28   1137206825  1995.0  \n",
       "29   1525286013  1995.0  \n",
       "30   1139045764  1995.0  \n",
       "31   1137206825  1995.0  \n",
       "32   1525286013  1995.0  \n",
       "33   1139045764  1995.0  \n",
       "34   1137206825  1995.0  \n",
       "35   1525286013  1995.0  \n",
       "36   1139045764  1995.0  \n",
       "37   1137206825  1995.0  \n",
       "38   1525286013  1995.0  \n",
       "39   1139045764  1995.0  \n",
       "40   1137206825  1995.0  \n",
       "41   1525286013  1995.0  \n",
       "42   1139045764  1995.0  \n",
       "43   1137206825  1995.0  \n",
       "44   1525286013  1995.0  \n",
       "45   1139045764  1995.0  \n",
       "46   1137206825  1995.0  \n",
       "47   1525286013  1995.0  \n",
       "48   1139045764  1995.0  \n",
       "49   1137206825  1995.0  "
      ]
     },
     "execution_count": 190,
     "metadata": {},
     "output_type": "execute_result"
    }
   ],
   "source": [
    "merged_df.head(50)"
   ]
  },
  {
   "cell_type": "code",
   "execution_count": null,
   "metadata": {},
   "outputs": [
    {
     "name": "stdout",
     "output_type": "stream",
     "text": [
      "Empty DataFrame\n",
      "Columns: [correlations, rating]\n",
      "Index: []\n"
     ]
    }
   ],
   "source": [
    "testing = get_recommendations('Toy Story', 4)\n",
    "print(testing)"
   ]
  }
 ],
 "metadata": {
  "kernelspec": {
   "display_name": "Python 3",
   "language": "python",
   "name": "python3"
  },
  "language_info": {
   "codemirror_mode": {
    "name": "ipython",
    "version": 3
   },
   "file_extension": ".py",
   "mimetype": "text/x-python",
   "name": "python",
   "nbconvert_exporter": "python",
   "pygments_lexer": "ipython3",
   "version": "3.12.1"
  }
 },
 "nbformat": 4,
 "nbformat_minor": 2
}
