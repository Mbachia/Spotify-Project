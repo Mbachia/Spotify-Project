{
 "cells": [
  {
   "cell_type": "markdown",
   "metadata": {},
   "source": [
    "# MOVIE RECOMMENDATION SYSTEM"
   ]
  },
  {
   "cell_type": "markdown",
   "metadata": {},
   "source": [
    "## Overview"
   ]
  },
  {
   "cell_type": "markdown",
   "metadata": {},
   "source": [
    "Developing a movie recommendation system to improve the user experience in the entertainment industry. By leveraging historical data , our project aims to enhance customer satisfaction by providing personalized movie suggestions, fostering engagement, and driving user retention"
   ]
  },
  {
   "cell_type": "markdown",
   "metadata": {},
   "source": [
    "##  Business Understanding</small>"
   ]
  },
  {
   "cell_type": "markdown",
   "metadata": {},
   "source": [
    "### Background\n",
    "In this project, our objective is to develop a movie recommendation system utilizing the MovieLens dataset sourced from the GroupLens research lab at the University of Minnesota. This dataset contains user ratings for movies and is widely recognized in academic research and machine learning experiments.\n",
    "\n",
    "### Business Problem\n",
    "The primary goal is to enhance the user experience by providing personalized movie recommendations. The system will suggest the top 5 movies to each user based on their previous ratings. This tailored recommendation system aims to boost user engagement, satisfaction, and overall retention within a movie-streaming platform.\n",
    "\n",
    "### User Interaction\n",
    "Users will interact with the system through the movie-streaming platform, providing feedback through explicit ratings or indicating preferences through likes, dislikes, or their viewing history. The system's design should seamlessly integrate into the platform's user interface, ensuring a smooth and enjoyable user experience.\n",
    "\n",
    "### Collaborative Filtering\n",
    "The recommendation system will heavily rely on collaborative filtering as its primary mechanism. This technique involves making predictions about a user's preferences by aggregating insights from numerous users. Additionally, we may explore a hybrid approach, incorporating content-based filtering to tackle the cold start problem – a scenario where new or unrated movies necessitate recommendations.\n",
    "\n",
    "### Content Based\n",
    "Content-based filtering is a recommendation system technique that suggests items such as movies to users based on the characteristics of items and the preferences expressed by the user. The primary idea is to recommend items that are similar to those the user has liked or interacted with in the past.\n",
    "\n",
    "### Evaluation Metrics\n",
    "To gauge the effectiveness of our recommendation system, we will employ pertinent metrics. Traditional regression metrics like Root Mean Squared Error (RMSE) and Mean Absolute Error (MAE) will be utilized to quantify the accuracy of predictions. These metrics offer valuable insights into the system's proficiency in forecasting user preferences, guiding us in refining its performance."
   ]
  },
  {
   "cell_type": "markdown",
   "metadata": {},
   "source": [
    "**DATA UNDERSTANDING**\n",
    "\n",
    "Dataset - * The dataset used for this project can be found in [Kaggle](https://grouplens.org/datasets/movielens/latest/)\n",
    "\n",
    "tag.csv that contains tags applied to movies by users:\n",
    "userId, movieId, tag, timestamp\n",
    "\n",
    "rating.csv that contains ratings of movies by users:\n",
    "userId, movieId, rating, timestamp\n",
    "\n",
    "movie.csv that contains movie information:\n",
    "movieId, title, genres"
   ]
  },
  {
   "cell_type": "markdown",
   "metadata": {},
   "source": [
    "**PROBLEM STATEMENT**\n",
    "\n",
    "With so many movie alternatives available nowadays, people find it difficult to choose films that suit their tastes due to information overload. Manual searches take a lot of time, which causes decision fatigue and lowers user engagement on a platform. A customized movie recommendation system that makes use of user-specific information and collaborative filtering methods will address this. By creating an effective recommendation engine that smoothly connects with user profiles, this project seeks to improve user satisfaction and retention by enabling a more efficient and enjoyable exploration of the extensive movie catalogs."
   ]
  },
  {
   "cell_type": "markdown",
   "metadata": {},
   "source": [
    "**OBJECTIVES**\n",
    "\n",
    "Main objective:\n",
    "\n",
    "* To provide personalized movie recommendations tailored to individual user preferences. \n",
    "\n",
    "Specific objectives:\n",
    "\n",
    "* To find the most popular movies\n",
    "* To build a content based recommendation system\n",
    "* To build a collaborative filtering movie recommendations based on user interactions"
   ]
  },
  {
   "cell_type": "markdown",
   "metadata": {},
   "source": [
    "##  Reading the data"
   ]
  },
  {
   "cell_type": "code",
   "execution_count": 29,
   "metadata": {},
   "outputs": [],
   "source": [
    "# Importing the necessary libraries \n",
    "import pandas as pd\n",
    "import numpy as np \n",
    "\n",
    "import seaborn as sns\n",
    "import matplotlib.pyplot as plt \n",
    "%matplotlib inline\n",
    "\n",
    "\n",
    "import warnings\n",
    "warnings.filterwarnings(\"ignore\")\n",
    "\n",
    "\n",
    "import re\n",
    "from sklearn.metrics.pairwise import cosine_similarity\n",
    "from sklearn.feature_extraction.text import TfidfVectorizer\n",
    "\n",
    "\n",
    "import nltk\n",
    "from nltk.corpus import stopwords\n",
    "from nltk.tokenize import word_tokenize\n",
    "\n",
    "import surprise\n"
   ]
  },
  {
   "cell_type": "code",
   "execution_count": 30,
   "metadata": {},
   "outputs": [
    {
     "name": "stdout",
     "output_type": "stream",
     "text": [
      "Dataframe shape (3683, 4)\n",
      "Dataframe shape (9742, 3)\n",
      "Dataframe shape (100836, 4)\n"
     ]
    }
   ],
   "source": [
    "# Loading the datasets\n",
    "\n",
    "tags_data = pd.read_csv(r\"C:\\Users\\nimu\\Downloads\\ml-latest-small\\ml-latest-small\\tags.csv\")\n",
    "movies_data = pd.read_csv(r\"C:\\Users\\nimu\\Downloads\\ml-latest-small\\ml-latest-small\\movies.csv\")\n",
    "ratings_data = pd.read_csv(r\"C:\\Users\\nimu\\Downloads\\ml-latest-small\\ml-latest-small\\ratings.csv\")\n",
    "\n",
    "# Preview the shape of the dataset\n",
    "print('Dataframe shape {}'.format(tags_data.shape))\n",
    "print('Dataframe shape {}'.format(movies_data.shape))\n",
    "print('Dataframe shape {}'.format(ratings_data.shape))"
   ]
  },
  {
   "cell_type": "code",
   "execution_count": 31,
   "metadata": {},
   "outputs": [
    {
     "data": {
      "text/html": [
       "<div>\n",
       "<style scoped>\n",
       "    .dataframe tbody tr th:only-of-type {\n",
       "        vertical-align: middle;\n",
       "    }\n",
       "\n",
       "    .dataframe tbody tr th {\n",
       "        vertical-align: top;\n",
       "    }\n",
       "\n",
       "    .dataframe thead th {\n",
       "        text-align: right;\n",
       "    }\n",
       "</style>\n",
       "<table border=\"1\" class=\"dataframe\">\n",
       "  <thead>\n",
       "    <tr style=\"text-align: right;\">\n",
       "      <th></th>\n",
       "      <th>movieId</th>\n",
       "      <th>title</th>\n",
       "      <th>genres</th>\n",
       "      <th>userId_x</th>\n",
       "      <th>tag</th>\n",
       "      <th>timestamp_x</th>\n",
       "      <th>userId_y</th>\n",
       "      <th>rating</th>\n",
       "      <th>timestamp_y</th>\n",
       "    </tr>\n",
       "  </thead>\n",
       "  <tbody>\n",
       "    <tr>\n",
       "      <th>0</th>\n",
       "      <td>1</td>\n",
       "      <td>Toy Story (1995)</td>\n",
       "      <td>Adventure|Animation|Children|Comedy|Fantasy</td>\n",
       "      <td>336</td>\n",
       "      <td>pixar</td>\n",
       "      <td>1139045764</td>\n",
       "      <td>1</td>\n",
       "      <td>4.0</td>\n",
       "      <td>964982703</td>\n",
       "    </tr>\n",
       "    <tr>\n",
       "      <th>1</th>\n",
       "      <td>1</td>\n",
       "      <td>Toy Story (1995)</td>\n",
       "      <td>Adventure|Animation|Children|Comedy|Fantasy</td>\n",
       "      <td>336</td>\n",
       "      <td>pixar</td>\n",
       "      <td>1139045764</td>\n",
       "      <td>5</td>\n",
       "      <td>4.0</td>\n",
       "      <td>847434962</td>\n",
       "    </tr>\n",
       "    <tr>\n",
       "      <th>2</th>\n",
       "      <td>1</td>\n",
       "      <td>Toy Story (1995)</td>\n",
       "      <td>Adventure|Animation|Children|Comedy|Fantasy</td>\n",
       "      <td>336</td>\n",
       "      <td>pixar</td>\n",
       "      <td>1139045764</td>\n",
       "      <td>7</td>\n",
       "      <td>4.5</td>\n",
       "      <td>1106635946</td>\n",
       "    </tr>\n",
       "    <tr>\n",
       "      <th>3</th>\n",
       "      <td>1</td>\n",
       "      <td>Toy Story (1995)</td>\n",
       "      <td>Adventure|Animation|Children|Comedy|Fantasy</td>\n",
       "      <td>336</td>\n",
       "      <td>pixar</td>\n",
       "      <td>1139045764</td>\n",
       "      <td>15</td>\n",
       "      <td>2.5</td>\n",
       "      <td>1510577970</td>\n",
       "    </tr>\n",
       "    <tr>\n",
       "      <th>4</th>\n",
       "      <td>1</td>\n",
       "      <td>Toy Story (1995)</td>\n",
       "      <td>Adventure|Animation|Children|Comedy|Fantasy</td>\n",
       "      <td>336</td>\n",
       "      <td>pixar</td>\n",
       "      <td>1139045764</td>\n",
       "      <td>17</td>\n",
       "      <td>4.5</td>\n",
       "      <td>1305696483</td>\n",
       "    </tr>\n",
       "  </tbody>\n",
       "</table>\n",
       "</div>"
      ],
      "text/plain": [
       "   movieId             title                                       genres  \\\n",
       "0        1  Toy Story (1995)  Adventure|Animation|Children|Comedy|Fantasy   \n",
       "1        1  Toy Story (1995)  Adventure|Animation|Children|Comedy|Fantasy   \n",
       "2        1  Toy Story (1995)  Adventure|Animation|Children|Comedy|Fantasy   \n",
       "3        1  Toy Story (1995)  Adventure|Animation|Children|Comedy|Fantasy   \n",
       "4        1  Toy Story (1995)  Adventure|Animation|Children|Comedy|Fantasy   \n",
       "\n",
       "   userId_x    tag  timestamp_x  userId_y  rating  timestamp_y  \n",
       "0       336  pixar   1139045764         1     4.0    964982703  \n",
       "1       336  pixar   1139045764         5     4.0    847434962  \n",
       "2       336  pixar   1139045764         7     4.5   1106635946  \n",
       "3       336  pixar   1139045764        15     2.5   1510577970  \n",
       "4       336  pixar   1139045764        17     4.5   1305696483  "
      ]
     },
     "execution_count": 31,
     "metadata": {},
     "output_type": "execute_result"
    }
   ],
   "source": [
    "# Merge movies_data and tags_data on 'movieId'\n",
    "merged_df = pd.merge(movies_data, tags_data, on='movieId', how='inner')\n",
    "\n",
    "# Merge the result with ratings_data on 'movieId'\n",
    "merged_df = pd.merge(merged_df, ratings_data, on='movieId', how='inner')\n",
    "\n",
    "# Display the resulting DataFrame\n",
    "merged_df.head()"
   ]
  },
  {
   "cell_type": "code",
   "execution_count": 32,
   "metadata": {},
   "outputs": [
    {
     "data": {
      "text/plain": [
       "(233213, 9)"
      ]
     },
     "execution_count": 32,
     "metadata": {},
     "output_type": "execute_result"
    }
   ],
   "source": [
    "merged_df.shape"
   ]
  },
  {
   "cell_type": "code",
   "execution_count": 33,
   "metadata": {},
   "outputs": [],
   "source": [
    "#  Creating a class for exploring and analyzing Pandas DataFrames.\n",
    "class DataExplorer:\n",
    "    def __init__(self, data):\n",
    "        \"\"\"\n",
    "        Initialize the DataExplorer class with a dataset.\n",
    "        :param data: Pandas DataFrame\n",
    "        \"\"\"\n",
    "        self.data = data\n",
    "        \n",
    "    def check_head(self, rows=5):\n",
    "        \"\"\"\n",
    "        Display the first few rows of the dataset.\n",
    "        :return: Pandas DataFrame showing the head of the dataset\n",
    "        \"\"\"\n",
    "        return self.data.head(rows)\n",
    "    \n",
    "    def check_info(self):\n",
    "        \"\"\"\n",
    "        Display information about the dataset (data types, memory usage, etc.).\n",
    "        \"\"\"\n",
    "        return self.data.info()\n",
    "    \n",
    "    def check_describe(self):\n",
    "        \"\"\"\n",
    "        Generate descriptive statistics of the dataset (count, mean, etc.).\n",
    "        :return: Pandas DataFrame with descriptive statistics\n",
    "        \"\"\"\n",
    "        return self.data.describe()\n",
    "    "
   ]
  },
  {
   "cell_type": "code",
   "execution_count": 34,
   "metadata": {},
   "outputs": [
    {
     "name": "stdout",
     "output_type": "stream",
     "text": [
      "Head of the dataset:\n",
      "   movieId             title                                       genres  \\\n",
      "0        1  Toy Story (1995)  Adventure|Animation|Children|Comedy|Fantasy   \n",
      "1        1  Toy Story (1995)  Adventure|Animation|Children|Comedy|Fantasy   \n",
      "2        1  Toy Story (1995)  Adventure|Animation|Children|Comedy|Fantasy   \n",
      "3        1  Toy Story (1995)  Adventure|Animation|Children|Comedy|Fantasy   \n",
      "4        1  Toy Story (1995)  Adventure|Animation|Children|Comedy|Fantasy   \n",
      "\n",
      "   userId_x    tag  timestamp_x  userId_y  rating  timestamp_y  \n",
      "0       336  pixar   1139045764         1     4.0    964982703  \n",
      "1       336  pixar   1139045764         5     4.0    847434962  \n",
      "2       336  pixar   1139045764         7     4.5   1106635946  \n",
      "3       336  pixar   1139045764        15     2.5   1510577970  \n",
      "4       336  pixar   1139045764        17     4.5   1305696483  \n",
      "\n",
      "Dataset info:\n",
      "<class 'pandas.core.frame.DataFrame'>\n",
      "RangeIndex: 233213 entries, 0 to 233212\n",
      "Data columns (total 9 columns):\n",
      " #   Column       Non-Null Count   Dtype  \n",
      "---  ------       --------------   -----  \n",
      " 0   movieId      233213 non-null  int64  \n",
      " 1   title        233213 non-null  object \n",
      " 2   genres       233213 non-null  object \n",
      " 3   userId_x     233213 non-null  int64  \n",
      " 4   tag          233213 non-null  object \n",
      " 5   timestamp_x  233213 non-null  int64  \n",
      " 6   userId_y     233213 non-null  int64  \n",
      " 7   rating       233213 non-null  float64\n",
      " 8   timestamp_y  233213 non-null  int64  \n",
      "dtypes: float64(1), int64(5), object(3)\n",
      "memory usage: 16.0+ MB\n",
      "\n",
      "Dataset statistics:\n",
      "             movieId       userId_x   timestamp_x       userId_y  \\\n",
      "count  233213.000000  233213.000000  2.332130e+05  233213.000000   \n",
      "mean    12319.999443     470.683564  1.384774e+09     309.688191   \n",
      "std     28243.919401     153.329632  1.534621e+08     178.206387   \n",
      "min         1.000000       2.000000  1.137179e+09       1.000000   \n",
      "25%       296.000000     424.000000  1.242494e+09     156.000000   \n",
      "50%      1198.000000     477.000000  1.457901e+09     309.000000   \n",
      "75%      4638.000000     599.000000  1.498457e+09     460.000000   \n",
      "max    193565.000000     610.000000  1.537099e+09     610.000000   \n",
      "\n",
      "              rating   timestamp_y  \n",
      "count  233213.000000  2.332130e+05  \n",
      "mean        3.966535  1.213524e+09  \n",
      "std         0.968637  2.250448e+08  \n",
      "min         0.500000  8.281246e+08  \n",
      "25%         3.500000  1.017365e+09  \n",
      "50%         4.000000  1.217325e+09  \n",
      "75%         5.000000  1.443201e+09  \n",
      "max         5.000000  1.537799e+09  \n"
     ]
    }
   ],
   "source": [
    "# Instatiating the class\n",
    "explorer = DataExplorer(merged_df)\n",
    "\n",
    "# Check the head of the dataset\n",
    "print(\"Head of the dataset:\")\n",
    "print(explorer.check_head())\n",
    "\n",
    "# Check dataset info\n",
    "print(\"\\nDataset info:\")\n",
    "explorer.check_info()\n",
    "\n",
    "# Check dataset description\n",
    "print(\"\\nDataset statistics:\")\n",
    "print(explorer.check_describe())"
   ]
  },
  {
   "cell_type": "markdown",
   "metadata": {},
   "source": [
    "# Data Cleaning"
   ]
  },
  {
   "cell_type": "markdown",
   "metadata": {},
   "source": [
    "This section prepares the data for EDA and modeling. The dataset will be checked for:\n",
    "\n",
    "- duplicated rows\n",
    "- missing values\n",
    "- extracting release year from title"
   ]
  },
  {
   "cell_type": "code",
   "execution_count": 35,
   "metadata": {},
   "outputs": [
    {
     "data": {
      "text/plain": [
       "movieId        0\n",
       "title          0\n",
       "genres         0\n",
       "userId_x       0\n",
       "tag            0\n",
       "timestamp_x    0\n",
       "userId_y       0\n",
       "rating         0\n",
       "timestamp_y    0\n",
       "dtype: int64"
      ]
     },
     "execution_count": 35,
     "metadata": {},
     "output_type": "execute_result"
    }
   ],
   "source": [
    "# Checking for missing values in the dataset\n",
    "merged_df.isnull().sum()"
   ]
  },
  {
   "cell_type": "markdown",
   "metadata": {},
   "source": [
    "The data has a no missing values."
   ]
  },
  {
   "cell_type": "code",
   "execution_count": 36,
   "metadata": {},
   "outputs": [
    {
     "data": {
      "text/html": [
       "<div>\n",
       "<style scoped>\n",
       "    .dataframe tbody tr th:only-of-type {\n",
       "        vertical-align: middle;\n",
       "    }\n",
       "\n",
       "    .dataframe tbody tr th {\n",
       "        vertical-align: top;\n",
       "    }\n",
       "\n",
       "    .dataframe thead th {\n",
       "        text-align: right;\n",
       "    }\n",
       "</style>\n",
       "<table border=\"1\" class=\"dataframe\">\n",
       "  <thead>\n",
       "    <tr style=\"text-align: right;\">\n",
       "      <th></th>\n",
       "      <th>movieId</th>\n",
       "      <th>title</th>\n",
       "      <th>genres</th>\n",
       "      <th>userId_x</th>\n",
       "      <th>tag</th>\n",
       "      <th>timestamp_x</th>\n",
       "      <th>userId_y</th>\n",
       "      <th>rating</th>\n",
       "      <th>timestamp_y</th>\n",
       "    </tr>\n",
       "  </thead>\n",
       "  <tbody>\n",
       "    <tr>\n",
       "      <th>0</th>\n",
       "      <td>1</td>\n",
       "      <td>Toy Story (1995)</td>\n",
       "      <td>Adventure|Animation|Children|Comedy|Fantasy</td>\n",
       "      <td>336</td>\n",
       "      <td>pixar</td>\n",
       "      <td>1139045764</td>\n",
       "      <td>1</td>\n",
       "      <td>4.0</td>\n",
       "      <td>964982703</td>\n",
       "    </tr>\n",
       "    <tr>\n",
       "      <th>1</th>\n",
       "      <td>1</td>\n",
       "      <td>Toy Story (1995)</td>\n",
       "      <td>Adventure|Animation|Children|Comedy|Fantasy</td>\n",
       "      <td>336</td>\n",
       "      <td>pixar</td>\n",
       "      <td>1139045764</td>\n",
       "      <td>5</td>\n",
       "      <td>4.0</td>\n",
       "      <td>847434962</td>\n",
       "    </tr>\n",
       "    <tr>\n",
       "      <th>2</th>\n",
       "      <td>1</td>\n",
       "      <td>Toy Story (1995)</td>\n",
       "      <td>Adventure|Animation|Children|Comedy|Fantasy</td>\n",
       "      <td>336</td>\n",
       "      <td>pixar</td>\n",
       "      <td>1139045764</td>\n",
       "      <td>7</td>\n",
       "      <td>4.5</td>\n",
       "      <td>1106635946</td>\n",
       "    </tr>\n",
       "    <tr>\n",
       "      <th>3</th>\n",
       "      <td>1</td>\n",
       "      <td>Toy Story (1995)</td>\n",
       "      <td>Adventure|Animation|Children|Comedy|Fantasy</td>\n",
       "      <td>336</td>\n",
       "      <td>pixar</td>\n",
       "      <td>1139045764</td>\n",
       "      <td>15</td>\n",
       "      <td>2.5</td>\n",
       "      <td>1510577970</td>\n",
       "    </tr>\n",
       "    <tr>\n",
       "      <th>4</th>\n",
       "      <td>1</td>\n",
       "      <td>Toy Story (1995)</td>\n",
       "      <td>Adventure|Animation|Children|Comedy|Fantasy</td>\n",
       "      <td>336</td>\n",
       "      <td>pixar</td>\n",
       "      <td>1139045764</td>\n",
       "      <td>17</td>\n",
       "      <td>4.5</td>\n",
       "      <td>1305696483</td>\n",
       "    </tr>\n",
       "  </tbody>\n",
       "</table>\n",
       "</div>"
      ],
      "text/plain": [
       "   movieId             title                                       genres  \\\n",
       "0        1  Toy Story (1995)  Adventure|Animation|Children|Comedy|Fantasy   \n",
       "1        1  Toy Story (1995)  Adventure|Animation|Children|Comedy|Fantasy   \n",
       "2        1  Toy Story (1995)  Adventure|Animation|Children|Comedy|Fantasy   \n",
       "3        1  Toy Story (1995)  Adventure|Animation|Children|Comedy|Fantasy   \n",
       "4        1  Toy Story (1995)  Adventure|Animation|Children|Comedy|Fantasy   \n",
       "\n",
       "   userId_x    tag  timestamp_x  userId_y  rating  timestamp_y  \n",
       "0       336  pixar   1139045764         1     4.0    964982703  \n",
       "1       336  pixar   1139045764         5     4.0    847434962  \n",
       "2       336  pixar   1139045764         7     4.5   1106635946  \n",
       "3       336  pixar   1139045764        15     2.5   1510577970  \n",
       "4       336  pixar   1139045764        17     4.5   1305696483  "
      ]
     },
     "execution_count": 36,
     "metadata": {},
     "output_type": "execute_result"
    }
   ],
   "source": [
    "merged_df.head()"
   ]
  },
  {
   "cell_type": "code",
   "execution_count": 37,
   "metadata": {},
   "outputs": [
    {
     "data": {
      "text/html": [
       "<div>\n",
       "<style scoped>\n",
       "    .dataframe tbody tr th:only-of-type {\n",
       "        vertical-align: middle;\n",
       "    }\n",
       "\n",
       "    .dataframe tbody tr th {\n",
       "        vertical-align: top;\n",
       "    }\n",
       "\n",
       "    .dataframe thead th {\n",
       "        text-align: right;\n",
       "    }\n",
       "</style>\n",
       "<table border=\"1\" class=\"dataframe\">\n",
       "  <thead>\n",
       "    <tr style=\"text-align: right;\">\n",
       "      <th></th>\n",
       "      <th>movieId</th>\n",
       "      <th>title</th>\n",
       "      <th>genres</th>\n",
       "      <th>userId_x</th>\n",
       "      <th>tag</th>\n",
       "      <th>timestamp_x</th>\n",
       "      <th>userId_y</th>\n",
       "      <th>rating</th>\n",
       "      <th>timestamp_y</th>\n",
       "      <th>year</th>\n",
       "    </tr>\n",
       "  </thead>\n",
       "  <tbody>\n",
       "    <tr>\n",
       "      <th>0</th>\n",
       "      <td>1</td>\n",
       "      <td>Toy Story</td>\n",
       "      <td>Adventure|Animation|Children|Comedy|Fantasy</td>\n",
       "      <td>336</td>\n",
       "      <td>pixar</td>\n",
       "      <td>1139045764</td>\n",
       "      <td>1</td>\n",
       "      <td>4.0</td>\n",
       "      <td>964982703</td>\n",
       "      <td>1995</td>\n",
       "    </tr>\n",
       "    <tr>\n",
       "      <th>1</th>\n",
       "      <td>1</td>\n",
       "      <td>Toy Story</td>\n",
       "      <td>Adventure|Animation|Children|Comedy|Fantasy</td>\n",
       "      <td>336</td>\n",
       "      <td>pixar</td>\n",
       "      <td>1139045764</td>\n",
       "      <td>5</td>\n",
       "      <td>4.0</td>\n",
       "      <td>847434962</td>\n",
       "      <td>1995</td>\n",
       "    </tr>\n",
       "    <tr>\n",
       "      <th>2</th>\n",
       "      <td>1</td>\n",
       "      <td>Toy Story</td>\n",
       "      <td>Adventure|Animation|Children|Comedy|Fantasy</td>\n",
       "      <td>336</td>\n",
       "      <td>pixar</td>\n",
       "      <td>1139045764</td>\n",
       "      <td>7</td>\n",
       "      <td>4.5</td>\n",
       "      <td>1106635946</td>\n",
       "      <td>1995</td>\n",
       "    </tr>\n",
       "    <tr>\n",
       "      <th>3</th>\n",
       "      <td>1</td>\n",
       "      <td>Toy Story</td>\n",
       "      <td>Adventure|Animation|Children|Comedy|Fantasy</td>\n",
       "      <td>336</td>\n",
       "      <td>pixar</td>\n",
       "      <td>1139045764</td>\n",
       "      <td>15</td>\n",
       "      <td>2.5</td>\n",
       "      <td>1510577970</td>\n",
       "      <td>1995</td>\n",
       "    </tr>\n",
       "    <tr>\n",
       "      <th>4</th>\n",
       "      <td>1</td>\n",
       "      <td>Toy Story</td>\n",
       "      <td>Adventure|Animation|Children|Comedy|Fantasy</td>\n",
       "      <td>336</td>\n",
       "      <td>pixar</td>\n",
       "      <td>1139045764</td>\n",
       "      <td>17</td>\n",
       "      <td>4.5</td>\n",
       "      <td>1305696483</td>\n",
       "      <td>1995</td>\n",
       "    </tr>\n",
       "  </tbody>\n",
       "</table>\n",
       "</div>"
      ],
      "text/plain": [
       "   movieId      title                                       genres  userId_x  \\\n",
       "0        1  Toy Story  Adventure|Animation|Children|Comedy|Fantasy       336   \n",
       "1        1  Toy Story  Adventure|Animation|Children|Comedy|Fantasy       336   \n",
       "2        1  Toy Story  Adventure|Animation|Children|Comedy|Fantasy       336   \n",
       "3        1  Toy Story  Adventure|Animation|Children|Comedy|Fantasy       336   \n",
       "4        1  Toy Story  Adventure|Animation|Children|Comedy|Fantasy       336   \n",
       "\n",
       "     tag  timestamp_x  userId_y  rating  timestamp_y  year  \n",
       "0  pixar   1139045764         1     4.0    964982703  1995  \n",
       "1  pixar   1139045764         5     4.0    847434962  1995  \n",
       "2  pixar   1139045764         7     4.5   1106635946  1995  \n",
       "3  pixar   1139045764        15     2.5   1510577970  1995  \n",
       "4  pixar   1139045764        17     4.5   1305696483  1995  "
      ]
     },
     "execution_count": 37,
     "metadata": {},
     "output_type": "execute_result"
    }
   ],
   "source": [
    "# Function to extract the year from the title\n",
    "def extract_year(title):\n",
    "    match = re.search(r'\\((\\d{4})\\)', title)\n",
    "    return match.group(1) if match else None\n",
    "\n",
    "# Apply the function to create a new 'year' column\n",
    "merged_df['year'] = merged_df['title'].apply(extract_year)\n",
    "\n",
    "# Remove the year from the 'title' column\n",
    "merged_df['title'] = merged_df['title'].str.replace(r'\\s*\\(\\d{4}\\)', '', regex=True)\n",
    "\n",
    "# Display the updated DataFram\n",
    "merged_df.head()"
   ]
  },
  {
   "cell_type": "code",
   "execution_count": 38,
   "metadata": {},
   "outputs": [
    {
     "data": {
      "text/html": [
       "<div>\n",
       "<style scoped>\n",
       "    .dataframe tbody tr th:only-of-type {\n",
       "        vertical-align: middle;\n",
       "    }\n",
       "\n",
       "    .dataframe tbody tr th {\n",
       "        vertical-align: top;\n",
       "    }\n",
       "\n",
       "    .dataframe thead th {\n",
       "        text-align: right;\n",
       "    }\n",
       "</style>\n",
       "<table border=\"1\" class=\"dataframe\">\n",
       "  <thead>\n",
       "    <tr style=\"text-align: right;\">\n",
       "      <th></th>\n",
       "      <th>movieId</th>\n",
       "      <th>title</th>\n",
       "      <th>genres</th>\n",
       "      <th>userId_x</th>\n",
       "      <th>tag</th>\n",
       "      <th>timestamp_x</th>\n",
       "      <th>userId_y</th>\n",
       "      <th>rating</th>\n",
       "      <th>timestamp_y</th>\n",
       "      <th>year</th>\n",
       "    </tr>\n",
       "  </thead>\n",
       "  <tbody>\n",
       "    <tr>\n",
       "      <th>0</th>\n",
       "      <td>1</td>\n",
       "      <td>Toy Story</td>\n",
       "      <td>Adventure|Animation|Children|Comedy|Fantasy</td>\n",
       "      <td>336</td>\n",
       "      <td>pixar</td>\n",
       "      <td>1139045764</td>\n",
       "      <td>1</td>\n",
       "      <td>4.0</td>\n",
       "      <td>964982703</td>\n",
       "      <td>1995</td>\n",
       "    </tr>\n",
       "    <tr>\n",
       "      <th>1</th>\n",
       "      <td>1</td>\n",
       "      <td>Toy Story</td>\n",
       "      <td>Adventure|Animation|Children|Comedy|Fantasy</td>\n",
       "      <td>336</td>\n",
       "      <td>pixar</td>\n",
       "      <td>1139045764</td>\n",
       "      <td>5</td>\n",
       "      <td>4.0</td>\n",
       "      <td>847434962</td>\n",
       "      <td>1995</td>\n",
       "    </tr>\n",
       "    <tr>\n",
       "      <th>2</th>\n",
       "      <td>1</td>\n",
       "      <td>Toy Story</td>\n",
       "      <td>Adventure|Animation|Children|Comedy|Fantasy</td>\n",
       "      <td>336</td>\n",
       "      <td>pixar</td>\n",
       "      <td>1139045764</td>\n",
       "      <td>7</td>\n",
       "      <td>4.5</td>\n",
       "      <td>1106635946</td>\n",
       "      <td>1995</td>\n",
       "    </tr>\n",
       "    <tr>\n",
       "      <th>3</th>\n",
       "      <td>1</td>\n",
       "      <td>Toy Story</td>\n",
       "      <td>Adventure|Animation|Children|Comedy|Fantasy</td>\n",
       "      <td>336</td>\n",
       "      <td>pixar</td>\n",
       "      <td>1139045764</td>\n",
       "      <td>15</td>\n",
       "      <td>2.5</td>\n",
       "      <td>1510577970</td>\n",
       "      <td>1995</td>\n",
       "    </tr>\n",
       "    <tr>\n",
       "      <th>4</th>\n",
       "      <td>1</td>\n",
       "      <td>Toy Story</td>\n",
       "      <td>Adventure|Animation|Children|Comedy|Fantasy</td>\n",
       "      <td>336</td>\n",
       "      <td>pixar</td>\n",
       "      <td>1139045764</td>\n",
       "      <td>17</td>\n",
       "      <td>4.5</td>\n",
       "      <td>1305696483</td>\n",
       "      <td>1995</td>\n",
       "    </tr>\n",
       "  </tbody>\n",
       "</table>\n",
       "</div>"
      ],
      "text/plain": [
       "   movieId      title                                       genres  userId_x  \\\n",
       "0        1  Toy Story  Adventure|Animation|Children|Comedy|Fantasy       336   \n",
       "1        1  Toy Story  Adventure|Animation|Children|Comedy|Fantasy       336   \n",
       "2        1  Toy Story  Adventure|Animation|Children|Comedy|Fantasy       336   \n",
       "3        1  Toy Story  Adventure|Animation|Children|Comedy|Fantasy       336   \n",
       "4        1  Toy Story  Adventure|Animation|Children|Comedy|Fantasy       336   \n",
       "\n",
       "     tag  timestamp_x  userId_y  rating  timestamp_y  year  \n",
       "0  pixar   1139045764         1     4.0    964982703  1995  \n",
       "1  pixar   1139045764         5     4.0    847434962  1995  \n",
       "2  pixar   1139045764         7     4.5   1106635946  1995  \n",
       "3  pixar   1139045764        15     2.5   1510577970  1995  \n",
       "4  pixar   1139045764        17     4.5   1305696483  1995  "
      ]
     },
     "execution_count": 38,
     "metadata": {},
     "output_type": "execute_result"
    }
   ],
   "source": [
    "# # Split the genres column into a list of genres\n",
    "# merged_df['genres'] = merged_df['genres'].str.split('|')\n",
    "merged_df = merged_df.explode('genres')\n",
    "\n",
    "# Display the updated DataFrame\n",
    "merged_df.head()"
   ]
  },
  {
   "cell_type": "code",
   "execution_count": 39,
   "metadata": {},
   "outputs": [
    {
     "name": "stdout",
     "output_type": "stream",
     "text": [
      "Rows with null values in the 'genres' column:\n",
      "Empty DataFrame\n",
      "Columns: [movieId, title, genres, userId_x, tag, timestamp_x, userId_y, rating, timestamp_y, year]\n",
      "Index: []\n"
     ]
    }
   ],
   "source": [
    "# Check for null values within the lists in the 'genres' column\n",
    "null_values_in_genres = merged_df['genres'].apply(lambda x: any(pd.isnull(i) for i in x))\n",
    "\n",
    "# Display the rows where null values are present in the 'genres' column\n",
    "rows_with_null_values = merged_df[null_values_in_genres]\n",
    "print(\"Rows with null values in the 'genres' column:\")\n",
    "print(rows_with_null_values)"
   ]
  },
  {
   "cell_type": "markdown",
   "metadata": {},
   "source": [
    "The genre column has no missing values"
   ]
  },
  {
   "cell_type": "code",
   "execution_count": 40,
   "metadata": {},
   "outputs": [
    {
     "data": {
      "text/html": [
       "<div>\n",
       "<style scoped>\n",
       "    .dataframe tbody tr th:only-of-type {\n",
       "        vertical-align: middle;\n",
       "    }\n",
       "\n",
       "    .dataframe tbody tr th {\n",
       "        vertical-align: top;\n",
       "    }\n",
       "\n",
       "    .dataframe thead th {\n",
       "        text-align: right;\n",
       "    }\n",
       "</style>\n",
       "<table border=\"1\" class=\"dataframe\">\n",
       "  <thead>\n",
       "    <tr style=\"text-align: right;\">\n",
       "      <th></th>\n",
       "      <th>movieId</th>\n",
       "      <th>title</th>\n",
       "      <th>genres</th>\n",
       "      <th>userId_x</th>\n",
       "      <th>tag</th>\n",
       "      <th>timestamp_x</th>\n",
       "      <th>userId_y</th>\n",
       "      <th>rating</th>\n",
       "      <th>timestamp_y</th>\n",
       "      <th>year</th>\n",
       "    </tr>\n",
       "  </thead>\n",
       "  <tbody>\n",
       "    <tr>\n",
       "      <th>0</th>\n",
       "      <td>1</td>\n",
       "      <td>Toy Story</td>\n",
       "      <td>Adventure|Animation|Children|Comedy|Fantasy</td>\n",
       "      <td>336</td>\n",
       "      <td>pixar</td>\n",
       "      <td>1139045764</td>\n",
       "      <td>1</td>\n",
       "      <td>4.0</td>\n",
       "      <td>964982703</td>\n",
       "      <td>1995.0</td>\n",
       "    </tr>\n",
       "    <tr>\n",
       "      <th>1</th>\n",
       "      <td>1</td>\n",
       "      <td>Toy Story</td>\n",
       "      <td>Adventure|Animation|Children|Comedy|Fantasy</td>\n",
       "      <td>336</td>\n",
       "      <td>pixar</td>\n",
       "      <td>1139045764</td>\n",
       "      <td>5</td>\n",
       "      <td>4.0</td>\n",
       "      <td>847434962</td>\n",
       "      <td>1995.0</td>\n",
       "    </tr>\n",
       "    <tr>\n",
       "      <th>2</th>\n",
       "      <td>1</td>\n",
       "      <td>Toy Story</td>\n",
       "      <td>Adventure|Animation|Children|Comedy|Fantasy</td>\n",
       "      <td>336</td>\n",
       "      <td>pixar</td>\n",
       "      <td>1139045764</td>\n",
       "      <td>7</td>\n",
       "      <td>4.5</td>\n",
       "      <td>1106635946</td>\n",
       "      <td>1995.0</td>\n",
       "    </tr>\n",
       "    <tr>\n",
       "      <th>3</th>\n",
       "      <td>1</td>\n",
       "      <td>Toy Story</td>\n",
       "      <td>Adventure|Animation|Children|Comedy|Fantasy</td>\n",
       "      <td>336</td>\n",
       "      <td>pixar</td>\n",
       "      <td>1139045764</td>\n",
       "      <td>15</td>\n",
       "      <td>2.5</td>\n",
       "      <td>1510577970</td>\n",
       "      <td>1995.0</td>\n",
       "    </tr>\n",
       "    <tr>\n",
       "      <th>4</th>\n",
       "      <td>1</td>\n",
       "      <td>Toy Story</td>\n",
       "      <td>Adventure|Animation|Children|Comedy|Fantasy</td>\n",
       "      <td>336</td>\n",
       "      <td>pixar</td>\n",
       "      <td>1139045764</td>\n",
       "      <td>17</td>\n",
       "      <td>4.5</td>\n",
       "      <td>1305696483</td>\n",
       "      <td>1995.0</td>\n",
       "    </tr>\n",
       "  </tbody>\n",
       "</table>\n",
       "</div>"
      ],
      "text/plain": [
       "   movieId      title                                       genres  userId_x  \\\n",
       "0        1  Toy Story  Adventure|Animation|Children|Comedy|Fantasy       336   \n",
       "1        1  Toy Story  Adventure|Animation|Children|Comedy|Fantasy       336   \n",
       "2        1  Toy Story  Adventure|Animation|Children|Comedy|Fantasy       336   \n",
       "3        1  Toy Story  Adventure|Animation|Children|Comedy|Fantasy       336   \n",
       "4        1  Toy Story  Adventure|Animation|Children|Comedy|Fantasy       336   \n",
       "\n",
       "     tag  timestamp_x  userId_y  rating  timestamp_y    year  \n",
       "0  pixar   1139045764         1     4.0    964982703  1995.0  \n",
       "1  pixar   1139045764         5     4.0    847434962  1995.0  \n",
       "2  pixar   1139045764         7     4.5   1106635946  1995.0  \n",
       "3  pixar   1139045764        15     2.5   1510577970  1995.0  \n",
       "4  pixar   1139045764        17     4.5   1305696483  1995.0  "
      ]
     },
     "execution_count": 40,
     "metadata": {},
     "output_type": "execute_result"
    }
   ],
   "source": [
    "# Converting year to date-time format\n",
    "merged_df['year'] = pd.to_datetime(merged_df['year'])\n",
    "# Keeping the year only\n",
    "merged_df['year'] = merged_df['year'].dt.year\n",
    "# previewing the changes\n",
    "merged_df.head()"
   ]
  },
  {
   "cell_type": "markdown",
   "metadata": {},
   "source": [
    "# Explarotary Data Analysis"
   ]
  },
  {
   "cell_type": "markdown",
   "metadata": {},
   "source": [
    "### Univariate Analysis"
   ]
  },
  {
   "cell_type": "code",
   "execution_count": 41,
   "metadata": {},
   "outputs": [
    {
     "data": {
      "text/html": [
       "<div>\n",
       "<style scoped>\n",
       "    .dataframe tbody tr th:only-of-type {\n",
       "        vertical-align: middle;\n",
       "    }\n",
       "\n",
       "    .dataframe tbody tr th {\n",
       "        vertical-align: top;\n",
       "    }\n",
       "\n",
       "    .dataframe thead th {\n",
       "        text-align: right;\n",
       "    }\n",
       "</style>\n",
       "<table border=\"1\" class=\"dataframe\">\n",
       "  <thead>\n",
       "    <tr style=\"text-align: right;\">\n",
       "      <th></th>\n",
       "      <th>count</th>\n",
       "      <th>mean</th>\n",
       "      <th>std</th>\n",
       "      <th>min</th>\n",
       "      <th>25%</th>\n",
       "      <th>50%</th>\n",
       "      <th>75%</th>\n",
       "      <th>max</th>\n",
       "    </tr>\n",
       "  </thead>\n",
       "  <tbody>\n",
       "    <tr>\n",
       "      <th>movieId</th>\n",
       "      <td>233213.0</td>\n",
       "      <td>1.232000e+04</td>\n",
       "      <td>2.824392e+04</td>\n",
       "      <td>1.000000e+00</td>\n",
       "      <td>2.960000e+02</td>\n",
       "      <td>1.198000e+03</td>\n",
       "      <td>4.638000e+03</td>\n",
       "      <td>1.935650e+05</td>\n",
       "    </tr>\n",
       "    <tr>\n",
       "      <th>userId_x</th>\n",
       "      <td>233213.0</td>\n",
       "      <td>4.706836e+02</td>\n",
       "      <td>1.533296e+02</td>\n",
       "      <td>2.000000e+00</td>\n",
       "      <td>4.240000e+02</td>\n",
       "      <td>4.770000e+02</td>\n",
       "      <td>5.990000e+02</td>\n",
       "      <td>6.100000e+02</td>\n",
       "    </tr>\n",
       "    <tr>\n",
       "      <th>timestamp_x</th>\n",
       "      <td>233213.0</td>\n",
       "      <td>1.384774e+09</td>\n",
       "      <td>1.534621e+08</td>\n",
       "      <td>1.137179e+09</td>\n",
       "      <td>1.242494e+09</td>\n",
       "      <td>1.457901e+09</td>\n",
       "      <td>1.498457e+09</td>\n",
       "      <td>1.537099e+09</td>\n",
       "    </tr>\n",
       "    <tr>\n",
       "      <th>userId_y</th>\n",
       "      <td>233213.0</td>\n",
       "      <td>3.096882e+02</td>\n",
       "      <td>1.782064e+02</td>\n",
       "      <td>1.000000e+00</td>\n",
       "      <td>1.560000e+02</td>\n",
       "      <td>3.090000e+02</td>\n",
       "      <td>4.600000e+02</td>\n",
       "      <td>6.100000e+02</td>\n",
       "    </tr>\n",
       "    <tr>\n",
       "      <th>rating</th>\n",
       "      <td>233213.0</td>\n",
       "      <td>3.966535e+00</td>\n",
       "      <td>9.686373e-01</td>\n",
       "      <td>5.000000e-01</td>\n",
       "      <td>3.500000e+00</td>\n",
       "      <td>4.000000e+00</td>\n",
       "      <td>5.000000e+00</td>\n",
       "      <td>5.000000e+00</td>\n",
       "    </tr>\n",
       "    <tr>\n",
       "      <th>timestamp_y</th>\n",
       "      <td>233213.0</td>\n",
       "      <td>1.213524e+09</td>\n",
       "      <td>2.250448e+08</td>\n",
       "      <td>8.281246e+08</td>\n",
       "      <td>1.017365e+09</td>\n",
       "      <td>1.217325e+09</td>\n",
       "      <td>1.443201e+09</td>\n",
       "      <td>1.537799e+09</td>\n",
       "    </tr>\n",
       "    <tr>\n",
       "      <th>year</th>\n",
       "      <td>233210.0</td>\n",
       "      <td>1.994435e+03</td>\n",
       "      <td>1.171456e+01</td>\n",
       "      <td>1.921000e+03</td>\n",
       "      <td>1.994000e+03</td>\n",
       "      <td>1.994000e+03</td>\n",
       "      <td>2.000000e+03</td>\n",
       "      <td>2.018000e+03</td>\n",
       "    </tr>\n",
       "  </tbody>\n",
       "</table>\n",
       "</div>"
      ],
      "text/plain": [
       "                count          mean           std           min           25%  \\\n",
       "movieId      233213.0  1.232000e+04  2.824392e+04  1.000000e+00  2.960000e+02   \n",
       "userId_x     233213.0  4.706836e+02  1.533296e+02  2.000000e+00  4.240000e+02   \n",
       "timestamp_x  233213.0  1.384774e+09  1.534621e+08  1.137179e+09  1.242494e+09   \n",
       "userId_y     233213.0  3.096882e+02  1.782064e+02  1.000000e+00  1.560000e+02   \n",
       "rating       233213.0  3.966535e+00  9.686373e-01  5.000000e-01  3.500000e+00   \n",
       "timestamp_y  233213.0  1.213524e+09  2.250448e+08  8.281246e+08  1.017365e+09   \n",
       "year         233210.0  1.994435e+03  1.171456e+01  1.921000e+03  1.994000e+03   \n",
       "\n",
       "                      50%           75%           max  \n",
       "movieId      1.198000e+03  4.638000e+03  1.935650e+05  \n",
       "userId_x     4.770000e+02  5.990000e+02  6.100000e+02  \n",
       "timestamp_x  1.457901e+09  1.498457e+09  1.537099e+09  \n",
       "userId_y     3.090000e+02  4.600000e+02  6.100000e+02  \n",
       "rating       4.000000e+00  5.000000e+00  5.000000e+00  \n",
       "timestamp_y  1.217325e+09  1.443201e+09  1.537799e+09  \n",
       "year         1.994000e+03  2.000000e+03  2.018000e+03  "
      ]
     },
     "execution_count": 41,
     "metadata": {},
     "output_type": "execute_result"
    }
   ],
   "source": [
    "# checking summary stats for the dataset\n",
    "merged_df.describe().T"
   ]
  },
  {
   "cell_type": "code",
   "execution_count": 42,
   "metadata": {},
   "outputs": [
    {
     "data": {
      "text/plain": [
       "tag\n",
       "sci-fi               2527\n",
       "thought-provoking    2487\n",
       "twist ending         2434\n",
       "atmospheric          2227\n",
       "dark comedy          2056\n",
       "                     ... \n",
       "Cole Porter             1\n",
       "deafness                1\n",
       "convent                 1\n",
       "Anne Boleyn             1\n",
       "remaster                1\n",
       "Name: count, Length: 1584, dtype: int64"
      ]
     },
     "execution_count": 42,
     "metadata": {},
     "output_type": "execute_result"
    }
   ],
   "source": [
    "# checking values in tag column\n",
    "merged_df['tag'].value_counts()"
   ]
  },
  {
   "cell_type": "code",
   "execution_count": 43,
   "metadata": {},
   "outputs": [
    {
     "data": {
      "image/png": "[encoded data removed]",
      "text/plain": [
       "<Figure size 720x432 with 1 Axes>"
      ]
     },
     "metadata": {
      "needs_background": "light"
     },
     "output_type": "display_data"
    }
   ],
   "source": [
    "# Count the number of ratings for each movie\n",
    "movie_ratings = merged_df['title'].value_counts().head(10)\n",
    "\n",
    "# Plotting the top 10 most viewed movies\n",
    "plt.figure(figsize=(10, 6))\n",
    "sns.barplot(x=movie_ratings.values, y=movie_ratings.index)\n",
    "plt.xlabel('Number of Ratings')\n",
    "plt.ylabel('Movie Title')\n",
    "plt.title('Top 10 Most Viewed Movies')\n",
    "plt.show()\n"
   ]
  },
  {
   "cell_type": "code",
   "execution_count": 44,
   "metadata": {},
   "outputs": [
    {
     "data": {
      "image/png": "[encoded data removed]",
      "text/plain": [
       "<Figure size 720x432 with 1 Axes>"
      ]
     },
     "metadata": {
      "needs_background": "light"
     },
     "output_type": "display_data"
    }
   ],
   "source": [
    "plt.figure(figsize=(10, 6))\n",
    "sns.histplot(merged_df['rating'], kde=True)\n",
    "plt.xlabel('Rating')\n",
    "plt.ylabel('Frequency')\n",
    "plt.title('Distribution of Movie Ratings')\n",
    "plt.show()"
   ]
  },
  {
   "cell_type": "code",
   "execution_count": 45,
   "metadata": {},
   "outputs": [
    {
     "data": {
      "image/png": "[encoded data removed]",
      "text/plain": [
       "<Figure size 720x432 with 1 Axes>"
      ]
     },
     "metadata": {
      "needs_background": "light"
     },
     "output_type": "display_data"
    }
   ],
   "source": [
    "# Plot a bar chart for the top tags\n",
    "tag_counts = merged_df['tag'].value_counts()\n",
    "top_tags = tag_counts.head(10)\n",
    "\n",
    "plt.figure(figsize=(10, 6))\n",
    "top_tags.plot(kind='barh', color='pink')\n",
    "plt.title('Top 10 Tags')\n",
    "plt.xlabel('Number of Occurrences')\n",
    "plt.ylabel('Tags')\n",
    "plt.show()"
   ]
  },
  {
   "cell_type": "code",
   "execution_count": 46,
   "metadata": {},
   "outputs": [
    {
     "data": {
      "text/plain": [
       "{'Adventure': 1263,\n",
       " 'Animation': 611,\n",
       " 'Children': 664,\n",
       " 'Comedy': 3756,\n",
       " 'Fantasy': 779,\n",
       " 'Romance': 1596,\n",
       " 'Drama': 4361,\n",
       " 'Action': 1828,\n",
       " 'Crime': 1199,\n",
       " 'Thriller': 1894,\n",
       " 'Horror': 978,\n",
       " 'Mystery': 573,\n",
       " 'Sci-Fi': 980,\n",
       " 'War': 382,\n",
       " 'Musical': 334,\n",
       " 'Documentary': 440,\n",
       " 'IMAX': 158,\n",
       " 'Western': 167,\n",
       " 'Film-Noir': 87,\n",
       " '(no genres listed)': 34}"
      ]
     },
     "execution_count": 46,
     "metadata": {},
     "output_type": "execute_result"
    }
   ],
   "source": [
    "def find_genres(movies_df):\n",
    "    \"\"\"\n",
    "    Find and count genres in a movies DataFrame.\n",
    "\n",
    "    \"\"\"\n",
    "    genres = {}  # dictionary to store different genre values\n",
    "\n",
    "    for genre in movies_df['genres']:\n",
    "        words = genre.split('|')\n",
    "        for word in words:\n",
    "            genres[word] = genres.get(word, 0) + 1\n",
    "\n",
    "    return genres\n",
    "\n",
    "# usage:\n",
    "genre_counts = find_genres(movies_data)\n",
    "genre_counts"
   ]
  },
  {
   "cell_type": "code",
   "execution_count": 47,
   "metadata": {},
   "outputs": [
    {
     "data": {
      "image/png": "[encoded data removed]",
      "text/plain": [
       "<Figure size 720x432 with 1 Axes>"
      ]
     },
     "metadata": {
      "needs_background": "light"
     },
     "output_type": "display_data"
    }
   ],
   "source": [
    "# Create a DataFrame from the genre_counts dictionary\n",
    "df_plot = pd.DataFrame.from_dict(genre_counts, orient='index', columns=['total']).reset_index()\n",
    "df_plot = df_plot.rename(columns={'index': 'genre'})\n",
    "\n",
    "# Sort the DataFrame by 'total' in descending order\n",
    "df_plot = df_plot.sort_values(by='total', ascending=False)\n",
    "\n",
    "# Set the number of top genres to display\n",
    "top_n_genres = 5\n",
    "\n",
    "# Create the bar plot for the top 5 genres\n",
    "plt.figure(figsize=(10, 6))\n",
    "ax = sns.barplot(data=df_plot.head(top_n_genres), x='genre', y='total', palette=['#06837f', '#02cecb', '#b4ffff', '#f8e16c', '#fed811'])\n",
    "ax.set_title('Top 5 Genres in Movies', fontsize=18, weight='bold')\n",
    "sns.despine()\n",
    "ax.set_xticklabels(ax.get_xticklabels(), rotation=45)\n",
    "\n",
    "plt.show()"
   ]
  },
  {
   "cell_type": "code",
   "execution_count": 48,
   "metadata": {},
   "outputs": [
    {
     "data": {
      "image/png": "[encoded data removed]",
      "text/plain": [
       "<Figure size 1152x720 with 1 Axes>"
      ]
     },
     "metadata": {
      "needs_background": "light"
     },
     "output_type": "display_data"
    }
   ],
   "source": [
    "# Plot a line chart for movie count over the years\n",
    "movie_count_per_year = merged_df['year'].value_counts().sort_index()\n",
    "\n",
    "plt.figure(figsize=(16, 10))\n",
    "movie_count_per_year.plot(kind='line', marker='o', color='blue')\n",
    "plt.title('Movie Count Over Years')\n",
    "plt.xlabel('Year')\n",
    "plt.ylabel('Number of Movies')\n",
    "plt.show()"
   ]
  },
  {
   "cell_type": "markdown",
   "metadata": {},
   "source": [
    "# Bivariate Analysis"
   ]
  },
  {
   "cell_type": "markdown",
   "metadata": {},
   "source": [
    "### Popular movies of all time (based on highly rated and high number of ratings)"
   ]
  },
  {
   "cell_type": "code",
   "execution_count": 49,
   "metadata": {},
   "outputs": [],
   "source": [
    "merged_data = pd.merge(ratings_data, movies_data, on='movieId', how='left')"
   ]
  },
  {
   "cell_type": "code",
   "execution_count": 50,
   "metadata": {},
   "outputs": [
    {
     "data": {
      "text/html": [
       "<div>\n",
       "<style scoped>\n",
       "    .dataframe tbody tr th:only-of-type {\n",
       "        vertical-align: middle;\n",
       "    }\n",
       "\n",
       "    .dataframe tbody tr th {\n",
       "        vertical-align: top;\n",
       "    }\n",
       "\n",
       "    .dataframe thead th {\n",
       "        text-align: right;\n",
       "    }\n",
       "</style>\n",
       "<table border=\"1\" class=\"dataframe\">\n",
       "  <thead>\n",
       "    <tr style=\"text-align: right;\">\n",
       "      <th></th>\n",
       "      <th>title</th>\n",
       "      <th>num_ratings</th>\n",
       "    </tr>\n",
       "  </thead>\n",
       "  <tbody>\n",
       "    <tr>\n",
       "      <th>74</th>\n",
       "      <td>2001: A Space Odyssey (1968)</td>\n",
       "      <td>109</td>\n",
       "    </tr>\n",
       "    <tr>\n",
       "      <th>207</th>\n",
       "      <td>Ace Ventura: Pet Detective (1994)</td>\n",
       "      <td>161</td>\n",
       "    </tr>\n",
       "    <tr>\n",
       "      <th>298</th>\n",
       "      <td>Aladdin (1992)</td>\n",
       "      <td>183</td>\n",
       "    </tr>\n",
       "    <tr>\n",
       "      <th>327</th>\n",
       "      <td>Alien (1979)</td>\n",
       "      <td>146</td>\n",
       "    </tr>\n",
       "    <tr>\n",
       "      <th>333</th>\n",
       "      <td>Aliens (1986)</td>\n",
       "      <td>126</td>\n",
       "    </tr>\n",
       "    <tr>\n",
       "      <th>...</th>\n",
       "      <td>...</td>\n",
       "      <td>...</td>\n",
       "    </tr>\n",
       "    <tr>\n",
       "      <th>9120</th>\n",
       "      <td>V for Vendetta (2006)</td>\n",
       "      <td>100</td>\n",
       "    </tr>\n",
       "    <tr>\n",
       "      <th>9215</th>\n",
       "      <td>WALL·E (2008)</td>\n",
       "      <td>104</td>\n",
       "    </tr>\n",
       "    <tr>\n",
       "      <th>9298</th>\n",
       "      <td>Waterworld (1995)</td>\n",
       "      <td>115</td>\n",
       "    </tr>\n",
       "    <tr>\n",
       "      <th>9485</th>\n",
       "      <td>Willy Wonka &amp; the Chocolate Factory (1971)</td>\n",
       "      <td>119</td>\n",
       "    </tr>\n",
       "    <tr>\n",
       "      <th>9615</th>\n",
       "      <td>X-Men (2000)</td>\n",
       "      <td>133</td>\n",
       "    </tr>\n",
       "  </tbody>\n",
       "</table>\n",
       "<p>138 rows × 2 columns</p>\n",
       "</div>"
      ],
      "text/plain": [
       "                                           title  num_ratings\n",
       "74                  2001: A Space Odyssey (1968)          109\n",
       "207            Ace Ventura: Pet Detective (1994)          161\n",
       "298                               Aladdin (1992)          183\n",
       "327                                 Alien (1979)          146\n",
       "333                                Aliens (1986)          126\n",
       "...                                          ...          ...\n",
       "9120                       V for Vendetta (2006)          100\n",
       "9215                               WALL·E (2008)          104\n",
       "9298                           Waterworld (1995)          115\n",
       "9485  Willy Wonka & the Chocolate Factory (1971)          119\n",
       "9615                                X-Men (2000)          133\n",
       "\n",
       "[138 rows x 2 columns]"
      ]
     },
     "execution_count": 50,
     "metadata": {},
     "output_type": "execute_result"
    }
   ],
   "source": [
    "# Count how many people rated each movie\n",
    "movie_ratings_count = merged_data.groupby('title')['userId'].count().reset_index(name='num_ratings')\n",
    "# Only keep movies that got at least a hundred ratings\n",
    "popular_movies = movie_ratings_count[movie_ratings_count['num_ratings'] >= 100]\n",
    "popular_movies"
   ]
  },
  {
   "cell_type": "code",
   "execution_count": 51,
   "metadata": {},
   "outputs": [],
   "source": [
    "# Combine the original data with only the popular movies\n",
    "filtered_data = pd.merge(merged_data, popular_movies, on='title', how='inner')\n",
    "# Find the average rating for each movie\n",
    "average_ratings = filtered_data.groupby('title')['rating'].mean().reset_index()"
   ]
  },
  {
   "cell_type": "code",
   "execution_count": 52,
   "metadata": {},
   "outputs": [
    {
     "data": {
      "text/html": [
       "<div>\n",
       "<style scoped>\n",
       "    .dataframe tbody tr th:only-of-type {\n",
       "        vertical-align: middle;\n",
       "    }\n",
       "\n",
       "    .dataframe tbody tr th {\n",
       "        vertical-align: top;\n",
       "    }\n",
       "\n",
       "    .dataframe thead th {\n",
       "        text-align: right;\n",
       "    }\n",
       "</style>\n",
       "<table border=\"1\" class=\"dataframe\">\n",
       "  <thead>\n",
       "    <tr style=\"text-align: right;\">\n",
       "      <th></th>\n",
       "      <th>title</th>\n",
       "      <th>num_ratings</th>\n",
       "      <th>rating</th>\n",
       "    </tr>\n",
       "  </thead>\n",
       "  <tbody>\n",
       "    <tr>\n",
       "      <th>0</th>\n",
       "      <td>2001: A Space Odyssey (1968)</td>\n",
       "      <td>109</td>\n",
       "      <td>3.894495</td>\n",
       "    </tr>\n",
       "    <tr>\n",
       "      <th>1</th>\n",
       "      <td>Ace Ventura: Pet Detective (1994)</td>\n",
       "      <td>161</td>\n",
       "      <td>3.040373</td>\n",
       "    </tr>\n",
       "    <tr>\n",
       "      <th>2</th>\n",
       "      <td>Aladdin (1992)</td>\n",
       "      <td>183</td>\n",
       "      <td>3.792350</td>\n",
       "    </tr>\n",
       "    <tr>\n",
       "      <th>3</th>\n",
       "      <td>Alien (1979)</td>\n",
       "      <td>146</td>\n",
       "      <td>3.969178</td>\n",
       "    </tr>\n",
       "    <tr>\n",
       "      <th>4</th>\n",
       "      <td>Aliens (1986)</td>\n",
       "      <td>126</td>\n",
       "      <td>3.964286</td>\n",
       "    </tr>\n",
       "    <tr>\n",
       "      <th>...</th>\n",
       "      <td>...</td>\n",
       "      <td>...</td>\n",
       "      <td>...</td>\n",
       "    </tr>\n",
       "    <tr>\n",
       "      <th>133</th>\n",
       "      <td>V for Vendetta (2006)</td>\n",
       "      <td>100</td>\n",
       "      <td>3.885000</td>\n",
       "    </tr>\n",
       "    <tr>\n",
       "      <th>134</th>\n",
       "      <td>WALL·E (2008)</td>\n",
       "      <td>104</td>\n",
       "      <td>4.057692</td>\n",
       "    </tr>\n",
       "    <tr>\n",
       "      <th>135</th>\n",
       "      <td>Waterworld (1995)</td>\n",
       "      <td>115</td>\n",
       "      <td>2.913043</td>\n",
       "    </tr>\n",
       "    <tr>\n",
       "      <th>136</th>\n",
       "      <td>Willy Wonka &amp; the Chocolate Factory (1971)</td>\n",
       "      <td>119</td>\n",
       "      <td>3.873950</td>\n",
       "    </tr>\n",
       "    <tr>\n",
       "      <th>137</th>\n",
       "      <td>X-Men (2000)</td>\n",
       "      <td>133</td>\n",
       "      <td>3.699248</td>\n",
       "    </tr>\n",
       "  </tbody>\n",
       "</table>\n",
       "<p>138 rows × 3 columns</p>\n",
       "</div>"
      ],
      "text/plain": [
       "                                          title  num_ratings    rating\n",
       "0                  2001: A Space Odyssey (1968)          109  3.894495\n",
       "1             Ace Ventura: Pet Detective (1994)          161  3.040373\n",
       "2                                Aladdin (1992)          183  3.792350\n",
       "3                                  Alien (1979)          146  3.969178\n",
       "4                                 Aliens (1986)          126  3.964286\n",
       "..                                          ...          ...       ...\n",
       "133                       V for Vendetta (2006)          100  3.885000\n",
       "134                               WALL·E (2008)          104  4.057692\n",
       "135                           Waterworld (1995)          115  2.913043\n",
       "136  Willy Wonka & the Chocolate Factory (1971)          119  3.873950\n",
       "137                                X-Men (2000)          133  3.699248\n",
       "\n",
       "[138 rows x 3 columns]"
      ]
     },
     "execution_count": 52,
     "metadata": {},
     "output_type": "execute_result"
    }
   ],
   "source": [
    "# Add the average rating column to the popular_movies DataFrame\n",
    "popular_movies = pd.merge(popular_movies, average_ratings, on='title', how='left')\n",
    "popular_movies"
   ]
  },
  {
   "cell_type": "code",
   "execution_count": 53,
   "metadata": {},
   "outputs": [],
   "source": [
    "# Create a special combined score by considering both the average rating and the number of ratings\n",
    "filtered_data['combined_metric'] = filtered_data['rating'] * (filtered_data['num_ratings'].apply(lambda x: min(1, x / 100)))"
   ]
  },
  {
   "cell_type": "code",
   "execution_count": 54,
   "metadata": {},
   "outputs": [
    {
     "data": {
      "text/html": [
       "<div>\n",
       "<style scoped>\n",
       "    .dataframe tbody tr th:only-of-type {\n",
       "        vertical-align: middle;\n",
       "    }\n",
       "\n",
       "    .dataframe tbody tr th {\n",
       "        vertical-align: top;\n",
       "    }\n",
       "\n",
       "    .dataframe thead th {\n",
       "        text-align: right;\n",
       "    }\n",
       "</style>\n",
       "<table border=\"1\" class=\"dataframe\">\n",
       "  <thead>\n",
       "    <tr style=\"text-align: right;\">\n",
       "      <th></th>\n",
       "      <th>title</th>\n",
       "      <th>combined_metric</th>\n",
       "    </tr>\n",
       "  </thead>\n",
       "  <tbody>\n",
       "    <tr>\n",
       "      <th>106</th>\n",
       "      <td>Shawshank Redemption, The (1994)</td>\n",
       "      <td>1404.0</td>\n",
       "    </tr>\n",
       "    <tr>\n",
       "      <th>50</th>\n",
       "      <td>Forrest Gump (1994)</td>\n",
       "      <td>1370.0</td>\n",
       "    </tr>\n",
       "    <tr>\n",
       "      <th>99</th>\n",
       "      <td>Pulp Fiction (1994)</td>\n",
       "      <td>1288.5</td>\n",
       "    </tr>\n",
       "    <tr>\n",
       "      <th>84</th>\n",
       "      <td>Matrix, The (1999)</td>\n",
       "      <td>1165.5</td>\n",
       "    </tr>\n",
       "    <tr>\n",
       "      <th>109</th>\n",
       "      <td>Silence of the Lambs, The (1991)</td>\n",
       "      <td>1161.0</td>\n",
       "    </tr>\n",
       "    <tr>\n",
       "      <th>...</th>\n",
       "      <td>...</td>\n",
       "      <td>...</td>\n",
       "    </tr>\n",
       "    <tr>\n",
       "      <th>95</th>\n",
       "      <td>Outbreak (1995)</td>\n",
       "      <td>346.0</td>\n",
       "    </tr>\n",
       "    <tr>\n",
       "      <th>32</th>\n",
       "      <td>Clueless (1995)</td>\n",
       "      <td>342.5</td>\n",
       "    </tr>\n",
       "    <tr>\n",
       "      <th>92</th>\n",
       "      <td>Net, The (1995)</td>\n",
       "      <td>340.5</td>\n",
       "    </tr>\n",
       "    <tr>\n",
       "      <th>135</th>\n",
       "      <td>Waterworld (1995)</td>\n",
       "      <td>335.0</td>\n",
       "    </tr>\n",
       "    <tr>\n",
       "      <th>30</th>\n",
       "      <td>Cliffhanger (1993)</td>\n",
       "      <td>306.5</td>\n",
       "    </tr>\n",
       "  </tbody>\n",
       "</table>\n",
       "<p>138 rows × 2 columns</p>\n",
       "</div>"
      ],
      "text/plain": [
       "                                title  combined_metric\n",
       "106  Shawshank Redemption, The (1994)           1404.0\n",
       "50                Forrest Gump (1994)           1370.0\n",
       "99                Pulp Fiction (1994)           1288.5\n",
       "84                 Matrix, The (1999)           1165.5\n",
       "109  Silence of the Lambs, The (1991)           1161.0\n",
       "..                                ...              ...\n",
       "95                    Outbreak (1995)            346.0\n",
       "32                    Clueless (1995)            342.5\n",
       "92                    Net, The (1995)            340.5\n",
       "135                 Waterworld (1995)            335.0\n",
       "30                 Cliffhanger (1993)            306.5\n",
       "\n",
       "[138 rows x 2 columns]"
      ]
     },
     "execution_count": 54,
     "metadata": {},
     "output_type": "execute_result"
    }
   ],
   "source": [
    "# Sort the movies based on the combined score from highest to lowest\n",
    "sorted_movies = filtered_data.groupby('title')['combined_metric'].sum().reset_index()\n",
    "sorted_movies = sorted_movies.sort_values(by='combined_metric', ascending=False)\n",
    "sorted_movies"
   ]
  },
  {
   "cell_type": "code",
   "execution_count": 55,
   "metadata": {},
   "outputs": [
    {
     "data": {
      "image/png": "[encoded data removed]",
      "text/plain": [
       "<Figure size 936x432 with 1 Axes>"
      ]
     },
     "metadata": {
      "needs_background": "light"
     },
     "output_type": "display_data"
    }
   ],
   "source": [
    "#Cool bar plot to show the top 10 movies with the best combined score\n",
    "plt.figure(figsize=(13, 6))\n",
    "sns.barplot(x=\"combined_metric\", y=\"title\", data=sorted_movies.head(10), palette=\"plasma\")\n",
    "plt.title(\"Top 10 Movies by Combined Metric (Most Watched and Highest Rated)\")\n",
    "plt.xlabel(\"Combined Metric\")\n",
    "plt.ylabel(\"Movie Title\")\n",
    "plt.show()"
   ]
  },
  {
   "cell_type": "code",
   "execution_count": 56,
   "metadata": {},
   "outputs": [
    {
     "data": {
      "text/plain": [
       "Index(['userId', 'movieId', 'rating', 'timestamp', 'title', 'genres'], dtype='object')"
      ]
     },
     "execution_count": 56,
     "metadata": {},
     "output_type": "execute_result"
    }
   ],
   "source": [
    "merged_data.columns"
   ]
  },
  {
   "cell_type": "code",
   "execution_count": 57,
   "metadata": {},
   "outputs": [
    {
     "data": {
      "text/plain": [
       "userId_y\n",
       "474    2455\n",
       "414    2343\n",
       "599    2100\n",
       "68     1791\n",
       "610    1701\n",
       "       ... \n",
       "406      10\n",
       "499       9\n",
       "207       8\n",
       "578       6\n",
       "175       5\n",
       "Name: rating, Length: 610, dtype: int64"
      ]
     },
     "execution_count": 57,
     "metadata": {},
     "output_type": "execute_result"
    }
   ],
   "source": [
    "#Analysis of rating given by the user \n",
    "no_of_rated_movies_per_user = merged_df.groupby(by='userId_y')['rating'].count().sort_values(ascending=False)\n",
    "no_of_rated_movies_per_user"
   ]
  },
  {
   "cell_type": "code",
   "execution_count": 58,
   "metadata": {},
   "outputs": [
    {
     "data": {
      "text/plain": [
       "count     610.000000\n",
       "mean      382.316393\n",
       "std       365.395411\n",
       "min         5.000000\n",
       "25%       106.500000\n",
       "50%       280.000000\n",
       "75%       525.000000\n",
       "max      2455.000000\n",
       "Name: rating, dtype: float64"
      ]
     },
     "execution_count": 58,
     "metadata": {},
     "output_type": "execute_result"
    }
   ],
   "source": [
    "no_of_rated_movies_per_user.describe()"
   ]
  },
  {
   "cell_type": "markdown",
   "metadata": {},
   "source": [
    "### Most popular movies by genre"
   ]
  },
  {
   "cell_type": "code",
   "execution_count": 59,
   "metadata": {},
   "outputs": [],
   "source": [
    "# Merge datasets based on movieId\n",
    "movie_ratings = pd.merge(ratings_data, movies_data, on='movieId')\n",
    "# Count how many ratings each movie has\n",
    "ratings_count = movie_ratings.groupby('title')['userId'].count().reset_index(name='num_ratings')\n",
    "# Filter movies with more than 100 ratings\n",
    "popular_movies = ratings_count[ratings_count['num_ratings'] > 100]\n",
    "# Select movies with over 100 ratings from the merged DataFrame\n",
    "movie_ratings_with_100_ratings = movie_ratings[movie_ratings['title'].isin(popular_movies['title'])]\n",
    "# Function to get the most popular movies by genre\n",
    "def get_most_popular_by_genre(genre, top_n=5):\n",
    "    # Filter movies with over 100 ratings by genre\n",
    "    genre_movies = movie_ratings_with_100_ratings[movie_ratings_with_100_ratings['genres'].str.contains(genre, case=False)]\n",
    "    # Calculate average ratings and number of ratings for each movie\n",
    "    genre_movie_stats = genre_movies.groupby('title').agg({'rating': ['mean', 'count']})\n",
    "\n",
    "    # Rename columns for clarity\n",
    "    genre_movie_stats.columns = ['avg_rating', 'num_ratings']\n",
    "\n",
    "    # Sort by average rating and number of ratings\n",
    "    sorted_genre_movies = genre_movie_stats.sort_values(by=['avg_rating', 'num_ratings'], ascending=[False, False])\n",
    "\n",
    "    # Select the top N movies\n",
    "    top_movies = sorted_genre_movies.head(top_n)\n",
    "\n",
    "    return top_movies"
   ]
  },
  {
   "cell_type": "code",
   "execution_count": 60,
   "metadata": {},
   "outputs": [
    {
     "name": "stdout",
     "output_type": "stream",
     "text": [
      "Enter the genre you're interested in: Comedy\n",
      "Most porpular Comedy Movies:\n",
      "                                                    avg_rating  num_ratings\n",
      "title                                                                      \n",
      "Princess Bride, The (1987)                            4.232394          142\n",
      "Pulp Fiction (1994)                                   4.197068          307\n",
      "Amelie (Fabuleux destin d'Amélie Poulain, Le) (...    4.183333          120\n",
      "Forrest Gump (1994)                                   4.164134          329\n",
      "Monty Python and the Holy Grail (1975)                4.161765          136\n"
     ]
    }
   ],
   "source": [
    "# Ask the user for input\n",
    "genre_input = input(\"Enter the genre you're interested in: \")\n",
    "\n",
    "# Get the top movies based on user input\n",
    "top_genre_movies = get_most_popular_by_genre(genre_input)\n",
    "\n",
    "# Display the result if it's not None\n",
    "if top_genre_movies is not None:\n",
    "    print(f\"Most porpular {genre_input} Movies:\")\n",
    "    print(top_genre_movies)"
   ]
  },
  {
   "cell_type": "markdown",
   "metadata": {},
   "source": [
    "## Recommendation systems"
   ]
  },
  {
   "cell_type": "markdown",
   "metadata": {},
   "source": [
    "### Building Recommendation System (Collaborative Filtering using Surprise library)"
   ]
  },
  {
   "cell_type": "code",
   "execution_count": 61,
   "metadata": {},
   "outputs": [
    {
     "name": "stdout",
     "output_type": "stream",
     "text": [
      "Evaluating RMSE, MAE of algorithm SVD on 5 split(s).\n",
      "\n",
      "                  Fold 1  Fold 2  Fold 3  Fold 4  Fold 5  Mean    Std     \n",
      "RMSE (testset)    0.8735  0.8744  0.8739  0.8731  0.8808  0.8751  0.0029  \n",
      "MAE (testset)     0.6724  0.6728  0.6710  0.6712  0.6759  0.6727  0.0018  \n",
      "Fit time          6.48    6.68    6.61    6.97    7.10    6.77    0.23    \n",
      "Test time         0.31    0.18    0.31    0.20    0.28    0.26    0.05    \n",
      "RMSE: 0.6429\n",
      "MAE:  0.4990\n",
      "Test RMSE: 0.6429, Test MAE: 0.4990\n"
     ]
    }
   ],
   "source": [
    "from surprise import Reader, Dataset, SVD\n",
    "from surprise.model_selection import train_test_split, cross_validate\n",
    "from surprise import accuracy  \n",
    "\n",
    "\n",
    "# Load data for Surprise library\n",
    "reader = Reader()\n",
    "data = Dataset.load_from_df(ratings_data[['userId', 'movieId', 'rating']], reader)\n",
    "trainset, testset = train_test_split(data, test_size=0.2, random_state=42)\n",
    "\n",
    "# Use SVD algorithm and perform cross-validation on the training set\n",
    "svd = SVD()\n",
    "cross_validate(svd, data, measures=['RMSE', 'MAE'], cv=5, verbose=True)\n",
    "\n",
    "# Train the model on the entire training set\n",
    "trainset = data.build_full_trainset()\n",
    "svd.fit(trainset)\n",
    "\n",
    "# Evaluate the model on the testing set\n",
    "test_predictions = svd.test(testset)\n",
    "test_rmse = accuracy.rmse(test_predictions)\n",
    "test_mae = accuracy.mae(test_predictions)\n",
    "print(f\"Test RMSE: {test_rmse:.4f}, Test MAE: {test_mae:.4f}\")\n",
    "\n",
    "# Make recommendations for a specific user\n",
    "user_id = 7\n",
    "user_movies = ratings_data[ratings_data['userId'] == user_id]['movieId']\n",
    "unrated_movies = movies_data[~movies_data['movieId'].isin(user_movies)]['movieId']\n",
    "\n",
    "# Generate predictions for unrated movies\n",
    "user_predictions = [(movie, svd.predict(user_id, movie).est) for movie in unrated_movies]\n",
    "\n",
    "# Sort predictions by estimated rating\n",
    "sorted_predictions = sorted(user_predictions, key=lambda x: x[1], reverse=True)"
   ]
  },
  {
   "cell_type": "code",
   "execution_count": 62,
   "metadata": {},
   "outputs": [
    {
     "name": "stdout",
     "output_type": "stream",
     "text": [
      "\n",
      "Top 5 Movie Recommendations:\n",
      "Movie: Princess Bride, The (1987), Estimated Rating: 4.355167000769163\n",
      "Movie: Matrix, The (1999), Estimated Rating: 4.285804886193702\n",
      "Movie: Reservoir Dogs (1992), Estimated Rating: 4.279740354004809\n",
      "Movie: Monty Python and the Holy Grail (1975), Estimated Rating: 4.250317147414388\n",
      "Movie: Road Warrior, The (Mad Max 2) (1981), Estimated Rating: 4.165503168184144\n"
     ]
    }
   ],
   "source": [
    "# Display top 5 movie recommendations\n",
    "top_recommendations = sorted_predictions[:5]\n",
    "print(\"\\nTop 5 Movie Recommendations:\")\n",
    "for movie_id, estimated_rating in top_recommendations:\n",
    "    movie_title = movies_data[movies_data['movieId'] == movie_id]['title'].values[0]\n",
    "    print(f\"Movie: {movie_title}, Estimated Rating: {estimated_rating}\")"
   ]
  },
  {
   "cell_type": "markdown",
   "metadata": {},
   "source": [
    "**CONTENT BASED**"
   ]
  },
  {
   "cell_type": "code",
   "execution_count": 63,
   "metadata": {},
   "outputs": [],
   "source": [
    "def genres_and_titles_to_string(row):\n",
    "    genres = row['genres'].split('|')\n",
    "    genres = ' '.join(''.join(j) for j in genres)\n",
    "    \n",
    "    title = row['title']\n",
    "    \n",
    "    return \"%s %s\" % (genres, title)"
   ]
  },
  {
   "cell_type": "code",
   "execution_count": 64,
   "metadata": {},
   "outputs": [],
   "source": [
    "movies_data['string'] = movies_data.apply(genres_and_titles_to_string, axis = 1)"
   ]
  },
  {
   "cell_type": "code",
   "execution_count": 65,
   "metadata": {},
   "outputs": [],
   "source": [
    "#create a tf-idf vectorizer object\n",
    "tfidf = TfidfVectorizer(max_features = 200)"
   ]
  },
  {
   "cell_type": "code",
   "execution_count": 66,
   "metadata": {},
   "outputs": [
    {
     "data": {
      "text/plain": [
       "(9742, 200)"
      ]
     },
     "execution_count": 66,
     "metadata": {},
     "output_type": "execute_result"
    }
   ],
   "source": [
    "#create the TF-IDF matrix\n",
    "X = tfidf.fit_transform(movies_data['string'])\n",
    "X.shape"
   ]
  },
  {
   "cell_type": "code",
   "execution_count": 67,
   "metadata": {},
   "outputs": [],
   "source": [
    "movie2idx = pd.Series(movies_data.index, index = movies_data['title'])"
   ]
  },
  {
   "cell_type": "markdown",
   "metadata": {},
   "source": [
    "### Content-Based Filtering by Title"
   ]
  },
  {
   "cell_type": "code",
   "execution_count": 68,
   "metadata": {},
   "outputs": [],
   "source": [
    "def recommend(movie, K):\n",
    "    #get the row in the df for this movie\n",
    "    idx = movie2idx[movie]\n",
    "    if type(idx) == pd.Series:\n",
    "        idx = idx.iloc[0]\n",
    "        \n",
    "    #calculate the pairwise similarities for this movie:\n",
    "    movie_index = X[idx]\n",
    "    scores = cosine_similarity(movie_index, X)\n",
    "    \n",
    "    #currently the array is 1xN, make it 1D array\n",
    "    scores = scores.flatten()\n",
    "    \n",
    "    #get the indices of the highest scoring movies\n",
    "    recommended_idx = (-scores).argsort()[1:K+1]\n",
    "    \n",
    "    #return the titles of the recommendations\n",
    "    return movies_data['title'].iloc[recommended_idx]"
   ]
  },
  {
   "cell_type": "code",
   "execution_count": 69,
   "metadata": {},
   "outputs": [
    {
     "data": {
      "text/plain": [
       "2355                        Toy Story 2 (1999)\n",
       "12                                Balto (1995)\n",
       "1                               Jumanji (1995)\n",
       "7355                        Toy Story 3 (2010)\n",
       "599     Wallace & Gromit: A Close Shave (1995)\n",
       "209                               Gordy (1995)\n",
       "4604      Ninja Scroll (Jûbei ninpûchô) (1995)\n",
       "Name: title, dtype: object"
      ]
     },
     "execution_count": 69,
     "metadata": {},
     "output_type": "execute_result"
    }
   ],
   "source": [
    "recommend('Toy Story (1995)',7)"
   ]
  },
  {
   "cell_type": "markdown",
   "metadata": {},
   "source": [
    "### Content-Based Filtering by Genre"
   ]
  },
  {
   "cell_type": "code",
   "execution_count": 70,
   "metadata": {},
   "outputs": [],
   "source": [
    "movie3idx = pd.Series(movies_data.index, index = movies_data['genres'])\n",
    "movie3idx\n",
    "def recommend_g(movie, K):\n",
    "    #get the row in the df for this movie\n",
    "    idx = movie3idx[movie]\n",
    "    if type(idx) == pd.Series:\n",
    "        idx = idx.iloc[0]\n",
    "        \n",
    "    #calculate the pairwise similarities for this movie:\n",
    "    movie_index = X[idx]\n",
    "    scores = cosine_similarity(movie_index, X)\n",
    "    \n",
    "    #currently the array is 1xN, make it 1D array\n",
    "    scores = scores.flatten()\n",
    "    \n",
    "    #get the indices of the highest scoring movies\n",
    "    recommended_idx = (-scores).argsort()[1:K+1]\n",
    "    \n",
    "    #return the titles of the recommendations\n",
    "    return movies_data['title'].iloc[recommended_idx]"
   ]
  },
  {
   "cell_type": "code",
   "execution_count": 71,
   "metadata": {},
   "outputs": [
    {
     "data": {
      "text/plain": [
       "188                                  Castle Freak (1995)\n",
       "571                                Delta of Venus (1995)\n",
       "675    Halloween: The Curse of Michael Myers (Hallowe...\n",
       "290                         Village of the Damned (1995)\n",
       "125                                Addiction, The (1995)\n",
       "352                       In the Mouth of Madness (1995)\n",
       "189                             Circle of Friends (1995)\n",
       "Name: title, dtype: object"
      ]
     },
     "execution_count": 71,
     "metadata": {},
     "output_type": "execute_result"
    }
   ],
   "source": [
    "recommend_g('Horror',7)"
   ]
  },
  {
   "cell_type": "markdown",
   "metadata": {},
   "source": [
    "### Attempt at Hybrid Reccomendation System"
   ]
  },
  {
   "cell_type": "code",
   "execution_count": 72,
   "metadata": {},
   "outputs": [],
   "source": [
    "# Collaborative Filtering\n",
    "def collaborative_filtering(user_id, movie_id):\n",
    "    reader = Reader()\n",
    "    data = Dataset.load_from_df(ratings_data[['userId', 'movieId', 'rating']], reader)\n",
    "    trainset = data.build_full_trainset()\n",
    "    \n",
    "    svd = SVD()\n",
    "    svd.fit(trainset)\n",
    "    \n",
    "    prediction = svd.predict(user_id, movie_id)\n",
    "    return prediction.est\n",
    "\n",
    "# Content-Based Filtering\n",
    "def content_based_filtering(movie, K):\n",
    "    tfidf = TfidfVectorizer(max_features=200)\n",
    "    X = tfidf.fit_transform(movies_data['string'])\n",
    "    \n",
    "    idx = movie2idx[movie]\n",
    "    if type(idx) == pd.Series:\n",
    "        idx = idx.iloc[0]\n",
    "\n",
    "    movie_index = X[idx]\n",
    "    scores = cosine_similarity(movie_index, X)\n",
    "    scores = scores.flatten()\n",
    "    \n",
    "    recommended_idx = (-scores).argsort()[1:K+1]\n",
    "    \n",
    "    return movies_data['title'].iloc[recommended_idx]\n",
    "\n",
    "# Hybrid Recommendation System\n",
    "def hybrid_recommendation(user_id, input_title_or_genre, K=5, collaborative_weight=0.5):\n",
    "    if input_title_or_genre in movies_data['title'].values:\n",
    "        movie_id = movie2idx[input_title_or_genre]\n",
    "        collaborative_score = collaborative_filtering(user_id, movie_id)\n",
    "        content_based_movies = content_based_filtering(input_title_or_genre, K)\n",
    "    elif input_title_or_genre in movies_data['genres'].str.split('|').sum():\n",
    "        # If input is a genre\n",
    "        content_based_movies = content_based_filtering(input_title_or_genre, K)\n",
    "        collaborative_score = 0  # No collaborative filtering for genres\n",
    "    else:\n",
    "        print(\"Invalid input. Please enter a valid movie title or genre.\")\n",
    "        return\n",
    "\n",
    "    # Combine scores\n",
    "    hybrid_scores = (collaborative_weight * collaborative_score) + ((1 - collaborative_weight) * content_based_movies.index)\n",
    "    \n",
    "    # Get the top K movies based on hybrid scores\n",
    "    top_hybrid_movies = movies_data['title'].iloc[hybrid_scores.argsort()[::-1][:K]]\n",
    "    \n",
    "    return top_hybrid_movies\n",
    "\n"
   ]
  },
  {
   "cell_type": "code",
   "execution_count": 73,
   "metadata": {},
   "outputs": [
    {
     "name": "stdout",
     "output_type": "stream",
     "text": [
      "Enter a movie title or genre: Toy Story (1995)\n",
      "Top 5 Hybrid Recommendations:\n",
      "3              Waiting to Exhale (1995)\n",
      "0                      Toy Story (1995)\n",
      "4    Father of the Bride Part II (1995)\n",
      "1                        Jumanji (1995)\n",
      "2               Grumpier Old Men (1995)\n",
      "Name: title, dtype: object\n"
     ]
    }
   ],
   "source": [
    "# Testing recommending movies based on user input\n",
    "user_id = 1\n",
    "user_input = input(\"Enter a movie title or genre: \")\n",
    "recommended_movies = hybrid_recommendation(user_id, user_input)\n",
    "print(f\"Top 5 Hybrid Recommendations:\")\n",
    "print(recommended_movies)"
   ]
  },
  {
   "cell_type": "code",
   "execution_count": 74,
   "metadata": {},
   "outputs": [
    {
     "name": "stdout",
     "output_type": "stream",
     "text": [
      "Model pickled successfully.\n"
     ]
    }
   ],
   "source": [
    "import pickle\n",
    "\n",
    "# Save the trained SVD model to a file\n",
    "model_data = {\n",
    "    'ratings_data': ratings_data,\n",
    "    'movies_data': movies_data,\n",
    "    'movie2idx': movie2idx,\n",
    "    'hybrid_recommendation': hybrid_recommendation\n",
    "}\n",
    "\n",
    "with open('hybrid_recommendation_model.pkl', 'wb') as file:\n",
    "    pickle.dump(model_data, file)\n",
    "\n",
    "print(\"Model pickled successfully.\")"
   ]
  },
  {
   "cell_type": "code",
   "execution_count": 75,
   "metadata": {},
   "outputs": [
    {
     "name": "stdout",
     "output_type": "stream",
     "text": [
      "Enter a valid movie title or genre: Toy Story (1995)\n",
      "Top 5 Hybrid Recommendations:\n",
      "3              Waiting to Exhale (1995)\n",
      "0                      Toy Story (1995)\n",
      "4    Father of the Bride Part II (1995)\n",
      "1                        Jumanji (1995)\n",
      "2               Grumpier Old Men (1995)\n",
      "Name: title, dtype: object\n"
     ]
    }
   ],
   "source": [
    "# Load the pickled functions\n",
    "with open('hybrid_recommendation_model.pkl', 'rb') as file:\n",
    "    loaded_model_data = pickle.load(file)\n",
    "\n",
    "# Extract the necessary data from the loaded model\n",
    "ratings_data = loaded_model_data['ratings_data']\n",
    "movies_data = loaded_model_data['movies_data']\n",
    "movie2idx = loaded_model_data['movie2idx']\n",
    "hybrid_recommendation_function = loaded_model_data['hybrid_recommendation']\n",
    "\n",
    "# User input\n",
    "user_id = 1\n",
    "user_input = input(\"Enter a valid movie title or genre: \")\n",
    "recommended_movies = hybrid_recommendation(user_id, user_input)\n",
    "print(f\"Top 5 Hybrid Recommendations:\")\n",
    "print(recommended_movies)"
   ]
  }
 ],
 "metadata": {
  "kernelspec": {
   "display_name": "Python 3",
   "language": "python",
   "name": "python3"
  },
  "language_info": {
   "codemirror_mode": {
    "name": "ipython",
    "version": 3
   },
   "file_extension": ".py",
   "mimetype": "text/x-python",
   "name": "python",
   "nbconvert_exporter": "python",
   "pygments_lexer": "ipython3",
   "version": "3.8.5"
  }
 },
 "nbformat": 4,
 "nbformat_minor": 2
}
