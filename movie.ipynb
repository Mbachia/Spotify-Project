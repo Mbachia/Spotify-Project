{
 "cells": [
  {
   "cell_type": "markdown",
   "metadata": {},
   "source": [
    "# MOVIE RECOMMENDATION SYSTEM"
   ]
  },
  {
   "cell_type": "markdown",
   "metadata": {},
   "source": [
    "## Overview"
   ]
  },
  {
   "cell_type": "markdown",
   "metadata": {},
   "source": [
    "Developing a movie recommendation system to improve the user experience in the entertainment industry. By leveraging historical data , our project aims to enhance customer satisfaction by providing personalized movie suggestions, fostering engagement, and driving user retention"
   ]
  },
  {
   "cell_type": "markdown",
   "metadata": {},
   "source": [
    "##  Business Understanding</small>"
   ]
  },
  {
   "cell_type": "markdown",
   "metadata": {},
   "source": [
    "### Background\n",
    "In this project, our objective is to develop a movie recommendation system utilizing the MovieLens dataset sourced from the GroupLens research lab at the University of Minnesota. This dataset contains user ratings for movies and is widely recognized in academic research and machine learning experiments.\n",
    "\n",
    "### Business Problem\n",
    "The primary goal is to enhance the user experience by providing personalized movie recommendations. The system will suggest the top 5 movies to each user based on their previous ratings. This tailored recommendation system aims to boost user engagement, satisfaction, and overall retention within a movie-streaming platform.\n",
    "\n",
    "### User Interaction\n",
    "Users will interact with the system through the movie-streaming platform, providing feedback through explicit ratings or indicating preferences through likes, dislikes, or their viewing history. The system's design should seamlessly integrate into the platform's user interface, ensuring a smooth and enjoyable user experience.\n",
    "\n",
    "### Collaborative Filtering\n",
    "The recommendation system will heavily rely on collaborative filtering as its primary mechanism. This technique involves making predictions about a user's preferences by aggregating insights from numerous users. Additionally, we may explore a hybrid approach, incorporating content-based filtering to tackle the cold start problem – a scenario where new or unrated movies necessitate recommendations.\n",
    "\n",
    "### Evaluation Metrics\n",
    "To gauge the effectiveness of our recommendation system, we will employ pertinent metrics. Traditional regression metrics like Root Mean Squared Error (RMSE) and Mean Absolute Error (MAE) will be utilized to quantify the accuracy of predictions. These metrics offer valuable insights into the system's proficiency in forecasting user preferences, guiding us in refining its performance."
   ]
  },
  {
   "cell_type": "markdown",
   "metadata": {},
   "source": [
    "**DATA UNDERSTANDING**\n",
    "\n",
    "Dataset - * The dataset used for this project can be found in [Kaggle](https://grouplens.org/datasets/movielens/latest/)\n",
    "\n",
    "tag.csv that contains tags applied to movies by users:\n",
    "userId, movieId, tag, timestamp\n",
    "\n",
    "rating.csv that contains ratings of movies by users:\n",
    "userId, movieId, rating, timestamp\n",
    "\n",
    "movie.csv that contains movie information:\n",
    "movieId, title, genres"
   ]
  },
  {
   "cell_type": "markdown",
   "metadata": {},
   "source": [
    "**PROBLEM STATEMENT**\n",
    "\n",
    "With so many movie alternatives available nowadays, people find it difficult to choose films that suit their tastes due to information overload. Manual searches take a lot of time, which causes decision fatigue and lowers user engagement on a platform. A customized movie recommendation system that makes use of user-specific information and collaborative filtering methods will address this. By creating an effective recommendation engine that smoothly connects with user profiles, this project seeks to improve user satisfaction and retention by enabling a more efficient and enjoyable exploration of the extensive movie catalogs."
   ]
  },
  {
   "cell_type": "markdown",
   "metadata": {},
   "source": [
    "**OBJECTIVES**\n",
    "\n",
    "Main objective:\n",
    "\n",
    "* To provide personalized movie recommendations tailored to individual user preferences. \n",
    "\n",
    "Specific objectives:\n",
    "\n",
    "* To find the most popular movies by genre \n",
    "* To build a recommendation system that scales efficiently with a growing user base and an expanding movie catalog.\n",
    "* To provide near-real-time movie recommendations based on user interactions"
   ]
  },
  {
   "cell_type": "markdown",
   "metadata": {},
   "source": [
    "##  Reading the data"
   ]
  },
  {
   "cell_type": "code",
   "execution_count": 51,
   "metadata": {},
   "outputs": [],
   "source": [
    "# Importing the necessary libraries \n",
    "import pandas as pd\n",
    "import numpy as np \n",
    "\n",
    "import seaborn as sns\n",
    "import matplotlib.pyplot as plt \n",
    "%matplotlib inline\n",
    "\n",
    "\n",
    "import warnings\n",
    "warnings.filterwarnings(\"ignore\")\n",
    "\n",
    "\n",
    "import re\n",
    "from sklearn.metrics.pairwise import cosine_similarity\n",
    "from sklearn.feature_extraction.text import TfidfVectorizer\n",
    "from sklearn.metrics.pairwise import cosine_similarity\n",
    "\n",
    "\n",
    "import nltk\n",
    "from nltk.corpus import stopwords\n",
    "from nltk.tokenize import word_tokenize\n",
    "\n",
    "import surprise\n"
   ]
  },
  {
   "cell_type": "code",
   "execution_count": 52,
   "metadata": {},
   "outputs": [
    {
     "name": "stdout",
     "output_type": "stream",
     "text": [
      "Dataframe shape (3683, 4)\n",
      "Dataframe shape (9742, 3)\n",
      "Dataframe shape (100836, 4)\n"
     ]
    }
   ],
   "source": [
    "# Loading the datasets\n",
    "\n",
    "tags_data = pd.read_csv(\"tags.csv\")\n",
    "movies_data = pd.read_csv(\"movies.csv\")\n",
    "ratings_data = pd.read_csv(\"ratings.csv\")\n",
    "\n",
    "# Preview the shape of the dataset\n",
    "print('Dataframe shape {}'.format(tags_data.shape))\n",
    "print('Dataframe shape {}'.format(movies_data.shape))\n",
    "print('Dataframe shape {}'.format(ratings_data.shape))"
   ]
  },
  {
   "cell_type": "code",
   "execution_count": 53,
   "metadata": {},
   "outputs": [
    {
     "data": {
      "text/html": [
       "<div>\n",
       "<style scoped>\n",
       "    .dataframe tbody tr th:only-of-type {\n",
       "        vertical-align: middle;\n",
       "    }\n",
       "\n",
       "    .dataframe tbody tr th {\n",
       "        vertical-align: top;\n",
       "    }\n",
       "\n",
       "    .dataframe thead th {\n",
       "        text-align: right;\n",
       "    }\n",
       "</style>\n",
       "<table border=\"1\" class=\"dataframe\">\n",
       "  <thead>\n",
       "    <tr style=\"text-align: right;\">\n",
       "      <th></th>\n",
       "      <th>movieId</th>\n",
       "      <th>title</th>\n",
       "      <th>genres</th>\n",
       "      <th>userId_x</th>\n",
       "      <th>tag</th>\n",
       "      <th>timestamp_x</th>\n",
       "      <th>userId_y</th>\n",
       "      <th>rating</th>\n",
       "      <th>timestamp_y</th>\n",
       "    </tr>\n",
       "  </thead>\n",
       "  <tbody>\n",
       "    <tr>\n",
       "      <th>0</th>\n",
       "      <td>1</td>\n",
       "      <td>Toy Story (1995)</td>\n",
       "      <td>Adventure|Animation|Children|Comedy|Fantasy</td>\n",
       "      <td>336</td>\n",
       "      <td>pixar</td>\n",
       "      <td>1139045764</td>\n",
       "      <td>1</td>\n",
       "      <td>4.0</td>\n",
       "      <td>964982703</td>\n",
       "    </tr>\n",
       "    <tr>\n",
       "      <th>1</th>\n",
       "      <td>1</td>\n",
       "      <td>Toy Story (1995)</td>\n",
       "      <td>Adventure|Animation|Children|Comedy|Fantasy</td>\n",
       "      <td>336</td>\n",
       "      <td>pixar</td>\n",
       "      <td>1139045764</td>\n",
       "      <td>5</td>\n",
       "      <td>4.0</td>\n",
       "      <td>847434962</td>\n",
       "    </tr>\n",
       "    <tr>\n",
       "      <th>2</th>\n",
       "      <td>1</td>\n",
       "      <td>Toy Story (1995)</td>\n",
       "      <td>Adventure|Animation|Children|Comedy|Fantasy</td>\n",
       "      <td>336</td>\n",
       "      <td>pixar</td>\n",
       "      <td>1139045764</td>\n",
       "      <td>7</td>\n",
       "      <td>4.5</td>\n",
       "      <td>1106635946</td>\n",
       "    </tr>\n",
       "    <tr>\n",
       "      <th>3</th>\n",
       "      <td>1</td>\n",
       "      <td>Toy Story (1995)</td>\n",
       "      <td>Adventure|Animation|Children|Comedy|Fantasy</td>\n",
       "      <td>336</td>\n",
       "      <td>pixar</td>\n",
       "      <td>1139045764</td>\n",
       "      <td>15</td>\n",
       "      <td>2.5</td>\n",
       "      <td>1510577970</td>\n",
       "    </tr>\n",
       "    <tr>\n",
       "      <th>4</th>\n",
       "      <td>1</td>\n",
       "      <td>Toy Story (1995)</td>\n",
       "      <td>Adventure|Animation|Children|Comedy|Fantasy</td>\n",
       "      <td>336</td>\n",
       "      <td>pixar</td>\n",
       "      <td>1139045764</td>\n",
       "      <td>17</td>\n",
       "      <td>4.5</td>\n",
       "      <td>1305696483</td>\n",
       "    </tr>\n",
       "  </tbody>\n",
       "</table>\n",
       "</div>"
      ],
      "text/plain": [
       "   movieId             title                                       genres  \\\n",
       "0        1  Toy Story (1995)  Adventure|Animation|Children|Comedy|Fantasy   \n",
       "1        1  Toy Story (1995)  Adventure|Animation|Children|Comedy|Fantasy   \n",
       "2        1  Toy Story (1995)  Adventure|Animation|Children|Comedy|Fantasy   \n",
       "3        1  Toy Story (1995)  Adventure|Animation|Children|Comedy|Fantasy   \n",
       "4        1  Toy Story (1995)  Adventure|Animation|Children|Comedy|Fantasy   \n",
       "\n",
       "   userId_x    tag  timestamp_x  userId_y  rating  timestamp_y  \n",
       "0       336  pixar   1139045764         1     4.0    964982703  \n",
       "1       336  pixar   1139045764         5     4.0    847434962  \n",
       "2       336  pixar   1139045764         7     4.5   1106635946  \n",
       "3       336  pixar   1139045764        15     2.5   1510577970  \n",
       "4       336  pixar   1139045764        17     4.5   1305696483  "
      ]
     },
     "execution_count": 53,
     "metadata": {},
     "output_type": "execute_result"
    }
   ],
   "source": [
    "# Merge movies_data and tags_data on 'movieId'\n",
    "merged_df = pd.merge(movies_data, tags_data, on='movieId', how='inner')\n",
    "\n",
    "# Merge the result with ratings_data on 'movieId'\n",
    "merged_df = pd.merge(merged_df, ratings_data, on='movieId', how='inner')\n",
    "\n",
    "# Display the resulting DataFrame\n",
    "merged_df.head()"
   ]
  },
  {
   "cell_type": "code",
   "execution_count": 54,
   "metadata": {},
   "outputs": [
    {
     "data": {
      "text/plain": [
       "(233213, 9)"
      ]
     },
     "execution_count": 54,
     "metadata": {},
     "output_type": "execute_result"
    }
   ],
   "source": [
    "merged_df.shape"
   ]
  },
  {
   "cell_type": "code",
   "execution_count": 55,
   "metadata": {},
   "outputs": [],
   "source": [
    "#  Creating a class for exploring and analyzing Pandas DataFrames.\n",
    "class DataExplorer:\n",
    "    def __init__(self, data):\n",
    "        \"\"\"\n",
    "        Initialize the DataExplorer class with a dataset.\n",
    "        :param data: Pandas DataFrame\n",
    "        \"\"\"\n",
    "        self.data = data\n",
    "        \n",
    "    def check_head(self, rows=5):\n",
    "        \"\"\"\n",
    "        Display the first few rows of the dataset.\n",
    "        :return: Pandas DataFrame showing the head of the dataset\n",
    "        \"\"\"\n",
    "        return self.data.head(rows)\n",
    "    \n",
    "    def check_info(self):\n",
    "        \"\"\"\n",
    "        Display information about the dataset (data types, memory usage, etc.).\n",
    "        \"\"\"\n",
    "        return self.data.info()\n",
    "    \n",
    "    def check_describe(self):\n",
    "        \"\"\"\n",
    "        Generate descriptive statistics of the dataset (count, mean, etc.).\n",
    "        :return: Pandas DataFrame with descriptive statistics\n",
    "        \"\"\"\n",
    "        return self.data.describe()\n",
    "    "
   ]
  },
  {
   "cell_type": "code",
   "execution_count": 56,
   "metadata": {},
   "outputs": [
    {
     "name": "stdout",
     "output_type": "stream",
     "text": [
      "Head of the dataset:\n",
      "   movieId             title                                       genres  \\\n",
      "0        1  Toy Story (1995)  Adventure|Animation|Children|Comedy|Fantasy   \n",
      "1        1  Toy Story (1995)  Adventure|Animation|Children|Comedy|Fantasy   \n",
      "2        1  Toy Story (1995)  Adventure|Animation|Children|Comedy|Fantasy   \n",
      "3        1  Toy Story (1995)  Adventure|Animation|Children|Comedy|Fantasy   \n",
      "4        1  Toy Story (1995)  Adventure|Animation|Children|Comedy|Fantasy   \n",
      "\n",
      "   userId_x    tag  timestamp_x  userId_y  rating  timestamp_y  \n",
      "0       336  pixar   1139045764         1     4.0    964982703  \n",
      "1       336  pixar   1139045764         5     4.0    847434962  \n",
      "2       336  pixar   1139045764         7     4.5   1106635946  \n",
      "3       336  pixar   1139045764        15     2.5   1510577970  \n",
      "4       336  pixar   1139045764        17     4.5   1305696483  \n",
      "\n",
      "Dataset info:\n",
      "<class 'pandas.core.frame.DataFrame'>\n",
      "Int64Index: 233213 entries, 0 to 233212\n",
      "Data columns (total 9 columns):\n",
      " #   Column       Non-Null Count   Dtype  \n",
      "---  ------       --------------   -----  \n",
      " 0   movieId      233213 non-null  int64  \n",
      " 1   title        233213 non-null  object \n",
      " 2   genres       233213 non-null  object \n",
      " 3   userId_x     233213 non-null  int64  \n",
      " 4   tag          233213 non-null  object \n",
      " 5   timestamp_x  233213 non-null  int64  \n",
      " 6   userId_y     233213 non-null  int64  \n",
      " 7   rating       233213 non-null  float64\n",
      " 8   timestamp_y  233213 non-null  int64  \n",
      "dtypes: float64(1), int64(5), object(3)\n",
      "memory usage: 17.8+ MB\n",
      "\n",
      "Dataset statistics:\n",
      "             movieId       userId_x   timestamp_x       userId_y  \\\n",
      "count  233213.000000  233213.000000  2.332130e+05  233213.000000   \n",
      "mean    12319.999443     470.683564  1.384774e+09     309.688191   \n",
      "std     28243.919401     153.329632  1.534621e+08     178.206387   \n",
      "min         1.000000       2.000000  1.137179e+09       1.000000   \n",
      "25%       296.000000     424.000000  1.242494e+09     156.000000   \n",
      "50%      1198.000000     477.000000  1.457901e+09     309.000000   \n",
      "75%      4638.000000     599.000000  1.498457e+09     460.000000   \n",
      "max    193565.000000     610.000000  1.537099e+09     610.000000   \n",
      "\n",
      "              rating   timestamp_y  \n",
      "count  233213.000000  2.332130e+05  \n",
      "mean        3.966535  1.213524e+09  \n",
      "std         0.968637  2.250448e+08  \n",
      "min         0.500000  8.281246e+08  \n",
      "25%         3.500000  1.017365e+09  \n",
      "50%         4.000000  1.217325e+09  \n",
      "75%         5.000000  1.443201e+09  \n",
      "max         5.000000  1.537799e+09  \n"
     ]
    }
   ],
   "source": [
    "# Instatiating the class\n",
    "explorer = DataExplorer(merged_df)\n",
    "\n",
    "# Check the head of the dataset\n",
    "print(\"Head of the dataset:\")\n",
    "print(explorer.check_head())\n",
    "\n",
    "# Check dataset info\n",
    "print(\"\\nDataset info:\")\n",
    "explorer.check_info()\n",
    "\n",
    "# Check dataset description\n",
    "print(\"\\nDataset statistics:\")\n",
    "print(explorer.check_describe())"
   ]
  },
  {
   "cell_type": "markdown",
   "metadata": {},
   "source": [
    "# Data Cleaning"
   ]
  },
  {
   "cell_type": "markdown",
   "metadata": {},
   "source": [
    "This section prepares the data for EDA and modeling. The dataset will be checked for:\n",
    "\n",
    "- duplicated rows\n",
    "- missing values\n",
    "- extracting release year from title"
   ]
  },
  {
   "cell_type": "code",
   "execution_count": 57,
   "metadata": {},
   "outputs": [
    {
     "data": {
      "text/plain": [
       "movieId        0\n",
       "title          0\n",
       "genres         0\n",
       "userId_x       0\n",
       "tag            0\n",
       "timestamp_x    0\n",
       "userId_y       0\n",
       "rating         0\n",
       "timestamp_y    0\n",
       "dtype: int64"
      ]
     },
     "execution_count": 57,
     "metadata": {},
     "output_type": "execute_result"
    }
   ],
   "source": [
    "# Checking for missing values in the dataset\n",
    "merged_df.isnull().sum()"
   ]
  },
  {
   "cell_type": "markdown",
   "metadata": {},
   "source": [
    "The data has a no missing values."
   ]
  },
  {
   "cell_type": "code",
   "execution_count": 58,
   "metadata": {},
   "outputs": [
    {
     "data": {
      "text/html": [
       "<div>\n",
       "<style scoped>\n",
       "    .dataframe tbody tr th:only-of-type {\n",
       "        vertical-align: middle;\n",
       "    }\n",
       "\n",
       "    .dataframe tbody tr th {\n",
       "        vertical-align: top;\n",
       "    }\n",
       "\n",
       "    .dataframe thead th {\n",
       "        text-align: right;\n",
       "    }\n",
       "</style>\n",
       "<table border=\"1\" class=\"dataframe\">\n",
       "  <thead>\n",
       "    <tr style=\"text-align: right;\">\n",
       "      <th></th>\n",
       "      <th>movieId</th>\n",
       "      <th>title</th>\n",
       "      <th>genres</th>\n",
       "      <th>userId_x</th>\n",
       "      <th>tag</th>\n",
       "      <th>timestamp_x</th>\n",
       "      <th>userId_y</th>\n",
       "      <th>rating</th>\n",
       "      <th>timestamp_y</th>\n",
       "    </tr>\n",
       "  </thead>\n",
       "  <tbody>\n",
       "    <tr>\n",
       "      <th>0</th>\n",
       "      <td>1</td>\n",
       "      <td>Toy Story (1995)</td>\n",
       "      <td>Adventure|Animation|Children|Comedy|Fantasy</td>\n",
       "      <td>336</td>\n",
       "      <td>pixar</td>\n",
       "      <td>1139045764</td>\n",
       "      <td>1</td>\n",
       "      <td>4.0</td>\n",
       "      <td>964982703</td>\n",
       "    </tr>\n",
       "    <tr>\n",
       "      <th>1</th>\n",
       "      <td>1</td>\n",
       "      <td>Toy Story (1995)</td>\n",
       "      <td>Adventure|Animation|Children|Comedy|Fantasy</td>\n",
       "      <td>336</td>\n",
       "      <td>pixar</td>\n",
       "      <td>1139045764</td>\n",
       "      <td>5</td>\n",
       "      <td>4.0</td>\n",
       "      <td>847434962</td>\n",
       "    </tr>\n",
       "    <tr>\n",
       "      <th>2</th>\n",
       "      <td>1</td>\n",
       "      <td>Toy Story (1995)</td>\n",
       "      <td>Adventure|Animation|Children|Comedy|Fantasy</td>\n",
       "      <td>336</td>\n",
       "      <td>pixar</td>\n",
       "      <td>1139045764</td>\n",
       "      <td>7</td>\n",
       "      <td>4.5</td>\n",
       "      <td>1106635946</td>\n",
       "    </tr>\n",
       "    <tr>\n",
       "      <th>3</th>\n",
       "      <td>1</td>\n",
       "      <td>Toy Story (1995)</td>\n",
       "      <td>Adventure|Animation|Children|Comedy|Fantasy</td>\n",
       "      <td>336</td>\n",
       "      <td>pixar</td>\n",
       "      <td>1139045764</td>\n",
       "      <td>15</td>\n",
       "      <td>2.5</td>\n",
       "      <td>1510577970</td>\n",
       "    </tr>\n",
       "    <tr>\n",
       "      <th>4</th>\n",
       "      <td>1</td>\n",
       "      <td>Toy Story (1995)</td>\n",
       "      <td>Adventure|Animation|Children|Comedy|Fantasy</td>\n",
       "      <td>336</td>\n",
       "      <td>pixar</td>\n",
       "      <td>1139045764</td>\n",
       "      <td>17</td>\n",
       "      <td>4.5</td>\n",
       "      <td>1305696483</td>\n",
       "    </tr>\n",
       "  </tbody>\n",
       "</table>\n",
       "</div>"
      ],
      "text/plain": [
       "   movieId             title                                       genres  \\\n",
       "0        1  Toy Story (1995)  Adventure|Animation|Children|Comedy|Fantasy   \n",
       "1        1  Toy Story (1995)  Adventure|Animation|Children|Comedy|Fantasy   \n",
       "2        1  Toy Story (1995)  Adventure|Animation|Children|Comedy|Fantasy   \n",
       "3        1  Toy Story (1995)  Adventure|Animation|Children|Comedy|Fantasy   \n",
       "4        1  Toy Story (1995)  Adventure|Animation|Children|Comedy|Fantasy   \n",
       "\n",
       "   userId_x    tag  timestamp_x  userId_y  rating  timestamp_y  \n",
       "0       336  pixar   1139045764         1     4.0    964982703  \n",
       "1       336  pixar   1139045764         5     4.0    847434962  \n",
       "2       336  pixar   1139045764         7     4.5   1106635946  \n",
       "3       336  pixar   1139045764        15     2.5   1510577970  \n",
       "4       336  pixar   1139045764        17     4.5   1305696483  "
      ]
     },
     "execution_count": 58,
     "metadata": {},
     "output_type": "execute_result"
    }
   ],
   "source": [
    "merged_df.head()"
   ]
  },
  {
   "cell_type": "code",
   "execution_count": 59,
   "metadata": {},
   "outputs": [
    {
     "data": {
      "text/html": [
       "<div>\n",
       "<style scoped>\n",
       "    .dataframe tbody tr th:only-of-type {\n",
       "        vertical-align: middle;\n",
       "    }\n",
       "\n",
       "    .dataframe tbody tr th {\n",
       "        vertical-align: top;\n",
       "    }\n",
       "\n",
       "    .dataframe thead th {\n",
       "        text-align: right;\n",
       "    }\n",
       "</style>\n",
       "<table border=\"1\" class=\"dataframe\">\n",
       "  <thead>\n",
       "    <tr style=\"text-align: right;\">\n",
       "      <th></th>\n",
       "      <th>movieId</th>\n",
       "      <th>title</th>\n",
       "      <th>genres</th>\n",
       "      <th>userId_x</th>\n",
       "      <th>tag</th>\n",
       "      <th>timestamp_x</th>\n",
       "      <th>userId_y</th>\n",
       "      <th>rating</th>\n",
       "      <th>timestamp_y</th>\n",
       "      <th>year</th>\n",
       "    </tr>\n",
       "  </thead>\n",
       "  <tbody>\n",
       "    <tr>\n",
       "      <th>0</th>\n",
       "      <td>1</td>\n",
       "      <td>Toy Story</td>\n",
       "      <td>Adventure|Animation|Children|Comedy|Fantasy</td>\n",
       "      <td>336</td>\n",
       "      <td>pixar</td>\n",
       "      <td>1139045764</td>\n",
       "      <td>1</td>\n",
       "      <td>4.0</td>\n",
       "      <td>964982703</td>\n",
       "      <td>1995</td>\n",
       "    </tr>\n",
       "    <tr>\n",
       "      <th>1</th>\n",
       "      <td>1</td>\n",
       "      <td>Toy Story</td>\n",
       "      <td>Adventure|Animation|Children|Comedy|Fantasy</td>\n",
       "      <td>336</td>\n",
       "      <td>pixar</td>\n",
       "      <td>1139045764</td>\n",
       "      <td>5</td>\n",
       "      <td>4.0</td>\n",
       "      <td>847434962</td>\n",
       "      <td>1995</td>\n",
       "    </tr>\n",
       "    <tr>\n",
       "      <th>2</th>\n",
       "      <td>1</td>\n",
       "      <td>Toy Story</td>\n",
       "      <td>Adventure|Animation|Children|Comedy|Fantasy</td>\n",
       "      <td>336</td>\n",
       "      <td>pixar</td>\n",
       "      <td>1139045764</td>\n",
       "      <td>7</td>\n",
       "      <td>4.5</td>\n",
       "      <td>1106635946</td>\n",
       "      <td>1995</td>\n",
       "    </tr>\n",
       "    <tr>\n",
       "      <th>3</th>\n",
       "      <td>1</td>\n",
       "      <td>Toy Story</td>\n",
       "      <td>Adventure|Animation|Children|Comedy|Fantasy</td>\n",
       "      <td>336</td>\n",
       "      <td>pixar</td>\n",
       "      <td>1139045764</td>\n",
       "      <td>15</td>\n",
       "      <td>2.5</td>\n",
       "      <td>1510577970</td>\n",
       "      <td>1995</td>\n",
       "    </tr>\n",
       "    <tr>\n",
       "      <th>4</th>\n",
       "      <td>1</td>\n",
       "      <td>Toy Story</td>\n",
       "      <td>Adventure|Animation|Children|Comedy|Fantasy</td>\n",
       "      <td>336</td>\n",
       "      <td>pixar</td>\n",
       "      <td>1139045764</td>\n",
       "      <td>17</td>\n",
       "      <td>4.5</td>\n",
       "      <td>1305696483</td>\n",
       "      <td>1995</td>\n",
       "    </tr>\n",
       "  </tbody>\n",
       "</table>\n",
       "</div>"
      ],
      "text/plain": [
       "   movieId      title                                       genres  userId_x  \\\n",
       "0        1  Toy Story  Adventure|Animation|Children|Comedy|Fantasy       336   \n",
       "1        1  Toy Story  Adventure|Animation|Children|Comedy|Fantasy       336   \n",
       "2        1  Toy Story  Adventure|Animation|Children|Comedy|Fantasy       336   \n",
       "3        1  Toy Story  Adventure|Animation|Children|Comedy|Fantasy       336   \n",
       "4        1  Toy Story  Adventure|Animation|Children|Comedy|Fantasy       336   \n",
       "\n",
       "     tag  timestamp_x  userId_y  rating  timestamp_y  year  \n",
       "0  pixar   1139045764         1     4.0    964982703  1995  \n",
       "1  pixar   1139045764         5     4.0    847434962  1995  \n",
       "2  pixar   1139045764         7     4.5   1106635946  1995  \n",
       "3  pixar   1139045764        15     2.5   1510577970  1995  \n",
       "4  pixar   1139045764        17     4.5   1305696483  1995  "
      ]
     },
     "execution_count": 59,
     "metadata": {},
     "output_type": "execute_result"
    }
   ],
   "source": [
    "# Function to extract the year from the title\n",
    "def extract_year(title):\n",
    "    match = re.search(r'\\((\\d{4})\\)', title)\n",
    "    return match.group(1) if match else None\n",
    "\n",
    "# Apply the function to create a new 'year' column\n",
    "merged_df['year'] = merged_df['title'].apply(extract_year)\n",
    "\n",
    "# Remove the year from the 'title' column\n",
    "merged_df['title'] = merged_df['title'].str.replace(r'\\s*\\(\\d{4}\\)', '', regex=True)\n",
    "\n",
    "# Display the updated DataFram\n",
    "merged_df.head()"
   ]
  },
  {
   "cell_type": "code",
   "execution_count": 60,
   "metadata": {},
   "outputs": [
    {
     "data": {
      "text/html": [
       "<div>\n",
       "<style scoped>\n",
       "    .dataframe tbody tr th:only-of-type {\n",
       "        vertical-align: middle;\n",
       "    }\n",
       "\n",
       "    .dataframe tbody tr th {\n",
       "        vertical-align: top;\n",
       "    }\n",
       "\n",
       "    .dataframe thead th {\n",
       "        text-align: right;\n",
       "    }\n",
       "</style>\n",
       "<table border=\"1\" class=\"dataframe\">\n",
       "  <thead>\n",
       "    <tr style=\"text-align: right;\">\n",
       "      <th></th>\n",
       "      <th>movieId</th>\n",
       "      <th>title</th>\n",
       "      <th>genres</th>\n",
       "      <th>userId_x</th>\n",
       "      <th>tag</th>\n",
       "      <th>timestamp_x</th>\n",
       "      <th>userId_y</th>\n",
       "      <th>rating</th>\n",
       "      <th>timestamp_y</th>\n",
       "      <th>year</th>\n",
       "    </tr>\n",
       "  </thead>\n",
       "  <tbody>\n",
       "    <tr>\n",
       "      <th>0</th>\n",
       "      <td>1</td>\n",
       "      <td>Toy Story</td>\n",
       "      <td>Adventure|Animation|Children|Comedy|Fantasy</td>\n",
       "      <td>336</td>\n",
       "      <td>pixar</td>\n",
       "      <td>1139045764</td>\n",
       "      <td>1</td>\n",
       "      <td>4.0</td>\n",
       "      <td>964982703</td>\n",
       "      <td>1995</td>\n",
       "    </tr>\n",
       "    <tr>\n",
       "      <th>1</th>\n",
       "      <td>1</td>\n",
       "      <td>Toy Story</td>\n",
       "      <td>Adventure|Animation|Children|Comedy|Fantasy</td>\n",
       "      <td>336</td>\n",
       "      <td>pixar</td>\n",
       "      <td>1139045764</td>\n",
       "      <td>5</td>\n",
       "      <td>4.0</td>\n",
       "      <td>847434962</td>\n",
       "      <td>1995</td>\n",
       "    </tr>\n",
       "    <tr>\n",
       "      <th>2</th>\n",
       "      <td>1</td>\n",
       "      <td>Toy Story</td>\n",
       "      <td>Adventure|Animation|Children|Comedy|Fantasy</td>\n",
       "      <td>336</td>\n",
       "      <td>pixar</td>\n",
       "      <td>1139045764</td>\n",
       "      <td>7</td>\n",
       "      <td>4.5</td>\n",
       "      <td>1106635946</td>\n",
       "      <td>1995</td>\n",
       "    </tr>\n",
       "    <tr>\n",
       "      <th>3</th>\n",
       "      <td>1</td>\n",
       "      <td>Toy Story</td>\n",
       "      <td>Adventure|Animation|Children|Comedy|Fantasy</td>\n",
       "      <td>336</td>\n",
       "      <td>pixar</td>\n",
       "      <td>1139045764</td>\n",
       "      <td>15</td>\n",
       "      <td>2.5</td>\n",
       "      <td>1510577970</td>\n",
       "      <td>1995</td>\n",
       "    </tr>\n",
       "    <tr>\n",
       "      <th>4</th>\n",
       "      <td>1</td>\n",
       "      <td>Toy Story</td>\n",
       "      <td>Adventure|Animation|Children|Comedy|Fantasy</td>\n",
       "      <td>336</td>\n",
       "      <td>pixar</td>\n",
       "      <td>1139045764</td>\n",
       "      <td>17</td>\n",
       "      <td>4.5</td>\n",
       "      <td>1305696483</td>\n",
       "      <td>1995</td>\n",
       "    </tr>\n",
       "  </tbody>\n",
       "</table>\n",
       "</div>"
      ],
      "text/plain": [
       "   movieId      title                                       genres  userId_x  \\\n",
       "0        1  Toy Story  Adventure|Animation|Children|Comedy|Fantasy       336   \n",
       "1        1  Toy Story  Adventure|Animation|Children|Comedy|Fantasy       336   \n",
       "2        1  Toy Story  Adventure|Animation|Children|Comedy|Fantasy       336   \n",
       "3        1  Toy Story  Adventure|Animation|Children|Comedy|Fantasy       336   \n",
       "4        1  Toy Story  Adventure|Animation|Children|Comedy|Fantasy       336   \n",
       "\n",
       "     tag  timestamp_x  userId_y  rating  timestamp_y  year  \n",
       "0  pixar   1139045764         1     4.0    964982703  1995  \n",
       "1  pixar   1139045764         5     4.0    847434962  1995  \n",
       "2  pixar   1139045764         7     4.5   1106635946  1995  \n",
       "3  pixar   1139045764        15     2.5   1510577970  1995  \n",
       "4  pixar   1139045764        17     4.5   1305696483  1995  "
      ]
     },
     "execution_count": 60,
     "metadata": {},
     "output_type": "execute_result"
    }
   ],
   "source": [
    "# # Split the genres column into a list of genres\n",
    "# merged_df['genres'] = merged_df['genres'].str.split('|')\n",
    "merged_df = merged_df.explode('genres')\n",
    "\n",
    "# Display the updated DataFrame\n",
    "merged_df.head()"
   ]
  },
  {
   "cell_type": "code",
   "execution_count": 61,
   "metadata": {},
   "outputs": [
    {
     "name": "stdout",
     "output_type": "stream",
     "text": [
      "Rows with null values in the 'genres' column:\n",
      "Empty DataFrame\n",
      "Columns: [movieId, title, genres, userId_x, tag, timestamp_x, userId_y, rating, timestamp_y, year]\n",
      "Index: []\n"
     ]
    }
   ],
   "source": [
    "# Check for null values within the lists in the 'genres' column\n",
    "null_values_in_genres = merged_df['genres'].apply(lambda x: any(pd.isnull(i) for i in x))\n",
    "\n",
    "# Display the rows where null values are present in the 'genres' column\n",
    "rows_with_null_values = merged_df[null_values_in_genres]\n",
    "print(\"Rows with null values in the 'genres' column:\")\n",
    "print(rows_with_null_values)"
   ]
  },
  {
   "cell_type": "markdown",
   "metadata": {},
   "source": [
    "The genre column has no missing values"
   ]
  },
  {
   "cell_type": "code",
   "execution_count": 62,
   "metadata": {},
   "outputs": [
    {
     "data": {
      "text/html": [
       "<div>\n",
       "<style scoped>\n",
       "    .dataframe tbody tr th:only-of-type {\n",
       "        vertical-align: middle;\n",
       "    }\n",
       "\n",
       "    .dataframe tbody tr th {\n",
       "        vertical-align: top;\n",
       "    }\n",
       "\n",
       "    .dataframe thead th {\n",
       "        text-align: right;\n",
       "    }\n",
       "</style>\n",
       "<table border=\"1\" class=\"dataframe\">\n",
       "  <thead>\n",
       "    <tr style=\"text-align: right;\">\n",
       "      <th></th>\n",
       "      <th>movieId</th>\n",
       "      <th>title</th>\n",
       "      <th>genres</th>\n",
       "      <th>userId_x</th>\n",
       "      <th>tag</th>\n",
       "      <th>timestamp_x</th>\n",
       "      <th>userId_y</th>\n",
       "      <th>rating</th>\n",
       "      <th>timestamp_y</th>\n",
       "      <th>year</th>\n",
       "    </tr>\n",
       "  </thead>\n",
       "  <tbody>\n",
       "    <tr>\n",
       "      <th>0</th>\n",
       "      <td>1</td>\n",
       "      <td>Toy Story</td>\n",
       "      <td>Adventure|Animation|Children|Comedy|Fantasy</td>\n",
       "      <td>336</td>\n",
       "      <td>pixar</td>\n",
       "      <td>1139045764</td>\n",
       "      <td>1</td>\n",
       "      <td>4.0</td>\n",
       "      <td>964982703</td>\n",
       "      <td>1995.0</td>\n",
       "    </tr>\n",
       "    <tr>\n",
       "      <th>1</th>\n",
       "      <td>1</td>\n",
       "      <td>Toy Story</td>\n",
       "      <td>Adventure|Animation|Children|Comedy|Fantasy</td>\n",
       "      <td>336</td>\n",
       "      <td>pixar</td>\n",
       "      <td>1139045764</td>\n",
       "      <td>5</td>\n",
       "      <td>4.0</td>\n",
       "      <td>847434962</td>\n",
       "      <td>1995.0</td>\n",
       "    </tr>\n",
       "    <tr>\n",
       "      <th>2</th>\n",
       "      <td>1</td>\n",
       "      <td>Toy Story</td>\n",
       "      <td>Adventure|Animation|Children|Comedy|Fantasy</td>\n",
       "      <td>336</td>\n",
       "      <td>pixar</td>\n",
       "      <td>1139045764</td>\n",
       "      <td>7</td>\n",
       "      <td>4.5</td>\n",
       "      <td>1106635946</td>\n",
       "      <td>1995.0</td>\n",
       "    </tr>\n",
       "    <tr>\n",
       "      <th>3</th>\n",
       "      <td>1</td>\n",
       "      <td>Toy Story</td>\n",
       "      <td>Adventure|Animation|Children|Comedy|Fantasy</td>\n",
       "      <td>336</td>\n",
       "      <td>pixar</td>\n",
       "      <td>1139045764</td>\n",
       "      <td>15</td>\n",
       "      <td>2.5</td>\n",
       "      <td>1510577970</td>\n",
       "      <td>1995.0</td>\n",
       "    </tr>\n",
       "    <tr>\n",
       "      <th>4</th>\n",
       "      <td>1</td>\n",
       "      <td>Toy Story</td>\n",
       "      <td>Adventure|Animation|Children|Comedy|Fantasy</td>\n",
       "      <td>336</td>\n",
       "      <td>pixar</td>\n",
       "      <td>1139045764</td>\n",
       "      <td>17</td>\n",
       "      <td>4.5</td>\n",
       "      <td>1305696483</td>\n",
       "      <td>1995.0</td>\n",
       "    </tr>\n",
       "  </tbody>\n",
       "</table>\n",
       "</div>"
      ],
      "text/plain": [
       "   movieId      title                                       genres  userId_x  \\\n",
       "0        1  Toy Story  Adventure|Animation|Children|Comedy|Fantasy       336   \n",
       "1        1  Toy Story  Adventure|Animation|Children|Comedy|Fantasy       336   \n",
       "2        1  Toy Story  Adventure|Animation|Children|Comedy|Fantasy       336   \n",
       "3        1  Toy Story  Adventure|Animation|Children|Comedy|Fantasy       336   \n",
       "4        1  Toy Story  Adventure|Animation|Children|Comedy|Fantasy       336   \n",
       "\n",
       "     tag  timestamp_x  userId_y  rating  timestamp_y    year  \n",
       "0  pixar   1139045764         1     4.0    964982703  1995.0  \n",
       "1  pixar   1139045764         5     4.0    847434962  1995.0  \n",
       "2  pixar   1139045764         7     4.5   1106635946  1995.0  \n",
       "3  pixar   1139045764        15     2.5   1510577970  1995.0  \n",
       "4  pixar   1139045764        17     4.5   1305696483  1995.0  "
      ]
     },
     "execution_count": 62,
     "metadata": {},
     "output_type": "execute_result"
    }
   ],
   "source": [
    "# Converting year to date-time format\n",
    "merged_df['year'] = pd.to_datetime(merged_df['year'])\n",
    "# Keeping the year only\n",
    "merged_df['year'] = merged_df['year'].dt.year\n",
    "# previewing the changes\n",
    "merged_df.head()"
   ]
  },
  {
   "cell_type": "markdown",
   "metadata": {},
   "source": [
    "# Explarotary Data Analysis"
   ]
  },
  {
   "cell_type": "markdown",
   "metadata": {},
   "source": [
    "### Univariate Analysis"
   ]
  },
  {
   "cell_type": "code",
   "execution_count": 63,
   "metadata": {},
   "outputs": [
    {
     "data": {
      "text/html": [
       "<div>\n",
       "<style scoped>\n",
       "    .dataframe tbody tr th:only-of-type {\n",
       "        vertical-align: middle;\n",
       "    }\n",
       "\n",
       "    .dataframe tbody tr th {\n",
       "        vertical-align: top;\n",
       "    }\n",
       "\n",
       "    .dataframe thead th {\n",
       "        text-align: right;\n",
       "    }\n",
       "</style>\n",
       "<table border=\"1\" class=\"dataframe\">\n",
       "  <thead>\n",
       "    <tr style=\"text-align: right;\">\n",
       "      <th></th>\n",
       "      <th>count</th>\n",
       "      <th>mean</th>\n",
       "      <th>std</th>\n",
       "      <th>min</th>\n",
       "      <th>25%</th>\n",
       "      <th>50%</th>\n",
       "      <th>75%</th>\n",
       "      <th>max</th>\n",
       "    </tr>\n",
       "  </thead>\n",
       "  <tbody>\n",
       "    <tr>\n",
       "      <th>movieId</th>\n",
       "      <td>233213.0</td>\n",
       "      <td>1.232000e+04</td>\n",
       "      <td>2.824392e+04</td>\n",
       "      <td>1.000000e+00</td>\n",
       "      <td>2.960000e+02</td>\n",
       "      <td>1.198000e+03</td>\n",
       "      <td>4.638000e+03</td>\n",
       "      <td>1.935650e+05</td>\n",
       "    </tr>\n",
       "    <tr>\n",
       "      <th>userId_x</th>\n",
       "      <td>233213.0</td>\n",
       "      <td>4.706836e+02</td>\n",
       "      <td>1.533296e+02</td>\n",
       "      <td>2.000000e+00</td>\n",
       "      <td>4.240000e+02</td>\n",
       "      <td>4.770000e+02</td>\n",
       "      <td>5.990000e+02</td>\n",
       "      <td>6.100000e+02</td>\n",
       "    </tr>\n",
       "    <tr>\n",
       "      <th>timestamp_x</th>\n",
       "      <td>233213.0</td>\n",
       "      <td>1.384774e+09</td>\n",
       "      <td>1.534621e+08</td>\n",
       "      <td>1.137179e+09</td>\n",
       "      <td>1.242494e+09</td>\n",
       "      <td>1.457901e+09</td>\n",
       "      <td>1.498457e+09</td>\n",
       "      <td>1.537099e+09</td>\n",
       "    </tr>\n",
       "    <tr>\n",
       "      <th>userId_y</th>\n",
       "      <td>233213.0</td>\n",
       "      <td>3.096882e+02</td>\n",
       "      <td>1.782064e+02</td>\n",
       "      <td>1.000000e+00</td>\n",
       "      <td>1.560000e+02</td>\n",
       "      <td>3.090000e+02</td>\n",
       "      <td>4.600000e+02</td>\n",
       "      <td>6.100000e+02</td>\n",
       "    </tr>\n",
       "    <tr>\n",
       "      <th>rating</th>\n",
       "      <td>233213.0</td>\n",
       "      <td>3.966535e+00</td>\n",
       "      <td>9.686373e-01</td>\n",
       "      <td>5.000000e-01</td>\n",
       "      <td>3.500000e+00</td>\n",
       "      <td>4.000000e+00</td>\n",
       "      <td>5.000000e+00</td>\n",
       "      <td>5.000000e+00</td>\n",
       "    </tr>\n",
       "    <tr>\n",
       "      <th>timestamp_y</th>\n",
       "      <td>233213.0</td>\n",
       "      <td>1.213524e+09</td>\n",
       "      <td>2.250448e+08</td>\n",
       "      <td>8.281246e+08</td>\n",
       "      <td>1.017365e+09</td>\n",
       "      <td>1.217325e+09</td>\n",
       "      <td>1.443201e+09</td>\n",
       "      <td>1.537799e+09</td>\n",
       "    </tr>\n",
       "    <tr>\n",
       "      <th>year</th>\n",
       "      <td>233210.0</td>\n",
       "      <td>1.994435e+03</td>\n",
       "      <td>1.171456e+01</td>\n",
       "      <td>1.921000e+03</td>\n",
       "      <td>1.994000e+03</td>\n",
       "      <td>1.994000e+03</td>\n",
       "      <td>2.000000e+03</td>\n",
       "      <td>2.018000e+03</td>\n",
       "    </tr>\n",
       "  </tbody>\n",
       "</table>\n",
       "</div>"
      ],
      "text/plain": [
       "                count          mean           std           min           25%  \\\n",
       "movieId      233213.0  1.232000e+04  2.824392e+04  1.000000e+00  2.960000e+02   \n",
       "userId_x     233213.0  4.706836e+02  1.533296e+02  2.000000e+00  4.240000e+02   \n",
       "timestamp_x  233213.0  1.384774e+09  1.534621e+08  1.137179e+09  1.242494e+09   \n",
       "userId_y     233213.0  3.096882e+02  1.782064e+02  1.000000e+00  1.560000e+02   \n",
       "rating       233213.0  3.966535e+00  9.686373e-01  5.000000e-01  3.500000e+00   \n",
       "timestamp_y  233213.0  1.213524e+09  2.250448e+08  8.281246e+08  1.017365e+09   \n",
       "year         233210.0  1.994435e+03  1.171456e+01  1.921000e+03  1.994000e+03   \n",
       "\n",
       "                      50%           75%           max  \n",
       "movieId      1.198000e+03  4.638000e+03  1.935650e+05  \n",
       "userId_x     4.770000e+02  5.990000e+02  6.100000e+02  \n",
       "timestamp_x  1.457901e+09  1.498457e+09  1.537099e+09  \n",
       "userId_y     3.090000e+02  4.600000e+02  6.100000e+02  \n",
       "rating       4.000000e+00  5.000000e+00  5.000000e+00  \n",
       "timestamp_y  1.217325e+09  1.443201e+09  1.537799e+09  \n",
       "year         1.994000e+03  2.000000e+03  2.018000e+03  "
      ]
     },
     "execution_count": 63,
     "metadata": {},
     "output_type": "execute_result"
    }
   ],
   "source": [
    "# checking summary stats for the dataset\n",
    "merged_df.describe().T"
   ]
  },
  {
   "cell_type": "code",
   "execution_count": 64,
   "metadata": {},
   "outputs": [
    {
     "data": {
      "text/plain": [
       "sci-fi               2527\n",
       "thought-provoking    2487\n",
       "twist ending         2434\n",
       "atmospheric          2227\n",
       "dark comedy          2056\n",
       "                     ... \n",
       "film history            1\n",
       "britpop                 1\n",
       "creativity              1\n",
       "remaster                1\n",
       "deafness                1\n",
       "Name: tag, Length: 1584, dtype: int64"
      ]
     },
     "execution_count": 64,
     "metadata": {},
     "output_type": "execute_result"
    }
   ],
   "source": [
    "# checking values in tag column\n",
    "merged_df['tag'].value_counts()"
   ]
  },
  {
   "cell_type": "code",
   "execution_count": 65,
   "metadata": {},
   "outputs": [
    {
     "data": {
      "image/png": "[encoded data removed]",
      "text/plain": [
       "<Figure size 720x432 with 1 Axes>"
      ]
     },
     "metadata": {
      "needs_background": "light"
     },
     "output_type": "display_data"
    }
   ],
   "source": [
    "# Count the number of ratings for each movie\n",
    "movie_ratings = merged_df['title'].value_counts().head(10)\n",
    "\n",
    "# Plotting the top 10 most viewed movies\n",
    "plt.figure(figsize=(10, 6))\n",
    "sns.barplot(x=movie_ratings.values, y=movie_ratings.index)\n",
    "plt.xlabel('Number of Ratings')\n",
    "plt.ylabel('Movie Title')\n",
    "plt.title('Top 10 Most Viewed Movies')\n",
    "plt.show()\n"
   ]
  },
  {
   "cell_type": "code",
   "execution_count": 66,
   "metadata": {},
   "outputs": [
    {
     "data": {
      "image/png": "[encoded data removed]",
      "text/plain": [
       "<Figure size 720x432 with 1 Axes>"
      ]
     },
     "metadata": {
      "needs_background": "light"
     },
     "output_type": "display_data"
    }
   ],
   "source": [
    "plt.figure(figsize=(10, 6))\n",
    "sns.histplot(merged_df['rating'], kde=True)\n",
    "plt.xlabel('Rating')\n",
    "plt.ylabel('Frequency')\n",
    "plt.title('Distribution of Movie Ratings')\n",
    "plt.show()"
   ]
  },
  {
   "cell_type": "code",
   "execution_count": 67,
   "metadata": {},
   "outputs": [
    {
     "data": {
      "image/png": "[encoded data removed]",
      "text/plain": [
       "<Figure size 720x432 with 1 Axes>"
      ]
     },
     "metadata": {
      "needs_background": "light"
     },
     "output_type": "display_data"
    }
   ],
   "source": [
    "# Plot a bar chart for the top tags\n",
    "tag_counts = merged_df['tag'].value_counts()\n",
    "top_tags = tag_counts.head(10)\n",
    "\n",
    "plt.figure(figsize=(10, 6))\n",
    "top_tags.plot(kind='barh', color='pink')\n",
    "plt.title('Top 10 Tags')\n",
    "plt.xlabel('Number of Occurrences')\n",
    "plt.ylabel('Tags')\n",
    "plt.show()"
   ]
  },
  {
   "cell_type": "code",
   "execution_count": 68,
   "metadata": {},
   "outputs": [
    {
     "data": {
      "text/plain": [
       "{'Adventure': 1263,\n",
       " 'Animation': 611,\n",
       " 'Children': 664,\n",
       " 'Comedy': 3756,\n",
       " 'Fantasy': 779,\n",
       " 'Romance': 1596,\n",
       " 'Drama': 4361,\n",
       " 'Action': 1828,\n",
       " 'Crime': 1199,\n",
       " 'Thriller': 1894,\n",
       " 'Horror': 978,\n",
       " 'Mystery': 573,\n",
       " 'Sci-Fi': 980,\n",
       " 'War': 382,\n",
       " 'Musical': 334,\n",
       " 'Documentary': 440,\n",
       " 'IMAX': 158,\n",
       " 'Western': 167,\n",
       " 'Film-Noir': 87,\n",
       " '(no genres listed)': 34}"
      ]
     },
     "execution_count": 68,
     "metadata": {},
     "output_type": "execute_result"
    }
   ],
   "source": [
    "def find_genres(movies_df):\n",
    "    \"\"\"\n",
    "    Find and count genres in a movies DataFrame.\n",
    "\n",
    "    \"\"\"\n",
    "    genres = {}  # dictionary to store different genre values\n",
    "\n",
    "    for genre in movies_df['genres']:\n",
    "        words = genre.split('|')\n",
    "        for word in words:\n",
    "            genres[word] = genres.get(word, 0) + 1\n",
    "\n",
    "    return genres\n",
    "\n",
    "# usage:\n",
    "genre_counts = find_genres(movies_data)\n",
    "genre_counts"
   ]
  },
  {
   "cell_type": "code",
   "execution_count": 69,
   "metadata": {},
   "outputs": [
    {
     "data": {
      "image/png": "[encoded data removed]",
      "text/plain": [
       "<Figure size 720x432 with 1 Axes>"
      ]
     },
     "metadata": {
      "needs_background": "light"
     },
     "output_type": "display_data"
    }
   ],
   "source": [
    "# Create a DataFrame from the genre_counts dictionary\n",
    "df_plot = pd.DataFrame.from_dict(genre_counts, orient='index', columns=['total']).reset_index()\n",
    "df_plot = df_plot.rename(columns={'index': 'genre'})\n",
    "\n",
    "# Sort the DataFrame by 'total' in descending order\n",
    "df_plot = df_plot.sort_values(by='total', ascending=False)\n",
    "\n",
    "# Set the number of top genres to display\n",
    "top_n_genres = 5\n",
    "\n",
    "# Create the bar plot for the top 5 genres\n",
    "plt.figure(figsize=(10, 6))\n",
    "ax = sns.barplot(data=df_plot.head(top_n_genres), x='genre', y='total', palette=['#06837f', '#02cecb', '#b4ffff', '#f8e16c', '#fed811'])\n",
    "ax.set_title('Top 5 Genres in Movies', fontsize=18, weight='bold')\n",
    "sns.despine()\n",
    "ax.set_xticklabels(ax.get_xticklabels(), rotation=45)\n",
    "\n",
    "plt.show()"
   ]
  },
  {
   "cell_type": "code",
   "execution_count": 70,
   "metadata": {},
   "outputs": [
    {
     "data": {
      "image/png": "[encoded data removed]",
      "text/plain": [
       "<Figure size 1152x720 with 1 Axes>"
      ]
     },
     "metadata": {
      "needs_background": "light"
     },
     "output_type": "display_data"
    }
   ],
   "source": [
    "# Plot a line chart for movie count over the years\n",
    "movie_count_per_year = merged_df['year'].value_counts().sort_index()\n",
    "\n",
    "plt.figure(figsize=(16, 10))\n",
    "movie_count_per_year.plot(kind='line', marker='o', color='blue')\n",
    "plt.title('Movie Count Over Years')\n",
    "plt.xlabel('Year')\n",
    "plt.ylabel('Number of Movies')\n",
    "plt.show()"
   ]
  },
  {
   "cell_type": "code",
   "execution_count": 71,
   "metadata": {},
   "outputs": [],
   "source": [
    "v_rate = dict(merged_df['rating'].value_counts())"
   ]
  },
  {
   "cell_type": "code",
   "execution_count": 72,
   "metadata": {},
   "outputs": [
    {
     "data": {
      "image/png": "[encoded data removed]",
      "text/plain": [
       "<Figure size 432x288 with 1 Axes>"
      ]
     },
     "metadata": {
      "needs_background": "light"
     },
     "output_type": "display_data"
    },
    {
     "data": {
      "text/plain": [
       "<Figure size 1008x576 with 0 Axes>"
      ]
     },
     "metadata": {},
     "output_type": "display_data"
    }
   ],
   "source": [
    "plt.title('Rating')\n",
    "sns.barplot(data=merged_df, x= list(v_rate.keys()),y=list(v_rate.values()))\n",
    "plt.figure(figsize=(14, 8))\n",
    "plt.show()"
   ]
  },
  {
   "cell_type": "markdown",
   "metadata": {},
   "source": [
    "# Bivariate Analysis"
   ]
  },
  {
   "cell_type": "code",
   "execution_count": 73,
   "metadata": {},
   "outputs": [
    {
     "data": {
      "text/plain": [
       "Index(['movieId', 'title', 'genres', 'userId_x', 'tag', 'timestamp_x',\n",
       "       'userId_y', 'rating', 'timestamp_y', 'year'],\n",
       "      dtype='object')"
      ]
     },
     "execution_count": 73,
     "metadata": {},
     "output_type": "execute_result"
    }
   ],
   "source": [
    "merged_df.columns"
   ]
  },
  {
   "cell_type": "code",
   "execution_count": 74,
   "metadata": {},
   "outputs": [
    {
     "data": {
      "text/plain": [
       "userId_y\n",
       "474    2455\n",
       "414    2343\n",
       "599    2100\n",
       "68     1791\n",
       "610    1701\n",
       "       ... \n",
       "406      10\n",
       "499       9\n",
       "207       8\n",
       "578       6\n",
       "175       5\n",
       "Name: rating, Length: 610, dtype: int64"
      ]
     },
     "execution_count": 74,
     "metadata": {},
     "output_type": "execute_result"
    }
   ],
   "source": [
    "#Analysis of rating given by the user \n",
    "no_of_rated_movies_per_user = merged_df.groupby(by='userId_y')['rating'].count().sort_values(ascending=False)\n",
    "no_of_rated_movies_per_user"
   ]
  },
  {
   "cell_type": "code",
   "execution_count": 75,
   "metadata": {},
   "outputs": [
    {
     "data": {
      "text/plain": [
       "count     610.000000\n",
       "mean      382.316393\n",
       "std       365.395411\n",
       "min         5.000000\n",
       "25%       106.500000\n",
       "50%       280.000000\n",
       "75%       525.000000\n",
       "max      2455.000000\n",
       "Name: rating, dtype: float64"
      ]
     },
     "execution_count": 75,
     "metadata": {},
     "output_type": "execute_result"
    }
   ],
   "source": [
    "no_of_rated_movies_per_user.describe()"
   ]
  },
  {
   "cell_type": "code",
   "execution_count": 76,
   "metadata": {},
   "outputs": [
    {
     "data": {
      "image/png": "[encoded data removed]",
      "text/plain": [
       "<Figure size 1080x576 with 2 Axes>"
      ]
     },
     "metadata": {
      "needs_background": "light"
     },
     "output_type": "display_data"
    }
   ],
   "source": [
    "#plot correlation\n",
    "plt.figure(figsize=(15, 8))\n",
    "# Create a mask to display only the upper half of the matrix\n",
    "mask = np.triu(merged_df.corr())\n",
    "sns.heatmap(merged_df.corr(), annot=True, cmap='viridis', mask=mask)\n",
    "plt.show()"
   ]
  },
  {
   "cell_type": "markdown",
   "metadata": {},
   "source": [
    "### Most popular movies by genre"
   ]
  },
  {
   "cell_type": "code",
   "execution_count": 144,
   "metadata": {},
   "outputs": [],
   "source": [
    "# Merge datasets based on movieId\n",
    "movie_ratings = pd.merge(ratings_data, movies_data, on='movieId')\n",
    "\n",
    "# Function to get the most popular movies by genre\n",
    "def get_most_popular_by_genre(genre, top_n=5):\n",
    "    # Filter movies by genre\n",
    "    genre_movies = movie_ratings[movie_ratings['genres'].str.contains(genre, case=False)]\n",
    "\n",
    "    # Calculate average ratings and number of ratings for each movie\n",
    "    genre_movie_stats = genre_movies.groupby('title').agg({'rating': ['mean', 'count']})\n",
    "\n",
    "    # Rename columns for clarity\n",
    "    genre_movie_stats.columns = ['avg_rating', 'num_ratings']\n",
    "\n",
    "    # Sort by average rating and number of ratings\n",
    "    sorted_genre_movies = genre_movie_stats.sort_values(by=['avg_rating', 'num_ratings'], ascending=[False, False])\n",
    "\n",
    "    # Select the top N movies\n",
    "    top_movies = sorted_genre_movies.head(top_n)\n",
    "\n",
    "    return top_movies\n"
   ]
  },
  {
   "cell_type": "code",
   "execution_count": 145,
   "metadata": {},
   "outputs": [
    {
     "data": {
      "text/html": [
       "<div>\n",
       "<style scoped>\n",
       "    .dataframe tbody tr th:only-of-type {\n",
       "        vertical-align: middle;\n",
       "    }\n",
       "\n",
       "    .dataframe tbody tr th {\n",
       "        vertical-align: top;\n",
       "    }\n",
       "\n",
       "    .dataframe thead th {\n",
       "        text-align: right;\n",
       "    }\n",
       "</style>\n",
       "<table border=\"1\" class=\"dataframe\">\n",
       "  <thead>\n",
       "    <tr style=\"text-align: right;\">\n",
       "      <th></th>\n",
       "      <th>avg_rating</th>\n",
       "      <th>num_ratings</th>\n",
       "    </tr>\n",
       "    <tr>\n",
       "      <th>title</th>\n",
       "      <th></th>\n",
       "      <th></th>\n",
       "    </tr>\n",
       "  </thead>\n",
       "  <tbody>\n",
       "    <tr>\n",
       "      <th>Belle époque (1992)</th>\n",
       "      <td>5.0</td>\n",
       "      <td>2</td>\n",
       "    </tr>\n",
       "    <tr>\n",
       "      <th>Jonah Who Will Be 25 in the Year 2000 (Jonas qui aura 25 ans en l'an 2000) (1976)</th>\n",
       "      <td>5.0</td>\n",
       "      <td>2</td>\n",
       "    </tr>\n",
       "    <tr>\n",
       "      <th>Lesson Faust (1994)</th>\n",
       "      <td>5.0</td>\n",
       "      <td>2</td>\n",
       "    </tr>\n",
       "    <tr>\n",
       "      <th>12 Chairs (1976)</th>\n",
       "      <td>5.0</td>\n",
       "      <td>1</td>\n",
       "    </tr>\n",
       "    <tr>\n",
       "      <th>A Flintstones Christmas Carol (1994)</th>\n",
       "      <td>5.0</td>\n",
       "      <td>1</td>\n",
       "    </tr>\n",
       "  </tbody>\n",
       "</table>\n",
       "</div>"
      ],
      "text/plain": [
       "                                                    avg_rating  num_ratings\n",
       "title                                                                      \n",
       "Belle époque (1992)                                        5.0            2\n",
       "Jonah Who Will Be 25 in the Year 2000 (Jonas qu...         5.0            2\n",
       "Lesson Faust (1994)                                        5.0            2\n",
       "12 Chairs (1976)                                           5.0            1\n",
       "A Flintstones Christmas Carol (1994)                       5.0            1"
      ]
     },
     "execution_count": 145,
     "metadata": {},
     "output_type": "execute_result"
    }
   ],
   "source": [
    "get_most_popular_by_genre('Comedy', top_n=5)\n",
    "\n",
    "# Display the result\n",
    "#print(f\"Top 5 Most Popular genre Movies:\")\n",
    "#print(top_action_movies)"
   ]
  },
  {
   "cell_type": "markdown",
   "metadata": {},
   "source": [
    "## Building Recommendation System (Collaborative Filtering using Surprise library)"
   ]
  },
  {
   "cell_type": "code",
   "execution_count": 77,
   "metadata": {},
   "outputs": [],
   "source": [
    "# Building Recommendation System (Collaborative Filtering using Surprise library)\n",
    "from surprise import Reader, Dataset, SVD\n",
    "from surprise.model_selection import cross_validate"
   ]
  },
  {
   "cell_type": "code",
   "execution_count": 78,
   "metadata": {},
   "outputs": [],
   "source": [
    "# Load data for Surprise library\n",
    "reader = Reader()\n",
    "data = Dataset.load_from_df(ratings_data[['userId', 'movieId', 'rating']], reader)"
   ]
  },
  {
   "cell_type": "code",
   "execution_count": 79,
   "metadata": {},
   "outputs": [
    {
     "name": "stdout",
     "output_type": "stream",
     "text": [
      "Evaluating RMSE, MAE of algorithm SVD on 5 split(s).\n",
      "\n",
      "                  Fold 1  Fold 2  Fold 3  Fold 4  Fold 5  Mean    Std     \n",
      "RMSE (testset)    0.8744  0.8745  0.8784  0.8706  0.8712  0.8738  0.0028  \n",
      "MAE (testset)     0.6717  0.6728  0.6744  0.6689  0.6698  0.6715  0.0020  \n",
      "Fit time          4.93    5.01    5.44    5.92    5.19    5.30    0.36    \n",
      "Test time         0.15    0.15    0.25    0.14    0.33    0.20    0.07    \n"
     ]
    },
    {
     "data": {
      "text/plain": [
       "{'test_rmse': array([0.87438012, 0.8744857 , 0.87840906, 0.87059706, 0.87120936]),\n",
       " 'test_mae': array([0.67174845, 0.67282453, 0.67436057, 0.66892498, 0.6698169 ]),\n",
       " 'fit_time': (4.927682161331177,\n",
       "  5.007375955581665,\n",
       "  5.4421374797821045,\n",
       "  5.921461582183838,\n",
       "  5.191859245300293),\n",
       " 'test_time': (0.14975643157958984,\n",
       "  0.14808368682861328,\n",
       "  0.2493150234222412,\n",
       "  0.13961482048034668,\n",
       "  0.32813119888305664)}"
      ]
     },
     "execution_count": 79,
     "metadata": {},
     "output_type": "execute_result"
    }
   ],
   "source": [
    "# Use SVD algorithm\n",
    "svd = SVD()\n",
    "cross_validate(svd, data, measures=['RMSE', 'MAE'], cv=5, verbose=True)"
   ]
  },
  {
   "cell_type": "code",
   "execution_count": 80,
   "metadata": {},
   "outputs": [
    {
     "data": {
      "text/plain": [
       "<surprise.prediction_algorithms.matrix_factorization.SVD at 0x1e773ac16d0>"
      ]
     },
     "execution_count": 80,
     "metadata": {},
     "output_type": "execute_result"
    }
   ],
   "source": [
    "# Train the model on the entire dataset\n",
    "trainset = data.build_full_trainset()\n",
    "svd.fit(trainset)"
   ]
  },
  {
   "cell_type": "code",
   "execution_count": 81,
   "metadata": {},
   "outputs": [],
   "source": [
    "# Make recommendations for a specific user\n",
    "user_id = 7\n",
    "user_movies = ratings_data[ratings_data['userId'] == user_id]['movieId']\n",
    "unrated_movies = movies_data[~movies_data['movieId'].isin(user_movies)]['movieId']\n",
    "\n",
    "# Generate predictions for unrated movies\n",
    "user_predictions = [(movie, svd.predict(user_id, movie).est) for movie in unrated_movies]\n",
    "\n",
    "# Sort predictions by estimated rating\n",
    "sorted_predictions = sorted(user_predictions, key=lambda x: x[1], reverse=True)"
   ]
  },
  {
   "cell_type": "code",
   "execution_count": 82,
   "metadata": {},
   "outputs": [
    {
     "name": "stdout",
     "output_type": "stream",
     "text": [
      "Top 5 Movie Recommendations:\n",
      "Movie: Shining, The (1980), Estimated Rating: 4.521034467146356\n",
      "Movie: Amelie (Fabuleux destin d'Amélie Poulain, Le) (2001), Estimated Rating: 4.2736961206960835\n",
      "Movie: Bridge on the River Kwai, The (1957), Estimated Rating: 4.249641908366097\n",
      "Movie: Princess Bride, The (1987), Estimated Rating: 4.243322639954739\n",
      "Movie: Trainspotting (1996), Estimated Rating: 4.19542632068977\n"
     ]
    }
   ],
   "source": [
    "# Display top 5 movie recommendations\n",
    "top_recommendations = sorted_predictions[:5]\n",
    "print(\"Top 5 Movie Recommendations:\")\n",
    "for movie_id, estimated_rating in top_recommendations:\n",
    "    movie_title = movies_data[movies_data['movieId'] == movie_id]['title'].values[0]\n",
    "    print(f\"Movie: {movie_title}, Estimated Rating: {estimated_rating}\")"
   ]
  },
  {
   "cell_type": "markdown",
   "metadata": {},
   "source": [
    "**CONTENT BASED**"
   ]
  },
  {
   "cell_type": "code",
   "execution_count": 83,
   "metadata": {},
   "outputs": [],
   "source": [
    "from sklearn.feature_extraction.text import TfidfVectorizer\n",
    "from sklearn.metrics.pairwise import cosine_similarity"
   ]
  },
  {
   "cell_type": "code",
   "execution_count": 84,
   "metadata": {},
   "outputs": [],
   "source": [
    "def genres_and_titles_to_string(row):\n",
    "    genres = row['genres'].split('|')\n",
    "    genres = ' '.join(''.join(j) for j in genres)\n",
    "    \n",
    "    title = row['title']\n",
    "    \n",
    "    return \"%s %s\" % (genres, title)"
   ]
  },
  {
   "cell_type": "code",
   "execution_count": 85,
   "metadata": {},
   "outputs": [],
   "source": [
    "movies_data['string'] = movies_data.apply(genres_and_titles_to_string, axis = 1)"
   ]
  },
  {
   "cell_type": "code",
   "execution_count": 86,
   "metadata": {},
   "outputs": [],
   "source": [
    "#create a tf-idf vectorizer object\n",
    "tfidf = TfidfVectorizer(max_features = 200)"
   ]
  },
  {
   "cell_type": "code",
   "execution_count": 87,
   "metadata": {},
   "outputs": [
    {
     "data": {
      "text/plain": [
       "(9742, 200)"
      ]
     },
     "execution_count": 87,
     "metadata": {},
     "output_type": "execute_result"
    }
   ],
   "source": [
    "#create the TF-IDF matrix\n",
    "X = tfidf.fit_transform(movies_data['string'])\n",
    "X.shape"
   ]
  },
  {
   "cell_type": "code",
   "execution_count": 88,
   "metadata": {},
   "outputs": [
    {
     "data": {
      "text/plain": [
       "title\n",
       "Toy Story (1995)                                0\n",
       "Jumanji (1995)                                  1\n",
       "Grumpier Old Men (1995)                         2\n",
       "Waiting to Exhale (1995)                        3\n",
       "Father of the Bride Part II (1995)              4\n",
       "                                             ... \n",
       "Black Butler: Book of the Atlantic (2017)    9737\n",
       "No Game No Life: Zero (2017)                 9738\n",
       "Flint (2017)                                 9739\n",
       "Bungo Stray Dogs: Dead Apple (2018)          9740\n",
       "Andrew Dice Clay: Dice Rules (1991)          9741\n",
       "Length: 9742, dtype: int64"
      ]
     },
     "execution_count": 88,
     "metadata": {},
     "output_type": "execute_result"
    }
   ],
   "source": [
    "movie2idx = pd.Series(movies_data.index, index = movies_data['title'])\n",
    "movie2idx"
   ]
  },
  {
   "cell_type": "code",
   "execution_count": 89,
   "metadata": {},
   "outputs": [],
   "source": [
    "def recommend(movie, K):\n",
    "    #get the row in the df for this movie\n",
    "    idx = movie2idx[movie]\n",
    "    if type(idx) == pd.Series:\n",
    "        idx = idx.iloc[0]\n",
    "        \n",
    "    #calculate the pairwise similarities for this movie:\n",
    "    movie_index = X[idx]\n",
    "    scores = cosine_similarity(movie_index, X)\n",
    "    \n",
    "    #currently the array is 1xN, make it 1D array\n",
    "    scores = scores.flatten()\n",
    "    \n",
    "    #get the indices of the highest scoring movies\n",
    "    recommended_idx = (-scores).argsort()[1:K+1]\n",
    "    \n",
    "    #return the titles of the recommendations\n",
    "    return movies_data['title'].iloc[recommended_idx]"
   ]
  },
  {
   "cell_type": "code",
   "execution_count": 90,
   "metadata": {},
   "outputs": [
    {
     "data": {
      "text/plain": [
       "2355                        Toy Story 2 (1999)\n",
       "12                                Balto (1995)\n",
       "1                               Jumanji (1995)\n",
       "7355                        Toy Story 3 (2010)\n",
       "599     Wallace & Gromit: A Close Shave (1995)\n",
       "209                               Gordy (1995)\n",
       "4604      Ninja Scroll (Jûbei ninpûchô) (1995)\n",
       "Name: title, dtype: object"
      ]
     },
     "execution_count": 90,
     "metadata": {},
     "output_type": "execute_result"
    }
   ],
   "source": [
    "recommend('Toy Story (1995)',7)"
   ]
  },
  {
   "cell_type": "code",
   "execution_count": 91,
   "metadata": {},
   "outputs": [
    {
     "data": {
      "text/html": [
       "<div>\n",
       "<style scoped>\n",
       "    .dataframe tbody tr th:only-of-type {\n",
       "        vertical-align: middle;\n",
       "    }\n",
       "\n",
       "    .dataframe tbody tr th {\n",
       "        vertical-align: top;\n",
       "    }\n",
       "\n",
       "    .dataframe thead th {\n",
       "        text-align: right;\n",
       "    }\n",
       "</style>\n",
       "<table border=\"1\" class=\"dataframe\">\n",
       "  <thead>\n",
       "    <tr style=\"text-align: right;\">\n",
       "      <th></th>\n",
       "      <th>movieId</th>\n",
       "      <th>title</th>\n",
       "      <th>genres</th>\n",
       "      <th>string</th>\n",
       "    </tr>\n",
       "  </thead>\n",
       "  <tbody>\n",
       "    <tr>\n",
       "      <th>4</th>\n",
       "      <td>5</td>\n",
       "      <td>Father of the Bride Part II (1995)</td>\n",
       "      <td>Comedy</td>\n",
       "      <td>Comedy Father of the Bride Part II (1995)</td>\n",
       "    </tr>\n",
       "    <tr>\n",
       "      <th>17</th>\n",
       "      <td>18</td>\n",
       "      <td>Four Rooms (1995)</td>\n",
       "      <td>Comedy</td>\n",
       "      <td>Comedy Four Rooms (1995)</td>\n",
       "    </tr>\n",
       "    <tr>\n",
       "      <th>18</th>\n",
       "      <td>19</td>\n",
       "      <td>Ace Ventura: When Nature Calls (1995)</td>\n",
       "      <td>Comedy</td>\n",
       "      <td>Comedy Ace Ventura: When Nature Calls (1995)</td>\n",
       "    </tr>\n",
       "    <tr>\n",
       "      <th>58</th>\n",
       "      <td>65</td>\n",
       "      <td>Bio-Dome (1996)</td>\n",
       "      <td>Comedy</td>\n",
       "      <td>Comedy Bio-Dome (1996)</td>\n",
       "    </tr>\n",
       "    <tr>\n",
       "      <th>61</th>\n",
       "      <td>69</td>\n",
       "      <td>Friday (1995)</td>\n",
       "      <td>Comedy</td>\n",
       "      <td>Comedy Friday (1995)</td>\n",
       "    </tr>\n",
       "    <tr>\n",
       "      <th>...</th>\n",
       "      <td>...</td>\n",
       "      <td>...</td>\n",
       "      <td>...</td>\n",
       "      <td>...</td>\n",
       "    </tr>\n",
       "    <tr>\n",
       "      <th>9695</th>\n",
       "      <td>184791</td>\n",
       "      <td>Fred Armisen: Standup for Drummers (2018)</td>\n",
       "      <td>Comedy</td>\n",
       "      <td>Comedy Fred Armisen: Standup for Drummers (2018)</td>\n",
       "    </tr>\n",
       "    <tr>\n",
       "      <th>9704</th>\n",
       "      <td>185473</td>\n",
       "      <td>Blockers (2018)</td>\n",
       "      <td>Comedy</td>\n",
       "      <td>Comedy Blockers (2018)</td>\n",
       "    </tr>\n",
       "    <tr>\n",
       "      <th>9716</th>\n",
       "      <td>188797</td>\n",
       "      <td>Tag (2018)</td>\n",
       "      <td>Comedy</td>\n",
       "      <td>Comedy Tag (2018)</td>\n",
       "    </tr>\n",
       "    <tr>\n",
       "      <th>9726</th>\n",
       "      <td>190209</td>\n",
       "      <td>Jeff Ross Roasts the Border (2017)</td>\n",
       "      <td>Comedy</td>\n",
       "      <td>Comedy Jeff Ross Roasts the Border (2017)</td>\n",
       "    </tr>\n",
       "    <tr>\n",
       "      <th>9741</th>\n",
       "      <td>193609</td>\n",
       "      <td>Andrew Dice Clay: Dice Rules (1991)</td>\n",
       "      <td>Comedy</td>\n",
       "      <td>Comedy Andrew Dice Clay: Dice Rules (1991)</td>\n",
       "    </tr>\n",
       "  </tbody>\n",
       "</table>\n",
       "<p>946 rows × 4 columns</p>\n",
       "</div>"
      ],
      "text/plain": [
       "      movieId                                      title  genres  \\\n",
       "4           5         Father of the Bride Part II (1995)  Comedy   \n",
       "17         18                          Four Rooms (1995)  Comedy   \n",
       "18         19      Ace Ventura: When Nature Calls (1995)  Comedy   \n",
       "58         65                            Bio-Dome (1996)  Comedy   \n",
       "61         69                              Friday (1995)  Comedy   \n",
       "...       ...                                        ...     ...   \n",
       "9695   184791  Fred Armisen: Standup for Drummers (2018)  Comedy   \n",
       "9704   185473                            Blockers (2018)  Comedy   \n",
       "9716   188797                                 Tag (2018)  Comedy   \n",
       "9726   190209         Jeff Ross Roasts the Border (2017)  Comedy   \n",
       "9741   193609        Andrew Dice Clay: Dice Rules (1991)  Comedy   \n",
       "\n",
       "                                                string  \n",
       "4            Comedy Father of the Bride Part II (1995)  \n",
       "17                            Comedy Four Rooms (1995)  \n",
       "18        Comedy Ace Ventura: When Nature Calls (1995)  \n",
       "58                              Comedy Bio-Dome (1996)  \n",
       "61                                Comedy Friday (1995)  \n",
       "...                                                ...  \n",
       "9695  Comedy Fred Armisen: Standup for Drummers (2018)  \n",
       "9704                            Comedy Blockers (2018)  \n",
       "9716                                 Comedy Tag (2018)  \n",
       "9726         Comedy Jeff Ross Roasts the Border (2017)  \n",
       "9741        Comedy Andrew Dice Clay: Dice Rules (1991)  \n",
       "\n",
       "[946 rows x 4 columns]"
      ]
     },
     "execution_count": 91,
     "metadata": {},
     "output_type": "execute_result"
    }
   ],
   "source": [
    "movies_data[movies_data['genres']=='Comedy']"
   ]
  },
  {
   "cell_type": "code",
   "execution_count": 92,
   "metadata": {},
   "outputs": [
    {
     "data": {
      "text/plain": [
       "9685    Tom Segura: Disgraceful (2018)\n",
       "9716                        Tag (2018)\n",
       "9718                 Boundaries (2018)\n",
       "9684                The Clapper (2018)\n",
       "9723             BlacKkKlansman (2018)\n",
       "Name: title, dtype: object"
      ]
     },
     "execution_count": 92,
     "metadata": {},
     "output_type": "execute_result"
    }
   ],
   "source": [
    "recommend('Tag (2018)', 5)"
   ]
  },
  {
   "cell_type": "code",
   "execution_count": 93,
   "metadata": {},
   "outputs": [],
   "source": [
    "# # Create a set of English stopwords\n",
    "# stop_words = set(stopwords.words('english'))\n",
    "\n",
    "# # Function that takes in movie title as input and outputs most similar movies\n",
    "# def get_recommendations(title, data_frame):\n",
    "#     # Get the index of the movie that matches the title\n",
    "#     idx = data_frame.index[data_frame['title'] == title][0]\n",
    "\n",
    "#     # Create a TF-IDF vectorizer\n",
    "#     tfidf_vectorizer = TfidfVectorizer(stop_words=stop_words)\n",
    "\n",
    "#     # Fit and transform the movie titles into TF-IDF vectors\n",
    "#     tfidf_matrix = tfidf_vectorizer.fit_transform(data_frame['title'])\n",
    "\n",
    "#     # Get the pairwsie similarity scores of all movies with that movie\n",
    "#     sim_scores = list(enumerate(cosine_similarity(tfidf_matrix, tfidf_matrix[idx])))\n",
    "\n",
    "#     # Sort the movies based on the similarity scores\n",
    "#     sim_scores = sorted(sim_scores, key=lambda x: x[1], reverse=True)\n",
    "\n",
    "#     # Get the scores of the 10 most similar movies\n",
    "#     sim_scores = sim_scores[1:11]\n",
    "\n",
    "#     # Get the movie indices\n",
    "#     movie_indices = [i[0] for i in sim_scores]\n",
    "\n",
    "#     # Return the top 10 most similar movies\n",
    "#     return data_frame['title'].iloc[movie_indices]\n",
    "\n",
    "# recommended_movies = get_recommendations('Toy Story (1995)', movies_data)\n",
    "# print(recommended_movies)"
   ]
  }
 ],
 "metadata": {
  "kernelspec": {
   "display_name": "Python 3",
   "language": "python",
   "name": "python3"
  },
  "language_info": {
   "codemirror_mode": {
    "name": "ipython",
    "version": 3
   },
   "file_extension": ".py",
   "mimetype": "text/x-python",
   "name": "python",
   "nbconvert_exporter": "python",
   "pygments_lexer": "ipython3",
   "version": "3.8.5"
  }
 },
 "nbformat": 4,
 "nbformat_minor": 2
}
